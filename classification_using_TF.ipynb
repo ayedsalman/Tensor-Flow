{
  "nbformat": 4,
  "nbformat_minor": 0,
  "metadata": {
    "colab": {
      "name": "classification using TF.ipynb",
      "provenance": [],
      "authorship_tag": "ABX9TyMdtxxHVjixQQL4QlnqAHXB",
      "include_colab_link": true
    },
    "kernelspec": {
      "name": "python3",
      "display_name": "Python 3"
    }
  },
  "cells": [
    {
      "cell_type": "markdown",
      "metadata": {
        "id": "view-in-github",
        "colab_type": "text"
      },
      "source": [
        "<a href=\"https://colab.research.google.com/github/ayedsalman/Tensor-Flow/blob/master/classification_using_TF.ipynb\" target=\"_parent\"><img src=\"https://colab.research.google.com/assets/colab-badge.svg\" alt=\"Open In Colab\"/></a>"
      ]
    },
    {
      "cell_type": "code",
      "metadata": {
        "id": "ahXFvxfQn2da",
        "colab_type": "code",
        "colab": {
          "base_uri": "https://localhost:8080/",
          "height": 102
        },
        "outputId": "af2a8760-ec34-49c0-9774-f909c2beb553"
      },
      "source": [
        "%tensorflow_version 2.x  # this line is not required unless you are in a notebook\n",
        "\n",
        "from __future__ import absolute_import, division, print_function, unicode_literals\n",
        "\n",
        "\n",
        "import tensorflow as tf\n",
        "\n",
        "import pandas as pd"
      ],
      "execution_count": 7,
      "outputs": [
        {
          "output_type": "stream",
          "text": [
            "`%tensorflow_version` only switches the major version: 1.x or 2.x.\n",
            "You set: `2.x  # this line is not required unless you are in a notebook`. This will be interpreted as: `2.x`.\n",
            "\n",
            "\n",
            "TensorFlow 2.x selected.\n"
          ],
          "name": "stdout"
        }
      ]
    },
    {
      "cell_type": "code",
      "metadata": {
        "id": "hESuG_N9osJ-",
        "colab_type": "code",
        "colab": {}
      },
      "source": [
        "CSV_COLUMN_NAMES = ['SepalLength', 'SepalWidth', 'PetalLength', 'PetalWidth', 'Species']\n",
        "SPECIES = ['Setosa', 'Versicolor', 'Virginica']\n",
        "# Lets define some constants to help us later on"
      ],
      "execution_count": 0,
      "outputs": []
    },
    {
      "cell_type": "code",
      "metadata": {
        "id": "WRDdYDiCo1Dm",
        "colab_type": "code",
        "colab": {
          "base_uri": "https://localhost:8080/",
          "height": 105
        },
        "outputId": "7571ec93-f577-47ed-df69-11adcd66a9ed"
      },
      "source": [
        "train_path = tf.keras.utils.get_file(\n",
        "    \"iris_training.csv\", \"https://storage.googleapis.com/download.tensorflow.org/data/iris_training.csv\")\n",
        "test_path = tf.keras.utils.get_file(\n",
        "    \"iris_test.csv\", \"https://storage.googleapis.com/download.tensorflow.org/data/iris_test.csv\")\n",
        "\n",
        "train = pd.read_csv(train_path, names=CSV_COLUMN_NAMES, header=0)\n",
        "test = pd.read_csv(test_path, names=CSV_COLUMN_NAMES, header=0)\n",
        "# Here we use keras (a module inside of TensorFlow) to grab our datasets and read them into a pandas dataframe"
      ],
      "execution_count": 9,
      "outputs": [
        {
          "output_type": "stream",
          "text": [
            "Downloading data from https://storage.googleapis.com/download.tensorflow.org/data/iris_training.csv\n",
            "8192/2194 [================================================================================================================] - 0s 0us/step\n",
            "Downloading data from https://storage.googleapis.com/download.tensorflow.org/data/iris_test.csv\n",
            "8192/573 [============================================================================================================================================================================================================================================================================================================================================================================================================================================] - 0s 0us/step\n"
          ],
          "name": "stdout"
        }
      ]
    },
    {
      "cell_type": "code",
      "metadata": {
        "id": "2TiEwKS7ssPx",
        "colab_type": "code",
        "colab": {
          "base_uri": "https://localhost:8080/",
          "height": 204
        },
        "outputId": "80987109-cd7f-4ef1-ebea-b430a19f859d"
      },
      "source": [
        "train.head()"
      ],
      "execution_count": 10,
      "outputs": [
        {
          "output_type": "execute_result",
          "data": {
            "text/html": [
              "<div>\n",
              "<style scoped>\n",
              "    .dataframe tbody tr th:only-of-type {\n",
              "        vertical-align: middle;\n",
              "    }\n",
              "\n",
              "    .dataframe tbody tr th {\n",
              "        vertical-align: top;\n",
              "    }\n",
              "\n",
              "    .dataframe thead th {\n",
              "        text-align: right;\n",
              "    }\n",
              "</style>\n",
              "<table border=\"1\" class=\"dataframe\">\n",
              "  <thead>\n",
              "    <tr style=\"text-align: right;\">\n",
              "      <th></th>\n",
              "      <th>SepalLength</th>\n",
              "      <th>SepalWidth</th>\n",
              "      <th>PetalLength</th>\n",
              "      <th>PetalWidth</th>\n",
              "      <th>Species</th>\n",
              "    </tr>\n",
              "  </thead>\n",
              "  <tbody>\n",
              "    <tr>\n",
              "      <th>0</th>\n",
              "      <td>6.4</td>\n",
              "      <td>2.8</td>\n",
              "      <td>5.6</td>\n",
              "      <td>2.2</td>\n",
              "      <td>2</td>\n",
              "    </tr>\n",
              "    <tr>\n",
              "      <th>1</th>\n",
              "      <td>5.0</td>\n",
              "      <td>2.3</td>\n",
              "      <td>3.3</td>\n",
              "      <td>1.0</td>\n",
              "      <td>1</td>\n",
              "    </tr>\n",
              "    <tr>\n",
              "      <th>2</th>\n",
              "      <td>4.9</td>\n",
              "      <td>2.5</td>\n",
              "      <td>4.5</td>\n",
              "      <td>1.7</td>\n",
              "      <td>2</td>\n",
              "    </tr>\n",
              "    <tr>\n",
              "      <th>3</th>\n",
              "      <td>4.9</td>\n",
              "      <td>3.1</td>\n",
              "      <td>1.5</td>\n",
              "      <td>0.1</td>\n",
              "      <td>0</td>\n",
              "    </tr>\n",
              "    <tr>\n",
              "      <th>4</th>\n",
              "      <td>5.7</td>\n",
              "      <td>3.8</td>\n",
              "      <td>1.7</td>\n",
              "      <td>0.3</td>\n",
              "      <td>0</td>\n",
              "    </tr>\n",
              "  </tbody>\n",
              "</table>\n",
              "</div>"
            ],
            "text/plain": [
              "   SepalLength  SepalWidth  PetalLength  PetalWidth  Species\n",
              "0          6.4         2.8          5.6         2.2        2\n",
              "1          5.0         2.3          3.3         1.0        1\n",
              "2          4.9         2.5          4.5         1.7        2\n",
              "3          4.9         3.1          1.5         0.1        0\n",
              "4          5.7         3.8          1.7         0.3        0"
            ]
          },
          "metadata": {
            "tags": []
          },
          "execution_count": 10
        }
      ]
    },
    {
      "cell_type": "code",
      "metadata": {
        "id": "wu02de1XteRb",
        "colab_type": "code",
        "colab": {
          "base_uri": "https://localhost:8080/",
          "height": 204
        },
        "outputId": "049b8567-7e25-4a77-f222-b152ddd14537"
      },
      "source": [
        "train_y = train.pop('Species')\n",
        "test_y = test.pop('Species')\n",
        "train.head() # the species column is now gone"
      ],
      "execution_count": 11,
      "outputs": [
        {
          "output_type": "execute_result",
          "data": {
            "text/html": [
              "<div>\n",
              "<style scoped>\n",
              "    .dataframe tbody tr th:only-of-type {\n",
              "        vertical-align: middle;\n",
              "    }\n",
              "\n",
              "    .dataframe tbody tr th {\n",
              "        vertical-align: top;\n",
              "    }\n",
              "\n",
              "    .dataframe thead th {\n",
              "        text-align: right;\n",
              "    }\n",
              "</style>\n",
              "<table border=\"1\" class=\"dataframe\">\n",
              "  <thead>\n",
              "    <tr style=\"text-align: right;\">\n",
              "      <th></th>\n",
              "      <th>SepalLength</th>\n",
              "      <th>SepalWidth</th>\n",
              "      <th>PetalLength</th>\n",
              "      <th>PetalWidth</th>\n",
              "    </tr>\n",
              "  </thead>\n",
              "  <tbody>\n",
              "    <tr>\n",
              "      <th>0</th>\n",
              "      <td>6.4</td>\n",
              "      <td>2.8</td>\n",
              "      <td>5.6</td>\n",
              "      <td>2.2</td>\n",
              "    </tr>\n",
              "    <tr>\n",
              "      <th>1</th>\n",
              "      <td>5.0</td>\n",
              "      <td>2.3</td>\n",
              "      <td>3.3</td>\n",
              "      <td>1.0</td>\n",
              "    </tr>\n",
              "    <tr>\n",
              "      <th>2</th>\n",
              "      <td>4.9</td>\n",
              "      <td>2.5</td>\n",
              "      <td>4.5</td>\n",
              "      <td>1.7</td>\n",
              "    </tr>\n",
              "    <tr>\n",
              "      <th>3</th>\n",
              "      <td>4.9</td>\n",
              "      <td>3.1</td>\n",
              "      <td>1.5</td>\n",
              "      <td>0.1</td>\n",
              "    </tr>\n",
              "    <tr>\n",
              "      <th>4</th>\n",
              "      <td>5.7</td>\n",
              "      <td>3.8</td>\n",
              "      <td>1.7</td>\n",
              "      <td>0.3</td>\n",
              "    </tr>\n",
              "  </tbody>\n",
              "</table>\n",
              "</div>"
            ],
            "text/plain": [
              "   SepalLength  SepalWidth  PetalLength  PetalWidth\n",
              "0          6.4         2.8          5.6         2.2\n",
              "1          5.0         2.3          3.3         1.0\n",
              "2          4.9         2.5          4.5         1.7\n",
              "3          4.9         3.1          1.5         0.1\n",
              "4          5.7         3.8          1.7         0.3"
            ]
          },
          "metadata": {
            "tags": []
          },
          "execution_count": 11
        }
      ]
    },
    {
      "cell_type": "code",
      "metadata": {
        "id": "tXiAHUUEtvqZ",
        "colab_type": "code",
        "colab": {
          "base_uri": "https://localhost:8080/",
          "height": 34
        },
        "outputId": "e7e06268-5db5-41b9-a3d0-16925b327f9a"
      },
      "source": [
        "train.shape  # we have 120 entires with 4 features\n",
        "\n",
        "test_y.head()\n",
        "\n",
        "train_y.shape"
      ],
      "execution_count": 12,
      "outputs": [
        {
          "output_type": "execute_result",
          "data": {
            "text/plain": [
              "(120,)"
            ]
          },
          "metadata": {
            "tags": []
          },
          "execution_count": 12
        }
      ]
    },
    {
      "cell_type": "code",
      "metadata": {
        "id": "vmEL1UH6uerg",
        "colab_type": "code",
        "colab": {}
      },
      "source": [
        "def input_fn(features, labels, training=True, batch_size=256):\n",
        "    # Convert the inputs to a Dataset.\n",
        "    dataset = tf.data.Dataset.from_tensor_slices((dict(features), labels))\n",
        "\n",
        "    # Shuffle and repeat if you are in training mode.\n",
        "    if training:\n",
        "        dataset = dataset.shuffle(1000).repeat()\n",
        "    \n",
        "    return dataset.batch(batch_size)\n"
      ],
      "execution_count": 0,
      "outputs": []
    },
    {
      "cell_type": "code",
      "metadata": {
        "id": "nwg4JrY0uk-6",
        "colab_type": "code",
        "colab": {
          "base_uri": "https://localhost:8080/",
          "height": 54
        },
        "outputId": "7649e098-4f93-4c43-cc60-21327236feb4"
      },
      "source": [
        "# Feature columns describe how to use the input.\n",
        "my_feature_columns = []\n",
        "for key in train.keys():\n",
        "    my_feature_columns.append(tf.feature_column.numeric_column(key=key))\n",
        "print(my_feature_columns)\n"
      ],
      "execution_count": 14,
      "outputs": [
        {
          "output_type": "stream",
          "text": [
            "[NumericColumn(key='SepalLength', shape=(1,), default_value=None, dtype=tf.float32, normalizer_fn=None), NumericColumn(key='SepalWidth', shape=(1,), default_value=None, dtype=tf.float32, normalizer_fn=None), NumericColumn(key='PetalLength', shape=(1,), default_value=None, dtype=tf.float32, normalizer_fn=None), NumericColumn(key='PetalWidth', shape=(1,), default_value=None, dtype=tf.float32, normalizer_fn=None)]\n"
          ],
          "name": "stdout"
        }
      ]
    },
    {
      "cell_type": "code",
      "metadata": {
        "id": "Dyn_ApUCT273",
        "colab_type": "code",
        "colab": {
          "base_uri": "https://localhost:8080/",
          "height": 190
        },
        "outputId": "cee812d6-c476-42b0-ee73-d5b83aedbd82"
      },
      "source": [
        "# Build a DNN with 2 hidden layers with 30 and 10 hidden nodes each.\n",
        "classifier = tf.estimator.DNNClassifier(\n",
        "    feature_columns=my_feature_columns,\n",
        "    # Two hidden layers of 30 and 10 nodes respectively.\n",
        "    hidden_units=[30, 10, 7, 5],\n",
        "    # The model must choose between 3 classes.\n",
        "    n_classes=3)"
      ],
      "execution_count": 29,
      "outputs": [
        {
          "output_type": "stream",
          "text": [
            "INFO:tensorflow:Using default config.\n",
            "WARNING:tensorflow:Using temporary folder as model directory: /tmp/tmphiak_jtp\n",
            "INFO:tensorflow:Using config: {'_model_dir': '/tmp/tmphiak_jtp', '_tf_random_seed': None, '_save_summary_steps': 100, '_save_checkpoints_steps': None, '_save_checkpoints_secs': 600, '_session_config': allow_soft_placement: true\n",
            "graph_options {\n",
            "  rewrite_options {\n",
            "    meta_optimizer_iterations: ONE\n",
            "  }\n",
            "}\n",
            ", '_keep_checkpoint_max': 5, '_keep_checkpoint_every_n_hours': 10000, '_log_step_count_steps': 100, '_train_distribute': None, '_device_fn': None, '_protocol': None, '_eval_distribute': None, '_experimental_distribute': None, '_experimental_max_worker_delay_secs': None, '_session_creation_timeout_secs': 7200, '_service': None, '_cluster_spec': ClusterSpec({}), '_task_type': 'worker', '_task_id': 0, '_global_id_in_cluster': 0, '_master': '', '_evaluation_master': '', '_is_chief': True, '_num_ps_replicas': 0, '_num_worker_replicas': 1}\n"
          ],
          "name": "stdout"
        }
      ]
    },
    {
      "cell_type": "code",
      "metadata": {
        "id": "YfjtiJJ9dtoF",
        "colab_type": "code",
        "colab": {
          "base_uri": "https://localhost:8080/",
          "height": 1000
        },
        "outputId": "a61ca60d-505f-4e64-c5d4-c498e09396c5"
      },
      "source": [
        "classifier.train(input_fn=lambda: input_fn(train, train_y, training=True), steps=5000)\n",
        "# We include a lambda to avoid creating an inner function previously"
      ],
      "execution_count": 34,
      "outputs": [
        {
          "output_type": "stream",
          "text": [
            "INFO:tensorflow:Calling model_fn.\n",
            "WARNING:tensorflow:Layer dnn is casting an input tensor from dtype float64 to the layer's dtype of float32, which is new behavior in TensorFlow 2.  The layer has dtype float32 because it's dtype defaults to floatx.\n",
            "\n",
            "If you intended to run this layer in float32, you can safely ignore this warning. If in doubt, this warning is likely only an issue if you are porting a TensorFlow 1.X model to TensorFlow 2.\n",
            "\n",
            "To change all layers to have dtype float64 by default, call `tf.keras.backend.set_floatx('float64')`. To change just this layer, pass dtype='float64' to the layer constructor. If you are the author of this layer, you can disable autocasting by passing autocast=False to the base Layer constructor.\n",
            "\n",
            "INFO:tensorflow:Done calling model_fn.\n",
            "INFO:tensorflow:Create CheckpointSaverHook.\n",
            "INFO:tensorflow:Graph was finalized.\n",
            "INFO:tensorflow:Restoring parameters from /tmp/tmphiak_jtp/model.ckpt-10000\n",
            "INFO:tensorflow:Running local_init_op.\n",
            "INFO:tensorflow:Done running local_init_op.\n",
            "INFO:tensorflow:Calling checkpoint listeners before saving checkpoint 10000...\n",
            "INFO:tensorflow:Saving checkpoints for 10000 into /tmp/tmphiak_jtp/model.ckpt.\n",
            "INFO:tensorflow:Calling checkpoint listeners after saving checkpoint 10000...\n",
            "INFO:tensorflow:loss = 0.39422286, step = 10000\n",
            "INFO:tensorflow:global_step/sec: 474.782\n",
            "INFO:tensorflow:loss = 0.36639363, step = 10100 (0.212 sec)\n",
            "INFO:tensorflow:global_step/sec: 646.438\n",
            "INFO:tensorflow:loss = 0.3818075, step = 10200 (0.159 sec)\n",
            "INFO:tensorflow:global_step/sec: 609.636\n",
            "INFO:tensorflow:loss = 0.3833772, step = 10300 (0.160 sec)\n",
            "INFO:tensorflow:global_step/sec: 627.45\n",
            "INFO:tensorflow:loss = 0.3757416, step = 10400 (0.162 sec)\n",
            "INFO:tensorflow:global_step/sec: 583.773\n",
            "INFO:tensorflow:loss = 0.38939852, step = 10500 (0.171 sec)\n",
            "INFO:tensorflow:global_step/sec: 625.23\n",
            "INFO:tensorflow:loss = 0.3713062, step = 10600 (0.160 sec)\n",
            "INFO:tensorflow:global_step/sec: 638.801\n",
            "INFO:tensorflow:loss = 0.3711849, step = 10700 (0.156 sec)\n",
            "INFO:tensorflow:global_step/sec: 643.083\n",
            "INFO:tensorflow:loss = 0.38246807, step = 10800 (0.156 sec)\n",
            "INFO:tensorflow:global_step/sec: 603.954\n",
            "INFO:tensorflow:loss = 0.3698603, step = 10900 (0.163 sec)\n",
            "INFO:tensorflow:global_step/sec: 616.313\n",
            "INFO:tensorflow:loss = 0.3718434, step = 11000 (0.164 sec)\n",
            "INFO:tensorflow:global_step/sec: 648.206\n",
            "INFO:tensorflow:loss = 0.35996193, step = 11100 (0.152 sec)\n",
            "INFO:tensorflow:global_step/sec: 655.364\n",
            "INFO:tensorflow:loss = 0.36002576, step = 11200 (0.155 sec)\n",
            "INFO:tensorflow:global_step/sec: 613.625\n",
            "INFO:tensorflow:loss = 0.34119165, step = 11300 (0.161 sec)\n",
            "INFO:tensorflow:global_step/sec: 653.355\n",
            "INFO:tensorflow:loss = 0.36299485, step = 11400 (0.153 sec)\n",
            "INFO:tensorflow:global_step/sec: 660.976\n",
            "INFO:tensorflow:loss = 0.36206594, step = 11500 (0.153 sec)\n",
            "INFO:tensorflow:global_step/sec: 623.385\n",
            "INFO:tensorflow:loss = 0.3597834, step = 11600 (0.161 sec)\n",
            "INFO:tensorflow:global_step/sec: 590.145\n",
            "INFO:tensorflow:loss = 0.353539, step = 11700 (0.169 sec)\n",
            "INFO:tensorflow:global_step/sec: 630.926\n",
            "INFO:tensorflow:loss = 0.34954584, step = 11800 (0.156 sec)\n",
            "INFO:tensorflow:global_step/sec: 605.297\n",
            "INFO:tensorflow:loss = 0.342651, step = 11900 (0.166 sec)\n",
            "INFO:tensorflow:global_step/sec: 652.571\n",
            "INFO:tensorflow:loss = 0.34528038, step = 12000 (0.155 sec)\n",
            "INFO:tensorflow:global_step/sec: 645.891\n",
            "INFO:tensorflow:loss = 0.34617218, step = 12100 (0.153 sec)\n",
            "INFO:tensorflow:global_step/sec: 653.858\n",
            "INFO:tensorflow:loss = 0.3356768, step = 12200 (0.153 sec)\n",
            "INFO:tensorflow:global_step/sec: 628.583\n",
            "INFO:tensorflow:loss = 0.325017, step = 12300 (0.161 sec)\n",
            "INFO:tensorflow:global_step/sec: 642.417\n",
            "INFO:tensorflow:loss = 0.33709574, step = 12400 (0.156 sec)\n",
            "INFO:tensorflow:global_step/sec: 637.634\n",
            "INFO:tensorflow:loss = 0.3365234, step = 12500 (0.155 sec)\n",
            "INFO:tensorflow:global_step/sec: 655.331\n",
            "INFO:tensorflow:loss = 0.3441465, step = 12600 (0.152 sec)\n",
            "INFO:tensorflow:global_step/sec: 637.667\n",
            "INFO:tensorflow:loss = 0.3283648, step = 12700 (0.159 sec)\n",
            "INFO:tensorflow:global_step/sec: 652.2\n",
            "INFO:tensorflow:loss = 0.31638792, step = 12800 (0.153 sec)\n",
            "INFO:tensorflow:global_step/sec: 621.586\n",
            "INFO:tensorflow:loss = 0.3314446, step = 12900 (0.159 sec)\n",
            "INFO:tensorflow:global_step/sec: 648.122\n",
            "INFO:tensorflow:loss = 0.3185417, step = 13000 (0.154 sec)\n",
            "INFO:tensorflow:global_step/sec: 641.544\n",
            "INFO:tensorflow:loss = 0.3119593, step = 13100 (0.156 sec)\n",
            "INFO:tensorflow:global_step/sec: 552.925\n",
            "INFO:tensorflow:loss = 0.30299228, step = 13200 (0.183 sec)\n",
            "INFO:tensorflow:global_step/sec: 613.059\n",
            "INFO:tensorflow:loss = 0.3137158, step = 13300 (0.163 sec)\n",
            "INFO:tensorflow:global_step/sec: 592.315\n",
            "INFO:tensorflow:loss = 0.31069535, step = 13400 (0.166 sec)\n",
            "INFO:tensorflow:global_step/sec: 656.207\n",
            "INFO:tensorflow:loss = 0.30423167, step = 13500 (0.152 sec)\n",
            "INFO:tensorflow:global_step/sec: 634.461\n",
            "INFO:tensorflow:loss = 0.29280585, step = 13600 (0.158 sec)\n",
            "INFO:tensorflow:global_step/sec: 649.523\n",
            "INFO:tensorflow:loss = 0.2994938, step = 13700 (0.153 sec)\n",
            "INFO:tensorflow:global_step/sec: 631.688\n",
            "INFO:tensorflow:loss = 0.2935537, step = 13800 (0.161 sec)\n",
            "INFO:tensorflow:global_step/sec: 635.704\n",
            "INFO:tensorflow:loss = 0.29579222, step = 13900 (0.155 sec)\n",
            "INFO:tensorflow:global_step/sec: 651.108\n",
            "INFO:tensorflow:loss = 0.29559132, step = 14000 (0.154 sec)\n",
            "INFO:tensorflow:global_step/sec: 647.142\n",
            "INFO:tensorflow:loss = 0.2909289, step = 14100 (0.157 sec)\n",
            "INFO:tensorflow:global_step/sec: 623.207\n",
            "INFO:tensorflow:loss = 0.2861371, step = 14200 (0.161 sec)\n",
            "INFO:tensorflow:global_step/sec: 643.659\n",
            "INFO:tensorflow:loss = 0.27935222, step = 14300 (0.155 sec)\n",
            "INFO:tensorflow:global_step/sec: 636.655\n",
            "INFO:tensorflow:loss = 0.28603667, step = 14400 (0.157 sec)\n",
            "INFO:tensorflow:global_step/sec: 622.66\n",
            "INFO:tensorflow:loss = 0.27792785, step = 14500 (0.161 sec)\n",
            "INFO:tensorflow:global_step/sec: 647.747\n",
            "INFO:tensorflow:loss = 0.29229832, step = 14600 (0.153 sec)\n",
            "INFO:tensorflow:global_step/sec: 623.892\n",
            "INFO:tensorflow:loss = 0.2688929, step = 14700 (0.162 sec)\n",
            "INFO:tensorflow:global_step/sec: 612.745\n",
            "INFO:tensorflow:loss = 0.27007923, step = 14800 (0.161 sec)\n",
            "INFO:tensorflow:global_step/sec: 659.717\n",
            "INFO:tensorflow:loss = 0.27242714, step = 14900 (0.156 sec)\n",
            "INFO:tensorflow:Calling checkpoint listeners before saving checkpoint 15000...\n",
            "INFO:tensorflow:Saving checkpoints for 15000 into /tmp/tmphiak_jtp/model.ckpt.\n",
            "INFO:tensorflow:Calling checkpoint listeners after saving checkpoint 15000...\n",
            "INFO:tensorflow:Loss for final step: 0.25530916.\n"
          ],
          "name": "stdout"
        },
        {
          "output_type": "execute_result",
          "data": {
            "text/plain": [
              "<tensorflow_estimator.python.estimator.canned.dnn.DNNClassifierV2 at 0x7f705745a780>"
            ]
          },
          "metadata": {
            "tags": []
          },
          "execution_count": 34
        }
      ]
    },
    {
      "cell_type": "code",
      "metadata": {
        "id": "deiJkkEygNfO",
        "colab_type": "code",
        "colab": {
          "base_uri": "https://localhost:8080/",
          "height": 377
        },
        "outputId": "832d91f8-0ab3-4a80-a3e2-36d63ca6519e"
      },
      "source": [
        "eval_result = classifier.evaluate(\n",
        "    input_fn=lambda: input_fn(test, test_y, training=False))\n",
        "\n",
        "print('\\nTest set accuracy: {accuracy:0.3f}\\n'.format(**eval_result))"
      ],
      "execution_count": 36,
      "outputs": [
        {
          "output_type": "stream",
          "text": [
            "INFO:tensorflow:Calling model_fn.\n",
            "WARNING:tensorflow:Layer dnn is casting an input tensor from dtype float64 to the layer's dtype of float32, which is new behavior in TensorFlow 2.  The layer has dtype float32 because it's dtype defaults to floatx.\n",
            "\n",
            "If you intended to run this layer in float32, you can safely ignore this warning. If in doubt, this warning is likely only an issue if you are porting a TensorFlow 1.X model to TensorFlow 2.\n",
            "\n",
            "To change all layers to have dtype float64 by default, call `tf.keras.backend.set_floatx('float64')`. To change just this layer, pass dtype='float64' to the layer constructor. If you are the author of this layer, you can disable autocasting by passing autocast=False to the base Layer constructor.\n",
            "\n",
            "INFO:tensorflow:Done calling model_fn.\n",
            "INFO:tensorflow:Starting evaluation at 2020-04-25T08:44:07Z\n",
            "INFO:tensorflow:Graph was finalized.\n",
            "INFO:tensorflow:Restoring parameters from /tmp/tmphiak_jtp/model.ckpt-15000\n",
            "INFO:tensorflow:Running local_init_op.\n",
            "INFO:tensorflow:Done running local_init_op.\n",
            "INFO:tensorflow:Inference Time : 0.22274s\n",
            "INFO:tensorflow:Finished evaluation at 2020-04-25-08:44:07\n",
            "INFO:tensorflow:Saving dict for global step 15000: accuracy = 0.96666664, average_loss = 0.31720734, global_step = 15000, loss = 0.31720734\n",
            "INFO:tensorflow:Saving 'checkpoint_path' summary for global step 15000: /tmp/tmphiak_jtp/model.ckpt-15000\n",
            "\n",
            "Test set accuracy: 0.967\n",
            "\n"
          ],
          "name": "stdout"
        }
      ]
    },
    {
      "cell_type": "code",
      "metadata": {
        "id": "ZnFCa4M7iz6J",
        "colab_type": "code",
        "colab": {
          "base_uri": "https://localhost:8080/",
          "height": 238
        },
        "outputId": "0e3c6dc0-8734-4a65-a20a-5916418da899"
      },
      "source": [
        "def input_fn(features, batch_size=256):\n",
        "    # Convert the inputs to a Dataset without labels.\n",
        "    return tf.data.Dataset.from_tensor_slices(dict(features)).batch(batch_size)\n",
        "\n",
        "features = ['SepalLength', 'SepalWidth', 'PetalLength', 'PetalWidth']\n",
        "predict = {}\n",
        "\n",
        "print(\"Please type numeric values as prompted.\")\n",
        "for feature in features:\n",
        "  valid = True\n",
        "  while valid: \n",
        "    val = input(feature + \": \")\n",
        "    if not val.isdigit(): valid = False\n",
        "\n",
        "  predict[feature] = [float(val)]\n",
        "\n",
        "predictions = classifier.predict(input_fn=lambda: input_fn(predict))\n",
        "for pred_dict in predictions:\n",
        "    class_id = pred_dict['class_ids'][0]\n",
        "    probability = pred_dict['probabilities'][class_id]\n",
        "\n",
        "    print('Prediction is \"{}\" ({:.1f}%)'.format(\n",
        "        SPECIES[class_id], 100 * probability))\n"
      ],
      "execution_count": 37,
      "outputs": [
        {
          "output_type": "stream",
          "text": [
            "Please type numeric values as prompted.\n",
            "SepalLength: 1.2\n",
            "SepalWidth: 3\n",
            "SepalWidth: 0.5\n",
            "PetalLength: 1.34\n",
            "PetalWidth: 3.2\n",
            "INFO:tensorflow:Calling model_fn.\n",
            "INFO:tensorflow:Done calling model_fn.\n",
            "INFO:tensorflow:Graph was finalized.\n",
            "INFO:tensorflow:Restoring parameters from /tmp/tmphiak_jtp/model.ckpt-15000\n",
            "INFO:tensorflow:Running local_init_op.\n",
            "INFO:tensorflow:Done running local_init_op.\n",
            "Prediction is \"Virginica\" (82.1%)\n"
          ],
          "name": "stdout"
        }
      ]
    }
  ]
}