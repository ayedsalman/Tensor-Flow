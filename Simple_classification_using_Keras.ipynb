{
  "nbformat": 4,
  "nbformat_minor": 0,
  "metadata": {
    "colab": {
      "name": "Simple classification using Keras",
      "provenance": [],
      "authorship_tag": "ABX9TyOLC+s6dMjupno6kXAQkVyn",
      "include_colab_link": true
    },
    "kernelspec": {
      "name": "python3",
      "display_name": "Python 3"
    }
  },
  "cells": [
    {
      "cell_type": "markdown",
      "metadata": {
        "id": "view-in-github",
        "colab_type": "text"
      },
      "source": [
        "<a href=\"https://colab.research.google.com/github/ayedsalman/Tensor-Flow/blob/master/Simple_classification_using_Keras.ipynb\" target=\"_parent\"><img src=\"https://colab.research.google.com/assets/colab-badge.svg\" alt=\"Open In Colab\"/></a>"
      ]
    },
    {
      "cell_type": "code",
      "metadata": {
        "id": "-YszBH3iaIb8",
        "colab_type": "code",
        "colab": {}
      },
      "source": [
        "import numpy as np\n",
        "import tensorflow as tf\n",
        "import random as randint\n",
        "import sklearn.preprocessing as MinMaxscalar"
      ],
      "execution_count": 0,
      "outputs": []
    },
    {
      "cell_type": "code",
      "metadata": {
        "id": "OhwLtQSAiBUd",
        "colab_type": "code",
        "colab": {}
      },
      "source": [
        "train_label = []\n",
        "train_sample = []"
      ],
      "execution_count": 0,
      "outputs": []
    },
    {
      "cell_type": "code",
      "metadata": {
        "id": "ymH9ZXsGiH19",
        "colab_type": "code",
        "colab": {}
      },
      "source": [
        "for i in range(25):\n",
        "  random_younger = np.random.randint(13,64)\n",
        "  train_sample.append(random_younger)\n",
        "  train_label.append(1)\n",
        "\n",
        "  random_older = np.random.randint(65,100)\n",
        "  train_sample.append(random_older)\n",
        "  train_label.append(0)\n",
        "\n",
        "for i in range(1000):\n",
        "  random_younger = np.random.randint(13,64)\n",
        "  train_sample.append(random_younger)\n",
        "  train_label.append(0)\n",
        "\n",
        "  random_older = np.random.randint(65,100)\n",
        "  train_sample.append(random_older)\n",
        "  train_label.append(1)\n",
        "\n",
        "for i in range(25):\n",
        "  random_younger = np.random.randint(13,64)\n",
        "  train_sample.append(random_younger)\n",
        "  train_label.append(1)\n",
        "\n",
        "  random_older = np.random.randint(65,100)\n",
        "  train_sample.append(random_older)\n",
        "  train_label.append(0)\n",
        "\n",
        "#print(train_sample)\n",
        "#print(train_label)"
      ],
      "execution_count": 0,
      "outputs": []
    },
    {
      "cell_type": "code",
      "metadata": {
        "id": "bCLuiNXwp3ZE",
        "colab_type": "code",
        "colab": {
          "base_uri": "https://localhost:8080/",
          "height": 34
        },
        "outputId": "e3a92fdd-d9b4-42d1-e37f-a34048986b11"
      },
      "source": [
        "train_sample = np.array(train_sample)\n",
        "train_label = np.array(train_label)\n",
        "\n",
        "train_samples = train_sample / 100\n",
        "print (train_samples, train_label)\n"
      ],
      "execution_count": 63,
      "outputs": [
        {
          "output_type": "stream",
          "text": [
            "[0.62 0.96 0.36 ... 0.69 0.49 0.87] [1 0 1 ... 0 1 0]\n"
          ],
          "name": "stdout"
        }
      ]
    },
    {
      "cell_type": "code",
      "metadata": {
        "id": "KEqBQu-qvMy0",
        "colab_type": "code",
        "colab": {}
      },
      "source": [
        "model = tf.keras.models.Sequential()\n",
        "model.add(tf.keras.layers.Dense(16, activation='relu', input_shape=(1,)))\n",
        "model.add(tf.keras.layers.Dense(32, activation='relu'))\n",
        "model.add(tf.keras.layers.Dense(2, activation='softmax'))"
      ],
      "execution_count": 0,
      "outputs": []
    },
    {
      "cell_type": "code",
      "metadata": {
        "id": "H0cYqij3xU7p",
        "colab_type": "code",
        "colab": {
          "base_uri": "https://localhost:8080/",
          "height": 255
        },
        "outputId": "db8957ff-ef34-4205-d9c2-ecc7986e1698"
      },
      "source": [
        "model.summary()"
      ],
      "execution_count": 65,
      "outputs": [
        {
          "output_type": "stream",
          "text": [
            "Model: \"sequential_7\"\n",
            "_________________________________________________________________\n",
            "Layer (type)                 Output Shape              Param #   \n",
            "=================================================================\n",
            "dense_21 (Dense)             (None, 16)                32        \n",
            "_________________________________________________________________\n",
            "dense_22 (Dense)             (None, 32)                544       \n",
            "_________________________________________________________________\n",
            "dense_23 (Dense)             (None, 2)                 66        \n",
            "=================================================================\n",
            "Total params: 642\n",
            "Trainable params: 642\n",
            "Non-trainable params: 0\n",
            "_________________________________________________________________\n"
          ],
          "name": "stdout"
        }
      ]
    },
    {
      "cell_type": "code",
      "metadata": {
        "id": "d2h-ngRZxj0Z",
        "colab_type": "code",
        "colab": {}
      },
      "source": [
        "model.compile(optimizer=tf.keras.optimizers.Adam(learning_rate=0.001), loss='sparse_categorical_crossentropy', metrics=['accuracy'])"
      ],
      "execution_count": 0,
      "outputs": []
    },
    {
      "cell_type": "code",
      "metadata": {
        "id": "gNa_bb6dxjw4",
        "colab_type": "code",
        "colab": {
          "base_uri": "https://localhost:8080/",
          "height": 714
        },
        "outputId": "7e09f78e-b5d0-4309-9ba0-b9818f1cf518"
      },
      "source": [
        "model.fit(train_samples, train_label, validation_split=0.4, batch_size=10, epochs=20, shuffle=True, verbose=2)"
      ],
      "execution_count": 69,
      "outputs": [
        {
          "output_type": "stream",
          "text": [
            "Epoch 1/20\n",
            "126/126 - 0s - loss: 0.2075 - accuracy: 0.9571 - val_loss: 0.2720 - val_accuracy: 0.9405\n",
            "Epoch 2/20\n",
            "126/126 - 0s - loss: 0.2068 - accuracy: 0.9595 - val_loss: 0.2699 - val_accuracy: 0.9405\n",
            "Epoch 3/20\n",
            "126/126 - 0s - loss: 0.2061 - accuracy: 0.9595 - val_loss: 0.2691 - val_accuracy: 0.9405\n",
            "Epoch 4/20\n",
            "126/126 - 0s - loss: 0.2057 - accuracy: 0.9587 - val_loss: 0.2691 - val_accuracy: 0.9405\n",
            "Epoch 5/20\n",
            "126/126 - 0s - loss: 0.2048 - accuracy: 0.9603 - val_loss: 0.2689 - val_accuracy: 0.9405\n",
            "Epoch 6/20\n",
            "126/126 - 0s - loss: 0.2043 - accuracy: 0.9571 - val_loss: 0.2714 - val_accuracy: 0.9298\n",
            "Epoch 7/20\n",
            "126/126 - 0s - loss: 0.2041 - accuracy: 0.9556 - val_loss: 0.2701 - val_accuracy: 0.9321\n",
            "Epoch 8/20\n",
            "126/126 - 0s - loss: 0.2051 - accuracy: 0.9579 - val_loss: 0.2662 - val_accuracy: 0.9405\n",
            "Epoch 9/20\n",
            "126/126 - 0s - loss: 0.2043 - accuracy: 0.9587 - val_loss: 0.2685 - val_accuracy: 0.9405\n",
            "Epoch 10/20\n",
            "126/126 - 0s - loss: 0.2044 - accuracy: 0.9587 - val_loss: 0.2668 - val_accuracy: 0.9298\n",
            "Epoch 11/20\n",
            "126/126 - 0s - loss: 0.2042 - accuracy: 0.9540 - val_loss: 0.2661 - val_accuracy: 0.9298\n",
            "Epoch 12/20\n",
            "126/126 - 0s - loss: 0.2028 - accuracy: 0.9563 - val_loss: 0.2658 - val_accuracy: 0.9405\n",
            "Epoch 13/20\n",
            "126/126 - 0s - loss: 0.2020 - accuracy: 0.9587 - val_loss: 0.2658 - val_accuracy: 0.9298\n",
            "Epoch 14/20\n",
            "126/126 - 0s - loss: 0.2018 - accuracy: 0.9579 - val_loss: 0.2649 - val_accuracy: 0.9298\n",
            "Epoch 15/20\n",
            "126/126 - 0s - loss: 0.2006 - accuracy: 0.9563 - val_loss: 0.2647 - val_accuracy: 0.9405\n",
            "Epoch 16/20\n",
            "126/126 - 0s - loss: 0.2026 - accuracy: 0.9556 - val_loss: 0.2625 - val_accuracy: 0.9405\n",
            "Epoch 17/20\n",
            "126/126 - 0s - loss: 0.2009 - accuracy: 0.9587 - val_loss: 0.2628 - val_accuracy: 0.9405\n",
            "Epoch 18/20\n",
            "126/126 - 0s - loss: 0.1999 - accuracy: 0.9595 - val_loss: 0.2627 - val_accuracy: 0.9298\n",
            "Epoch 19/20\n",
            "126/126 - 0s - loss: 0.1998 - accuracy: 0.9556 - val_loss: 0.2608 - val_accuracy: 0.9405\n",
            "Epoch 20/20\n",
            "126/126 - 0s - loss: 0.1984 - accuracy: 0.9571 - val_loss: 0.2614 - val_accuracy: 0.9405\n"
          ],
          "name": "stdout"
        },
        {
          "output_type": "execute_result",
          "data": {
            "text/plain": [
              "<tensorflow.python.keras.callbacks.History at 0x7fc981763eb8>"
            ]
          },
          "metadata": {
            "tags": []
          },
          "execution_count": 69
        }
      ]
    },
    {
      "cell_type": "code",
      "metadata": {
        "id": "tKJxuX15mnLZ",
        "colab_type": "code",
        "colab": {}
      },
      "source": [
        "# predicting the model\n",
        "# first generate test sets.\n",
        "test_sample = []\n",
        "test_label = []\n",
        "for i in range(10):\n",
        "  random_younger = np.random.randint(13,64)\n",
        "  test_sample.append(random_younger)\n",
        "  test_label.append(1)\n",
        "\n",
        "  random_older = np.random.randint(65,100)\n",
        "  test_sample.append(random_older)\n",
        "  test_label.append(0)\n",
        "\n",
        "for i in range(100):\n",
        "  random_younger = np.random.randint(13,64)\n",
        "  test_sample.append(random_younger)\n",
        "  test_label.append(0)\n",
        "\n",
        "  random_older = np.random.randint(65,100)\n",
        "  test_sample.append(random_older)\n",
        "  test_label.append(1)\n",
        "\n",
        "for i in range(10):\n",
        "  random_younger = np.random.randint(13,64)\n",
        "  test_sample.append(random_younger)\n",
        "  test_label.append(1)\n",
        "\n",
        "  random_older = np.random.randint(65,100)\n",
        "  test_sample.append(random_older)\n",
        "  test_label.append(0)"
      ],
      "execution_count": 0,
      "outputs": []
    },
    {
      "cell_type": "code",
      "metadata": {
        "id": "AHxUnkZCnTvQ",
        "colab_type": "code",
        "colab": {}
      },
      "source": [
        "test_sample = np.array(test_sample)\n",
        "test_label = np.array(test_label)\n",
        "\n",
        "test_samples = test_sample /100\n",
        "\n",
        "print(test_samples, test_label)"
      ],
      "execution_count": 0,
      "outputs": []
    },
    {
      "cell_type": "code",
      "metadata": {
        "id": "yVx7iQthoCn_",
        "colab_type": "code",
        "colab": {
          "base_uri": "https://localhost:8080/",
          "height": 1000
        },
        "outputId": "200aeaa5-1305-4bd8-da89-263e58619a07"
      },
      "source": [
        "prediction = model.predict_classes(test_samples, batch_size=10)\n",
        "\n",
        "acc =0\n",
        "total = 0\n",
        "for i,j in zip(prediction,test_label):\n",
        "    print(i, ' ', j)\n",
        "    if i==j:\n",
        "        acc += 1\n",
        "    total += 1\n",
        "print(\"accuracy of prediction =\",acc/total)"
      ],
      "execution_count": 90,
      "outputs": [
        {
          "output_type": "stream",
          "text": [
            "0   1\n",
            "1   0\n",
            "0   1\n",
            "1   0\n",
            "0   1\n",
            "1   0\n",
            "0   1\n",
            "1   0\n",
            "0   1\n",
            "1   0\n",
            "0   1\n",
            "1   0\n",
            "0   1\n",
            "1   0\n",
            "0   1\n",
            "1   0\n",
            "0   1\n",
            "1   0\n",
            "0   1\n",
            "1   0\n",
            "0   0\n",
            "1   1\n",
            "0   0\n",
            "1   1\n",
            "0   0\n",
            "1   1\n",
            "0   0\n",
            "1   1\n",
            "0   0\n",
            "1   1\n",
            "0   0\n",
            "1   1\n",
            "0   0\n",
            "1   1\n",
            "0   0\n",
            "1   1\n",
            "0   0\n",
            "1   1\n",
            "0   0\n",
            "1   1\n",
            "0   0\n",
            "1   1\n",
            "0   0\n",
            "1   1\n",
            "0   0\n",
            "1   1\n",
            "0   0\n",
            "1   1\n",
            "0   0\n",
            "1   1\n",
            "0   0\n",
            "1   1\n",
            "0   0\n",
            "1   1\n",
            "0   0\n",
            "1   1\n",
            "0   0\n",
            "1   1\n",
            "0   0\n",
            "1   1\n",
            "0   0\n",
            "1   1\n",
            "0   0\n",
            "1   1\n",
            "0   0\n",
            "1   1\n",
            "0   0\n",
            "1   1\n",
            "0   0\n",
            "1   1\n",
            "0   0\n",
            "1   1\n",
            "0   0\n",
            "1   1\n",
            "0   0\n",
            "1   1\n",
            "0   0\n",
            "1   1\n",
            "0   0\n",
            "1   1\n",
            "0   0\n",
            "1   1\n",
            "0   0\n",
            "1   1\n",
            "0   0\n",
            "1   1\n",
            "0   0\n",
            "1   1\n",
            "0   0\n",
            "1   1\n",
            "0   0\n",
            "1   1\n",
            "0   0\n",
            "1   1\n",
            "0   0\n",
            "1   1\n",
            "0   0\n",
            "1   1\n",
            "0   0\n",
            "1   1\n",
            "0   0\n",
            "1   1\n",
            "0   0\n",
            "1   1\n",
            "0   0\n",
            "1   1\n",
            "0   0\n",
            "1   1\n",
            "0   0\n",
            "1   1\n",
            "0   0\n",
            "1   1\n",
            "0   0\n",
            "1   1\n",
            "0   0\n",
            "1   1\n",
            "0   0\n",
            "1   1\n",
            "0   0\n",
            "1   1\n",
            "0   0\n",
            "1   1\n",
            "0   0\n",
            "1   1\n",
            "0   0\n",
            "1   1\n",
            "0   0\n",
            "1   1\n",
            "0   0\n",
            "1   1\n",
            "0   0\n",
            "1   1\n",
            "0   0\n",
            "1   1\n",
            "0   0\n",
            "1   1\n",
            "0   0\n",
            "1   1\n",
            "0   0\n",
            "1   1\n",
            "0   0\n",
            "1   1\n",
            "0   0\n",
            "1   1\n",
            "0   0\n",
            "1   1\n",
            "0   0\n",
            "1   1\n",
            "0   0\n",
            "1   1\n",
            "0   0\n",
            "1   1\n",
            "0   0\n",
            "1   1\n",
            "0   0\n",
            "1   1\n",
            "0   0\n",
            "1   1\n",
            "0   0\n",
            "1   1\n",
            "0   0\n",
            "1   1\n",
            "0   0\n",
            "1   1\n",
            "0   0\n",
            "1   1\n",
            "0   0\n",
            "1   1\n",
            "0   0\n",
            "1   1\n",
            "0   0\n",
            "1   1\n",
            "0   0\n",
            "1   1\n",
            "0   0\n",
            "1   1\n",
            "0   0\n",
            "1   1\n",
            "0   0\n",
            "1   1\n",
            "0   0\n",
            "1   1\n",
            "0   0\n",
            "1   1\n",
            "0   0\n",
            "1   1\n",
            "0   0\n",
            "1   1\n",
            "0   0\n",
            "1   1\n",
            "0   0\n",
            "1   1\n",
            "0   0\n",
            "1   1\n",
            "0   0\n",
            "1   1\n",
            "0   0\n",
            "1   1\n",
            "0   0\n",
            "1   1\n",
            "0   0\n",
            "1   1\n",
            "0   0\n",
            "1   1\n",
            "0   0\n",
            "1   1\n",
            "0   0\n",
            "1   1\n",
            "0   0\n",
            "1   1\n",
            "0   0\n",
            "1   1\n",
            "0   0\n",
            "1   1\n",
            "0   0\n",
            "1   1\n",
            "0   0\n",
            "1   1\n",
            "0   0\n",
            "1   1\n",
            "0   1\n",
            "1   0\n",
            "0   1\n",
            "1   0\n",
            "0   1\n",
            "1   0\n",
            "0   1\n",
            "1   0\n",
            "0   1\n",
            "1   0\n",
            "0   1\n",
            "1   0\n",
            "0   1\n",
            "1   0\n",
            "0   1\n",
            "1   0\n",
            "0   1\n",
            "1   0\n",
            "0   1\n",
            "1   0\n",
            "accuracy of prediction = 0.8333333333333334\n"
          ],
          "name": "stdout"
        }
      ]
    }
  ]
}