{
  "nbformat": 4,
  "nbformat_minor": 0,
  "metadata": {
    "colab": {
      "name": "Simple classification using Keras",
      "provenance": [],
      "authorship_tag": "ABX9TyPhyrhmRKWrILIAmtE83U/o",
      "include_colab_link": true
    },
    "kernelspec": {
      "name": "python3",
      "display_name": "Python 3"
    }
  },
  "cells": [
    {
      "cell_type": "markdown",
      "metadata": {
        "id": "view-in-github",
        "colab_type": "text"
      },
      "source": [
        "<a href=\"https://colab.research.google.com/github/ayedsalman/Tensor-Flow/blob/master/Simple_classification_using_Keras.ipynb\" target=\"_parent\"><img src=\"https://colab.research.google.com/assets/colab-badge.svg\" alt=\"Open In Colab\"/></a>"
      ]
    },
    {
      "cell_type": "code",
      "metadata": {
        "id": "-YszBH3iaIb8",
        "colab_type": "code",
        "colab": {}
      },
      "source": [
        "import numpy as np\n",
        "import tensorflow as tf\n",
        "import random as randint\n",
        "import sklearn.preprocessing as MinMaxscalar"
      ],
      "execution_count": 0,
      "outputs": []
    },
    {
      "cell_type": "code",
      "metadata": {
        "id": "OhwLtQSAiBUd",
        "colab_type": "code",
        "colab": {}
      },
      "source": [
        "train_label = []\n",
        "train_sample = []"
      ],
      "execution_count": 0,
      "outputs": []
    },
    {
      "cell_type": "code",
      "metadata": {
        "id": "ymH9ZXsGiH19",
        "colab_type": "code",
        "colab": {}
      },
      "source": [
        "for i in range(1000):\n",
        "  random_younger = np.random.randint(13,64)\n",
        "  train_sample.append(random_younger)\n",
        "  train_label.append(0)\n",
        "\n",
        "  random_older = np.random.randint(65,100)\n",
        "  train_sample.append(random_older)\n",
        "  train_label.append(1)\n",
        "\n",
        "for i in range(50):\n",
        "  random_younger = np.random.randint(13,64)\n",
        "  train_sample.append(random_younger)\n",
        "  train_label.append(1)\n",
        "\n",
        "  random_older = np.random.randint(65,100)\n",
        "  train_sample.append(random_older)\n",
        "  train_label.append(0)\n",
        "\n",
        "#print(train_sample)\n",
        "#print(train_label)"
      ],
      "execution_count": 0,
      "outputs": []
    },
    {
      "cell_type": "code",
      "metadata": {
        "id": "bCLuiNXwp3ZE",
        "colab_type": "code",
        "colab": {
          "base_uri": "https://localhost:8080/",
          "height": 34
        },
        "outputId": "249635b3-c143-4fff-aab6-8181e74ee529"
      },
      "source": [
        "train_sample = np.array(train_sample)\n",
        "train_label = np.array(train_label)\n",
        "\n",
        "train_samples = train_sample / 100\n",
        "print (train_samples, train_label)"
      ],
      "execution_count": 34,
      "outputs": [
        {
          "output_type": "stream",
          "text": [
            "[0.23 0.76 0.47 ... 0.73 0.51 0.73] [0 1 0 ... 0 1 0]\n"
          ],
          "name": "stdout"
        }
      ]
    },
    {
      "cell_type": "code",
      "metadata": {
        "id": "KEqBQu-qvMy0",
        "colab_type": "code",
        "colab": {}
      },
      "source": [
        "model = tf.keras.models.Sequential()\n",
        "model.add(tf.keras.layers.Dense(16, activation='relu', input_shape=(1,)))\n",
        "model.add(tf.keras.layers.Dense(32, activation='relu'))\n",
        "model.add(tf.keras.layers.Dense(2, activation='softmax'))"
      ],
      "execution_count": 0,
      "outputs": []
    },
    {
      "cell_type": "code",
      "metadata": {
        "id": "H0cYqij3xU7p",
        "colab_type": "code",
        "colab": {}
      },
      "source": [
        "model.summary()"
      ],
      "execution_count": 0,
      "outputs": []
    },
    {
      "cell_type": "code",
      "metadata": {
        "id": "d2h-ngRZxj0Z",
        "colab_type": "code",
        "colab": {}
      },
      "source": [
        "model.compile(optimizer='Adam', loss='sparse_categorical_crossentropy', metrics=['accuracy'])"
      ],
      "execution_count": 0,
      "outputs": []
    },
    {
      "cell_type": "code",
      "metadata": {
        "id": "gNa_bb6dxjw4",
        "colab_type": "code",
        "colab": {}
      },
      "source": [
        "model.fit(train_samples, train_label, batch_size=10, epochs=20, shuffle=True, verbose=2)"
      ],
      "execution_count": 0,
      "outputs": []
    }
  ]
}