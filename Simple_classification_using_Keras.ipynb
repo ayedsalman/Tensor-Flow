{
  "nbformat": 4,
  "nbformat_minor": 0,
  "metadata": {
    "colab": {
      "name": "Simple classification using Keras",
      "provenance": [],
      "collapsed_sections": [],
      "authorship_tag": "ABX9TyNh605yxE/RLN5JOx2zpWt6",
      "include_colab_link": true
    },
    "kernelspec": {
      "name": "python3",
      "display_name": "Python 3"
    }
  },
  "cells": [
    {
      "cell_type": "markdown",
      "metadata": {
        "id": "view-in-github",
        "colab_type": "text"
      },
      "source": [
        "<a href=\"https://colab.research.google.com/github/ayedsalman/Tensor-Flow/blob/master/Simple_classification_using_Keras.ipynb\" target=\"_parent\"><img src=\"https://colab.research.google.com/assets/colab-badge.svg\" alt=\"Open In Colab\"/></a>"
      ]
    },
    {
      "cell_type": "code",
      "metadata": {
        "id": "-YszBH3iaIb8",
        "colab_type": "code",
        "colab": {}
      },
      "source": [
        "import numpy as np\n",
        "import tensorflow as tf\n",
        "import random as randint\n",
        "import sklearn.preprocessing as MinMaxscalar\n",
        "from sklearn.model_selection import train_test_split\n",
        "import matplotlib.pyplot as plt\n",
        "\n"
      ],
      "execution_count": 0,
      "outputs": []
    },
    {
      "cell_type": "code",
      "metadata": {
        "id": "6O17P0rC67-R",
        "colab_type": "code",
        "colab": {}
      },
      "source": [
        "# read data from external csv file\n",
        "import pandas as pd\n",
        "import io \n",
        "from google.colab import files\n",
        "\n",
        "uploaded = files.upload()\n",
        "#read csv data format from uploaded file\n",
        "data = pd.read_csv(io.BytesIO(uploaded['mydata.csv']))\n",
        "data.head()\n",
        "\n"
      ],
      "execution_count": 0,
      "outputs": []
    },
    {
      "cell_type": "code",
      "metadata": {
        "id": "s7Fd0HdB_HiP",
        "colab_type": "code",
        "colab": {
          "base_uri": "https://localhost:8080/",
          "height": 34
        },
        "outputId": "37b98f50-3e83-4a2a-ddd3-98fe038518ab"
      },
      "source": [
        "# split the data into training and testing, you need to know the title of the class column \n",
        "y=data.sick\n",
        "x=data.drop('sick',axis=1)\n",
        "#train_sample, test_sample = train_test_split(np.array(data), test_sizes=0.2)\n",
        "#y.head()\n",
        "\n",
        "train_sample,test_sample,train_label,test_label = train_test_split(x,y,test_size=0.2, random_state=42)\n",
        "train_sample.head()\n",
        "print(len(train_label))"
      ],
      "execution_count": 4,
      "outputs": [
        {
          "output_type": "stream",
          "text": [
            "200\n"
          ],
          "name": "stdout"
        }
      ]
    },
    {
      "cell_type": "code",
      "metadata": {
        "id": "bCLuiNXwp3ZE",
        "colab_type": "code",
        "colab": {}
      },
      "source": [
        "train_sample = np.array(train_sample)\n",
        "train_label = np.array(train_label)\n",
        "\n",
        "train_samples = train_sample / 100\n",
        "print (train_samples, train_label)\n"
      ],
      "execution_count": 0,
      "outputs": []
    },
    {
      "cell_type": "code",
      "metadata": {
        "id": "KEqBQu-qvMy0",
        "colab_type": "code",
        "colab": {}
      },
      "source": [
        "model = tf.keras.models.Sequential()\n",
        "model.add(tf.keras.layers.Dense(16, activation='relu', input_shape=(1,)))\n",
        "model.add(tf.keras.layers.Dense(32, activation='relu'))\n",
        "model.add(tf.keras.layers.Dense(2, activation='softmax'))"
      ],
      "execution_count": 0,
      "outputs": []
    },
    {
      "cell_type": "code",
      "metadata": {
        "id": "H0cYqij3xU7p",
        "colab_type": "code",
        "colab": {}
      },
      "source": [
        "model.summary()"
      ],
      "execution_count": 0,
      "outputs": []
    },
    {
      "cell_type": "code",
      "metadata": {
        "id": "hRXPbAPpFUv-",
        "colab_type": "code",
        "colab": {}
      },
      "source": [
        "#printing the weights of the network\n",
        "for layer in model.layers:\n",
        "    weights = layer.get_weights()\n",
        "print(weights)\n",
        "\n",
        "#printing the structure of the network\n",
        "#from keras.utils import plot_model\n",
        "\n",
        "#plot_model(model, to_file='/tmp/model.png', show_shapes=True,)"
      ],
      "execution_count": 0,
      "outputs": []
    },
    {
      "cell_type": "code",
      "metadata": {
        "id": "d2h-ngRZxj0Z",
        "colab_type": "code",
        "colab": {}
      },
      "source": [
        "model.compile(optimizer=tf.keras.optimizers.Adam(learning_rate=0.001), loss=tf.keras.losses.sparse_categorical_crossentropy, metrics=['accuracy'])"
      ],
      "execution_count": 0,
      "outputs": []
    },
    {
      "cell_type": "code",
      "metadata": {
        "id": "gNa_bb6dxjw4",
        "colab_type": "code",
        "colab": {}
      },
      "source": [
        "history = model.fit(train_samples, train_label, validation_split=0.2, batch_size=10, epochs=40, shuffle=True, verbose=2)"
      ],
      "execution_count": 0,
      "outputs": []
    },
    {
      "cell_type": "code",
      "metadata": {
        "id": "G1IcICzKxUnn",
        "colab_type": "code",
        "colab": {}
      },
      "source": [
        "#plotting accuracy for training and validation\n",
        "loss_train = history.history['accuracy']\n",
        "loss_val = history.history['val_accuracy']\n",
        "epochs = range(0,40)\n",
        "\n",
        "plt.plot(epochs, loss_train,'g', label='Training accuracy')\n",
        "plt.plot(epochs, loss_val, 'y', label='validation accuracy')\n",
        "plt.title('Training and Validation accuracy')\n",
        "plt.xlabel('Epochs')\n",
        "plt.ylabel('Accuracy')\n",
        "plt.legend()\n",
        "plt.show()"
      ],
      "execution_count": 0,
      "outputs": []
    },
    {
      "cell_type": "code",
      "metadata": {
        "id": "AHxUnkZCnTvQ",
        "colab_type": "code",
        "colab": {}
      },
      "source": [
        "test_sample = np.array(test_sample)\n",
        "test_label = np.array(test_label)\n",
        "\n",
        "test_samples = test_sample /100\n",
        "\n",
        "print(test_samples, test_label)"
      ],
      "execution_count": 0,
      "outputs": []
    },
    {
      "cell_type": "code",
      "metadata": {
        "id": "yVx7iQthoCn_",
        "colab_type": "code",
        "colab": {
          "base_uri": "https://localhost:8080/",
          "height": 105
        },
        "outputId": "d33902c4-ebcb-4709-c1cb-f191ca6acac6"
      },
      "source": [
        "#checking accuracy of a model vs test data\n",
        "prediction = model.predict_classes(test_samples, batch_size=10)\n",
        "accu = model.evaluate(test_label, prediction ,verbose=1)\n",
        "\n",
        "#print(len(prediction))"
      ],
      "execution_count": 12,
      "outputs": [
        {
          "output_type": "stream",
          "text": [
            "WARNING:tensorflow:From <ipython-input-12-5038659a8f6b>:1: Sequential.predict_classes (from tensorflow.python.keras.engine.sequential) is deprecated and will be removed after 2021-01-01.\n",
            "Instructions for updating:\n",
            "Please use instead:* `np.argmax(model.predict(x), axis=-1)`,   if your model does multi-class classification   (e.g. if it uses a `softmax` last-layer activation).* `(model.predict(x) > 0.5).astype(\"int32\")`,   if your model does binary classification   (e.g. if it uses a `sigmoid` last-layer activation).\n",
            "2/2 [==============================] - 0s 1ms/step - loss: 1.2564 - accuracy: 0.2200\n"
          ],
          "name": "stdout"
        }
      ]
    },
    {
      "cell_type": "code",
      "metadata": {
        "id": "l2kgS0J9bOFU",
        "colab_type": "code",
        "colab": {}
      },
      "source": [
        "#another manual way of checking accuracy\n",
        "acc =0\n",
        "total = 0\n",
        "for i,j in zip(prediction,test_label):\n",
        "    print(i, ' ', j)\n",
        "    if i==j:\n",
        "        acc += 1\n",
        "    total += 1\n",
        "print(\"accuracy of prediction =\",acc/total)"
      ],
      "execution_count": 0,
      "outputs": []
    },
    {
      "cell_type": "code",
      "metadata": {
        "id": "LZKKGf9zewUl",
        "colab_type": "code",
        "colab": {
          "base_uri": "https://localhost:8080/",
          "height": 265
        },
        "outputId": "4622cb3b-0c2f-46ae-cf9f-bfd54a09386d"
      },
      "source": [
        "#draw accuracy\n",
        "epochs = range(0,50)\n",
        "fig = plt.figure()\n",
        "plt.scatter(epochs, prediction)\n",
        "plt.scatter(epochs, test_label)\n",
        "plt.show()"
      ],
      "execution_count": 13,
      "outputs": [
        {
          "output_type": "display_data",
          "data": {
            "image/png": "[encoded data removed]",
            "text/plain": [
              "<Figure size 432x288 with 1 Axes>"
            ]
          },
          "metadata": {
            "tags": [],
            "needs_background": "light"
          }
        }
      ]
    },
    {
      "cell_type": "code",
      "metadata": {
        "id": "oXi5DS0YhlTL",
        "colab_type": "code",
        "colab": {}
      },
      "source": [
        "#saving and retreiving the figure\n",
        "fig.savefig('my_figure.png')\n",
        "!ls -lh my_figure.png\n",
        "\n",
        "from IPython.display import Image\n",
        "Image('my_figure.png')\n"
      ],
      "execution_count": 0,
      "outputs": []
    },
    {
      "cell_type": "code",
      "metadata": {
        "id": "qE1N46Q5otRR",
        "colab_type": "code",
        "colab": {}
      },
      "source": [
        "#saving  the model onto local hardrisk\n",
        "\n",
        "import pandas as pd\n",
        "import io \n",
        "from google.colab import files\n",
        "\n",
        "model.save('mymodel.h5')\n",
        "files.download('mymodel.h5') "
      ],
      "execution_count": 0,
      "outputs": []
    },
    {
      "cell_type": "markdown",
      "metadata": {
        "id": "lLM0lftFe5MX",
        "colab_type": "text"
      },
      "source": [
        "\n",
        "\n",
        "---\n",
        "\n",
        "\n",
        "\n",
        "\n",
        "\n",
        "# **The following sections used for manual randomly generated training and testing data for educational purpose**"
      ]
    },
    {
      "cell_type": "code",
      "metadata": {
        "id": "ymH9ZXsGiH19",
        "colab_type": "code",
        "colab": {}
      },
      "source": [
        "#user generated train sample: \n",
        "train_label = []\n",
        "train_sample = []\n",
        "\n",
        "for i in range(25):\n",
        "  random_younger = np.random.randint(13,64)\n",
        "  train_sample.append(random_younger)\n",
        "  train_label.append(1)\n",
        "\n",
        "  random_older = np.random.randint(65,100)\n",
        "  train_sample.append(random_older)\n",
        "  train_label.append(0)\n",
        "\n",
        "for i in range(1000):\n",
        "  random_younger = np.random.randint(13,64)\n",
        "  train_sample.append(random_younger)\n",
        "  train_label.append(0)\n",
        "\n",
        "  random_older = np.random.randint(65,100)\n",
        "  train_sample.append(random_older)\n",
        "  train_label.append(1)\n",
        "\n",
        "for i in range(25):\n",
        "  random_younger = np.random.randint(13,64)\n",
        "  train_sample.append(random_younger)\n",
        "  train_label.append(1)\n",
        "\n",
        "  random_older = np.random.randint(65,100)\n",
        "  train_sample.append(random_older)\n",
        "  train_label.append(0)\n",
        "\n",
        "#print(train_sample)\n",
        "#print(train_label)"
      ],
      "execution_count": 0,
      "outputs": []
    },
    {
      "cell_type": "code",
      "metadata": {
        "id": "tKJxuX15mnLZ",
        "colab_type": "code",
        "colab": {}
      },
      "source": [
        "# predicting the model using user-generated test-samples\n",
        "# first generate test sets.\n",
        "test_sample = []\n",
        "test_label = []\n",
        "for i in range(10):\n",
        "  random_younger = np.random.randint(13,64)\n",
        "  test_sample.append(random_younger)\n",
        "  test_label.append(1)\n",
        "\n",
        "  random_older = np.random.randint(65,100)\n",
        "  test_sample.append(random_older)\n",
        "  test_label.append(0)\n",
        "\n",
        "for i in range(100):\n",
        "  random_younger = np.random.randint(13,64)\n",
        "  test_sample.append(random_younger)\n",
        "  test_label.append(0)\n",
        "\n",
        "  random_older = np.random.randint(65,100)\n",
        "  test_sample.append(random_older)\n",
        "  test_label.append(1)\n",
        "\n",
        "for i in range(10):\n",
        "  random_younger = np.random.randint(13,64)\n",
        "  test_sample.append(random_younger)\n",
        "  test_label.append(1)\n",
        "\n",
        "  random_older = np.random.randint(65,100)\n",
        "  test_sample.append(random_older)\n",
        "  test_label.append(0)"
      ],
      "execution_count": 0,
      "outputs": []
    }
  ]
}