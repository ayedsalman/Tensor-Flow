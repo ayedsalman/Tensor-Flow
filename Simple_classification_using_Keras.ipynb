{
  "nbformat": 4,
  "nbformat_minor": 0,
  "metadata": {
    "colab": {
      "name": "Simple classification using Keras",
      "provenance": [],
      "collapsed_sections": [],
      "authorship_tag": "ABX9TyPATXK+fNQEVRqhRSA65GIX",
      "include_colab_link": true
    },
    "kernelspec": {
      "name": "python3",
      "display_name": "Python 3"
    }
  },
  "cells": [
    {
      "cell_type": "markdown",
      "metadata": {
        "id": "view-in-github",
        "colab_type": "text"
      },
      "source": [
        "<a href=\"https://colab.research.google.com/github/ayedsalman/Tensor-Flow/blob/master/Simple_classification_using_Keras.ipynb\" target=\"_parent\"><img src=\"https://colab.research.google.com/assets/colab-badge.svg\" alt=\"Open In Colab\"/></a>"
      ]
    },
    {
      "cell_type": "code",
      "metadata": {
        "id": "-YszBH3iaIb8",
        "colab_type": "code",
        "colab": {}
      },
      "source": [
        "import numpy as np\n",
        "import tensorflow as tf\n",
        "import random as randint\n",
        "import sklearn.preprocessing as MinMaxscalar"
      ],
      "execution_count": 0,
      "outputs": []
    },
    {
      "cell_type": "code",
      "metadata": {
        "id": "OhwLtQSAiBUd",
        "colab_type": "code",
        "colab": {}
      },
      "source": [
        "train_label = []\n",
        "train_sample = []"
      ],
      "execution_count": 0,
      "outputs": []
    },
    {
      "cell_type": "code",
      "metadata": {
        "id": "ymH9ZXsGiH19",
        "colab_type": "code",
        "colab": {}
      },
      "source": [
        "for i in range(25):\n",
        "  random_younger = np.random.randint(13,64)\n",
        "  train_sample.append(random_younger)\n",
        "  train_label.append(1)\n",
        "\n",
        "  random_older = np.random.randint(65,100)\n",
        "  train_sample.append(random_older)\n",
        "  train_label.append(0)\n",
        "\n",
        "for i in range(1000):\n",
        "  random_younger = np.random.randint(13,64)\n",
        "  train_sample.append(random_younger)\n",
        "  train_label.append(0)\n",
        "\n",
        "  random_older = np.random.randint(65,100)\n",
        "  train_sample.append(random_older)\n",
        "  train_label.append(1)\n",
        "\n",
        "for i in range(25):\n",
        "  random_younger = np.random.randint(13,64)\n",
        "  train_sample.append(random_younger)\n",
        "  train_label.append(1)\n",
        "\n",
        "  random_older = np.random.randint(65,100)\n",
        "  train_sample.append(random_older)\n",
        "  train_label.append(0)\n",
        "\n",
        "#print(train_sample)\n",
        "#print(train_label)"
      ],
      "execution_count": 0,
      "outputs": []
    },
    {
      "cell_type": "code",
      "metadata": {
        "id": "bCLuiNXwp3ZE",
        "colab_type": "code",
        "colab": {
          "base_uri": "https://localhost:8080/",
          "height": 34
        },
        "outputId": "4d943864-8b0d-43f4-c38a-69ad5976aa35"
      },
      "source": [
        "train_sample = np.array(train_sample)\n",
        "train_label = np.array(train_label)\n",
        "\n",
        "train_samples = train_sample / 100\n",
        "print (train_samples, train_label)\n"
      ],
      "execution_count": 113,
      "outputs": [
        {
          "output_type": "stream",
          "text": [
            "[0.15 0.8  0.47 ... 0.71 0.23 0.91] [1 0 1 ... 0 1 0]\n"
          ],
          "name": "stdout"
        }
      ]
    },
    {
      "cell_type": "code",
      "metadata": {
        "id": "KEqBQu-qvMy0",
        "colab_type": "code",
        "colab": {}
      },
      "source": [
        "model = tf.keras.models.Sequential()\n",
        "model.add(tf.keras.layers.Dense(16, activation='relu', input_shape=(1,)))\n",
        "model.add(tf.keras.layers.Dense(32, activation='relu'))\n",
        "model.add(tf.keras.layers.Dense(2, activation='softmax'))"
      ],
      "execution_count": 0,
      "outputs": []
    },
    {
      "cell_type": "code",
      "metadata": {
        "id": "H0cYqij3xU7p",
        "colab_type": "code",
        "colab": {}
      },
      "source": [
        "model.summary()"
      ],
      "execution_count": 0,
      "outputs": []
    },
    {
      "cell_type": "code",
      "metadata": {
        "id": "hRXPbAPpFUv-",
        "colab_type": "code",
        "colab": {}
      },
      "source": [
        "#printing the weights of the network\n",
        "for layer in model.layers:\n",
        "    weights = layer.get_weights()\n",
        "print(weights)\n",
        "\n",
        "#printing the structure of the network\n",
        "#from keras.utils import plot_model\n",
        "\n",
        "#plot_model(model, to_file='/tmp/model.png', show_shapes=True,)"
      ],
      "execution_count": 0,
      "outputs": []
    },
    {
      "cell_type": "code",
      "metadata": {
        "id": "d2h-ngRZxj0Z",
        "colab_type": "code",
        "colab": {}
      },
      "source": [
        "model.compile(optimizer=tf.keras.optimizers.Adam(learning_rate=0.001), loss=tf.keras.losses.sparse_categorical_crossentropy, metrics=['accuracy'])"
      ],
      "execution_count": 0,
      "outputs": []
    },
    {
      "cell_type": "code",
      "metadata": {
        "id": "gNa_bb6dxjw4",
        "colab_type": "code",
        "colab": {}
      },
      "source": [
        "history = model.fit(train_samples, train_label, validation_split=0.2, batch_size=10, epochs=20, shuffle=True, verbose=2)"
      ],
      "execution_count": 0,
      "outputs": []
    },
    {
      "cell_type": "code",
      "metadata": {
        "id": "G1IcICzKxUnn",
        "colab_type": "code",
        "colab": {}
      },
      "source": [
        "#plotting accuracy for training and validation\n",
        "loss_train = history.history['accuracy']\n",
        "loss_val = history.history['val_accuracy']\n",
        "epochs = range(0,20)\n",
        "\n",
        "plt.plot(epochs, loss_train,'g', label='Training accuracy')\n",
        "plt.plot(epochs, loss_val, 'y', label='validation accuracy')\n",
        "plt.title('Training and Validation accuracy')\n",
        "plt.xlabel('Epochs')\n",
        "plt.ylabel('Accuracy')\n",
        "plt.legend()\n",
        "plt.show()"
      ],
      "execution_count": 0,
      "outputs": []
    },
    {
      "cell_type": "code",
      "metadata": {
        "id": "tKJxuX15mnLZ",
        "colab_type": "code",
        "colab": {}
      },
      "source": [
        "# predicting the model\n",
        "# first generate test sets.\n",
        "test_sample = []\n",
        "test_label = []\n",
        "for i in range(10):\n",
        "  random_younger = np.random.randint(13,64)\n",
        "  test_sample.append(random_younger)\n",
        "  test_label.append(1)\n",
        "\n",
        "  random_older = np.random.randint(65,100)\n",
        "  test_sample.append(random_older)\n",
        "  test_label.append(0)\n",
        "\n",
        "for i in range(100):\n",
        "  random_younger = np.random.randint(13,64)\n",
        "  test_sample.append(random_younger)\n",
        "  test_label.append(0)\n",
        "\n",
        "  random_older = np.random.randint(65,100)\n",
        "  test_sample.append(random_older)\n",
        "  test_label.append(1)\n",
        "\n",
        "for i in range(10):\n",
        "  random_younger = np.random.randint(13,64)\n",
        "  test_sample.append(random_younger)\n",
        "  test_label.append(1)\n",
        "\n",
        "  random_older = np.random.randint(65,100)\n",
        "  test_sample.append(random_older)\n",
        "  test_label.append(0)"
      ],
      "execution_count": 0,
      "outputs": []
    },
    {
      "cell_type": "code",
      "metadata": {
        "id": "AHxUnkZCnTvQ",
        "colab_type": "code",
        "colab": {}
      },
      "source": [
        "test_sample = np.array(test_sample)\n",
        "test_label = np.array(test_label)\n",
        "\n",
        "test_samples = test_sample /100\n",
        "\n",
        "print(test_samples, test_label)"
      ],
      "execution_count": 0,
      "outputs": []
    },
    {
      "cell_type": "code",
      "metadata": {
        "id": "yVx7iQthoCn_",
        "colab_type": "code",
        "colab": {}
      },
      "source": [
        "#checking accuracy of a model vs test data\n",
        "prediction = model.predict_classes(test_samples, batch_size=10)\n",
        "accu = model.evaluate(test_label, prediction ,verbose=1)\n",
        "\n",
        "print(accu)"
      ],
      "execution_count": 0,
      "outputs": []
    },
    {
      "cell_type": "code",
      "metadata": {
        "id": "l2kgS0J9bOFU",
        "colab_type": "code",
        "colab": {}
      },
      "source": [
        "#another manual way of checking accuracy\n",
        "acc =0\n",
        "total = 0\n",
        "for i,j in zip(prediction,test_label):\n",
        "    print(i, ' ', j)\n",
        "    if i==j:\n",
        "        acc += 1\n",
        "    total += 1\n",
        "print(\"accuracy of prediction =\",acc/total)"
      ],
      "execution_count": 0,
      "outputs": []
    }
  ]
}