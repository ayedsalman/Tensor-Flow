{
  "nbformat": 4,
  "nbformat_minor": 0,
  "metadata": {
    "colab": {
      "name": "Intro to TF.ipynb",
      "provenance": [],
      "authorship_tag": "ABX9TyMlururNgwlmfy2AfBsbQmI",
      "include_colab_link": true
    },
    "kernelspec": {
      "name": "python3",
      "display_name": "Python 3"
    },
    "language_info": {
      "name": "python"
    }
  },
  "cells": [
    {
      "cell_type": "markdown",
      "metadata": {
        "id": "view-in-github",
        "colab_type": "text"
      },
      "source": [
        "<a href=\"https://colab.research.google.com/github/ayedsalman/Tensor-Flow/blob/master/Intro_to_TF.ipynb\" target=\"_parent\"><img src=\"https://colab.research.google.com/assets/colab-badge.svg\" alt=\"Open In Colab\"/></a>"
      ]
    },
    {
      "cell_type": "markdown",
      "metadata": {
        "id": "2-X41pq2XZMH"
      },
      "source": [
        "TensorFlow 2.0 Examples\n",
        "*** More examples to be added later... ***\n",
        "\n",
        "# Prerequisite \n",
        "\n",
        "1. Introduction to [Machine Learning](https://github.com/aymericdamien/TensorFlow-Examples/blob/master/tensorflow_v2/notebooks/0_Prerequisite/ml_introduction.ipynb).\n",
        "2. Introduction to [MNIST Dataset](https://github.com/aymericdamien/TensorFlow-Examples/blob/master/tensorflow_v2/notebooks/0_Prerequisite/mnist_dataset_intro.ipynb).\n",
        "\n",
        "\n"
      ]
    },
    {
      "cell_type": "markdown",
      "metadata": {
        "id": "cakuTZ2wXI2I"
      },
      "source": [
        "# Example 1:\n",
        "A very simple \"hello world\" using TensorFlow v2 tensors.\n",
        "\n",
        "Author: Aymeric Damien\n",
        "Project: https://github.com/aymericdamien/TensorFlow-Examples/"
      ]
    },
    {
      "cell_type": "code",
      "metadata": {
        "colab": {
          "base_uri": "https://localhost:8080/"
        },
        "id": "TFBITrEEWqdG",
        "outputId": "2416851f-66e5-4fd9-c598-5553d27b39ef"
      },
      "source": [
        "import tensorflow as tf\n",
        "# Create a Tensor.\n",
        "hello = tf.constant(\"hello world\")\n",
        "print(hello)\n",
        "\n",
        "# To access a Tensor value, call numpy().\n",
        "print(hello.numpy())\n"
      ],
      "execution_count": 2,
      "outputs": [
        {
          "output_type": "stream",
          "name": "stdout",
          "text": [
            "tf.Tensor(b'hello world', shape=(), dtype=string)\n",
            "b'hello world'\n"
          ]
        }
      ]
    },
    {
      "cell_type": "markdown",
      "metadata": {
        "id": "FQFfywvEYnEc"
      },
      "source": [
        "# Example 2:\n",
        "Basic tensor operations using TensorFlow v2.\n",
        "\n",
        "Author: Aymeric Damien\n",
        "Project: https://github.com/aymericdamien/TensorFlow-Examples/"
      ]
    },
    {
      "cell_type": "code",
      "metadata": {
        "id": "U2DAhn5VY87d"
      },
      "source": [
        "from __future__ import print_function\n",
        "import tensorflow as tf\n",
        "# Define tensor constants.\n",
        "a = tf.constant(2)\n",
        "b = tf.constant(3)\n",
        "c = tf.constant(5)\n",
        "# Various tensor operations.\n",
        "# Note: Tensors also support python operators (+, *, ...)\n",
        "add = tf.add(a, b)\n",
        "sub = tf.subtract(a, b)\n",
        "mul = tf.multiply(a, b)\n",
        "div = tf.divide(a, b)\n",
        "\n",
        "# Access tensors value.\n",
        "print(\"add =\", add.numpy())\n",
        "print(\"sub =\", sub.numpy())\n",
        "print(\"mul =\", mul.numpy())\n",
        "print(\"div =\", div.numpy())"
      ],
      "execution_count": null,
      "outputs": []
    },
    {
      "cell_type": "code",
      "metadata": {
        "id": "7N_TrBu-ZBrb"
      },
      "source": [
        "# Some more operations.\n",
        "mean = tf.reduce_mean([a, b, c])\n",
        "sum = tf.reduce_sum([a, b, c])\n",
        "\n",
        "# Access tensors value.\n",
        "print(\"mean =\", mean.numpy())\n",
        "print(\"sum =\", sum.numpy())"
      ],
      "execution_count": null,
      "outputs": []
    },
    {
      "cell_type": "code",
      "metadata": {
        "id": "UQZVJu6OZCvI"
      },
      "source": [
        "# Matrix multiplications.\n",
        "matrix1 = tf.constant([[1., 2.], [3., 4.]])\n",
        "matrix2 = tf.constant([[5., 6.], [7., 8.]])\n",
        "\n",
        "product = tf.matmul(matrix1, matrix2)"
      ],
      "execution_count": null,
      "outputs": []
    },
    {
      "cell_type": "code",
      "metadata": {
        "id": "BC2r3Yu9ZF_l"
      },
      "source": [
        "# Display Tensor.\n",
        "product"
      ],
      "execution_count": null,
      "outputs": []
    },
    {
      "cell_type": "code",
      "metadata": {
        "id": "ZeJejzMYZJCJ"
      },
      "source": [
        "# Convert Tensor to Numpy.\n",
        "product.numpy()"
      ],
      "execution_count": null,
      "outputs": []
    },
    {
      "cell_type": "markdown",
      "metadata": {
        "id": "DGmn2i6Xgkh2"
      },
      "source": [
        "# Example 3: \n",
        "Basic classification example \n",
        "We need to predict the function that govern the numbers.\n",
        "![simple function prediction.jpg](data:image/jpeg;base64,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)"
      ]
    },
    {
      "cell_type": "code",
      "metadata": {
        "id": "-WW_vOAZgv3v"
      },
      "source": [
        "# import libraries\n",
        "import tensorflow as tf\n",
        "import numpy as np\n",
        "from tensorflow import keras"
      ],
      "execution_count": 20,
      "outputs": []
    },
    {
      "cell_type": "code",
      "metadata": {
        "id": "x56F7okFg0Iq"
      },
      "source": [
        "# design your model\n",
        "model = tf.keras.Sequential([keras.layers.Dense(units=1, input_shape=[1])])"
      ],
      "execution_count": 21,
      "outputs": []
    },
    {
      "cell_type": "code",
      "metadata": {
        "id": "ziHRIhTyg3cc"
      },
      "source": [
        "# compile your model \n",
        "model.compile(optimizer='sgd', loss='mean_squared_error')"
      ],
      "execution_count": 22,
      "outputs": []
    },
    {
      "cell_type": "code",
      "metadata": {
        "id": "Fcw3MDTpla7K"
      },
      "source": [
        "# provide your training and testing data for function 1: 2n-1\n",
        "xs = np.array([-1.0,  0.0, 1.0, 2.0, 3.0, 4.0], dtype=float)\n",
        "ys = np.array([-3.0, -1.0, 1.0, 3.0, 5.0, 7.0], dtype=float)"
      ],
      "execution_count": 28,
      "outputs": []
    },
    {
      "cell_type": "code",
      "metadata": {
        "id": "26m1qLpog6c5"
      },
      "source": [
        "# provide your training and testing data for function 2: 2n^2 - 2n +5\n",
        "xs = np.array([-1.0,  0.0, 1.0, 2.0, 3.0, 4.0], dtype=float)\n",
        "ys = np.array([9.0, 5.0, 5.0, 9.0, 17.0, 29.0], dtype=float)"
      ],
      "execution_count": 23,
      "outputs": []
    },
    {
      "cell_type": "code",
      "metadata": {
        "id": "fnAOxe5Tg_y0"
      },
      "source": [
        "# train your model\n",
        "model.fit(xs, ys, epochs=1500)"
      ],
      "execution_count": null,
      "outputs": []
    },
    {
      "cell_type": "code",
      "metadata": {
        "colab": {
          "base_uri": "https://localhost:8080/"
        },
        "id": "K9mZsDq_hAkD",
        "outputId": "dc1161af-1dac-42d9-bbdb-dbc1810f6281"
      },
      "source": [
        "#test and print results\n",
        "print(model.predict([10.0]))"
      ],
      "execution_count": 30,
      "outputs": [
        {
          "output_type": "stream",
          "name": "stdout",
          "text": [
            "[[18.999987]]\n"
          ]
        }
      ]
    },
    {
      "cell_type": "markdown",
      "metadata": {
        "id": "XB0nBRZObHJK"
      },
      "source": [
        "# Example 4:\n",
        "English handwritten recognition"
      ]
    },
    {
      "cell_type": "code",
      "metadata": {
        "id": "LL1S3OhDbOuO"
      },
      "source": [
        "from __future__ import absolute_import, division, print_function\n",
        "\n",
        "import tensorflow as tf\n",
        "from tensorflow.keras import Model, layers\n",
        "import numpy as np"
      ],
      "execution_count": 3,
      "outputs": []
    },
    {
      "cell_type": "code",
      "metadata": {
        "id": "t-kQZB0nbU6X"
      },
      "source": [
        "# MNIST dataset parameters.\n",
        "num_classes = 10 # total classes (0-9 digits).\n",
        "num_features = 784 # data features (img shape: 28*28).\n",
        "\n",
        "# Training parameters.\n",
        "learning_rate = 0.1\n",
        "training_steps = 2000\n",
        "batch_size = 256\n",
        "display_step = 100\n",
        "\n",
        "# Network parameters.\n",
        "n_hidden_1 = 128 # 1st layer number of neurons.\n",
        "n_hidden_2 = 256 # 2nd layer number of neurons."
      ],
      "execution_count": 4,
      "outputs": []
    },
    {
      "cell_type": "code",
      "metadata": {
        "id": "Jk_mCCOybXae"
      },
      "source": [
        "# Prepare MNIST data.\n",
        "from tensorflow.keras.datasets import mnist\n",
        "(x_train, y_train), (x_test, y_test) = mnist.load_data()\n",
        "# Convert to float32.\n",
        "x_train, x_test = np.array(x_train, np.float32), np.array(x_test, np.float32)\n",
        "# Flatten images to 1-D vector of 784 features (28*28).\n",
        "x_train, x_test = x_train.reshape([-1, num_features]), x_test.reshape([-1, num_features])\n",
        "# Normalize images value from [0, 255] to [0, 1].\n",
        "x_train, x_test = x_train / 255., x_test / 255."
      ],
      "execution_count": null,
      "outputs": []
    },
    {
      "cell_type": "code",
      "metadata": {
        "id": "RAJ6wzxSbZ1O"
      },
      "source": [
        "# Use tf.data API to shuffle and batch data.\n",
        "train_data = tf.data.Dataset.from_tensor_slices((x_train, y_train))\n",
        "train_data = train_data.repeat().shuffle(5000).batch(batch_size).prefetch(1)"
      ],
      "execution_count": 6,
      "outputs": []
    },
    {
      "cell_type": "code",
      "metadata": {
        "id": "dzHL0BQrbcbQ"
      },
      "source": [
        "# Create TF Model.\n",
        "class NeuralNet(Model):\n",
        "    # Set layers.\n",
        "    def __init__(self):\n",
        "        super(NeuralNet, self).__init__()\n",
        "        # First fully-connected hidden layer.\n",
        "        self.fc1 = layers.Dense(n_hidden_1, activation=tf.nn.relu)\n",
        "        # First fully-connected hidden layer.\n",
        "        self.fc2 = layers.Dense(n_hidden_2, activation=tf.nn.relu)\n",
        "        # Second fully-connecter hidden layer.\n",
        "        self.out = layers.Dense(num_classes)\n",
        "\n",
        "    # Set forward pass.\n",
        "    def call(self, x, is_training=False):\n",
        "        x = self.fc1(x)\n",
        "        x = self.fc2(x)\n",
        "        x = self.out(x)\n",
        "        if not is_training:\n",
        "            # tf cross entropy expect logits without softmax, so only\n",
        "            # apply softmax when not training.\n",
        "            x = tf.nn.softmax(x)\n",
        "        return x\n",
        "\n",
        "# Build neural network model.\n",
        "neural_net = NeuralNet()"
      ],
      "execution_count": 7,
      "outputs": []
    },
    {
      "cell_type": "code",
      "metadata": {
        "id": "C_odQBuvbfmO"
      },
      "source": [
        "# Cross-Entropy Loss.\n",
        "# Note that this will apply 'softmax' to the logits.\n",
        "def cross_entropy_loss(x, y):\n",
        "    # Convert labels to int 64 for tf cross-entropy function.\n",
        "    y = tf.cast(y, tf.int64)\n",
        "    # Apply softmax to logits and compute cross-entropy.\n",
        "    loss = tf.nn.sparse_softmax_cross_entropy_with_logits(labels=y, logits=x)\n",
        "    # Average loss across the batch.\n",
        "    return tf.reduce_mean(loss)\n",
        "\n",
        "# Accuracy metric.\n",
        "def accuracy(y_pred, y_true):\n",
        "    # Predicted class is the index of highest score in prediction vector (i.e. argmax).\n",
        "    correct_prediction = tf.equal(tf.argmax(y_pred, 1), tf.cast(y_true, tf.int64))\n",
        "    return tf.reduce_mean(tf.cast(correct_prediction, tf.float32), axis=-1)\n",
        "\n",
        "# Stochastic gradient descent optimizer.\n",
        "optimizer = tf.optimizers.SGD(learning_rate)"
      ],
      "execution_count": 8,
      "outputs": []
    },
    {
      "cell_type": "code",
      "metadata": {
        "id": "whz9vKYBbil2"
      },
      "source": [
        "# Optimization process. \n",
        "def run_optimization(x, y):\n",
        "    # Wrap computation inside a GradientTape for automatic differentiation.\n",
        "    with tf.GradientTape() as g:\n",
        "        # Forward pass.\n",
        "        pred = neural_net(x, is_training=True)\n",
        "        # Compute loss.\n",
        "        loss = cross_entropy_loss(pred, y)\n",
        "        \n",
        "    # Variables to update, i.e. trainable variables.\n",
        "    trainable_variables = neural_net.trainable_variables\n",
        "\n",
        "    # Compute gradients.\n",
        "    gradients = g.gradient(loss, trainable_variables)\n",
        "    \n",
        "    # Update W and b following gradients.\n",
        "    optimizer.apply_gradients(zip(gradients, trainable_variables))"
      ],
      "execution_count": 9,
      "outputs": []
    },
    {
      "cell_type": "code",
      "metadata": {
        "id": "9NEPWrXsblSX"
      },
      "source": [
        "# Run training for the given number of steps.\n",
        "for step, (batch_x, batch_y) in enumerate(train_data.take(training_steps), 1):\n",
        "    # Run the optimization to update W and b values.\n",
        "    run_optimization(batch_x, batch_y)\n",
        "    \n",
        "    if step % display_step == 0:\n",
        "        pred = neural_net(batch_x, is_training=True)\n",
        "        loss = cross_entropy_loss(pred, batch_y)\n",
        "        acc = accuracy(pred, batch_y)\n",
        "        print(\"step: %i, loss: %f, accuracy: %f\" % (step, loss, acc))"
      ],
      "execution_count": null,
      "outputs": []
    },
    {
      "cell_type": "code",
      "metadata": {
        "id": "7KhB9bNgbn51"
      },
      "source": [
        "# Test model on validation set.\n",
        "pred = neural_net(x_test, is_training=False)\n",
        "print(\"Test Accuracy: %f\" % accuracy(pred, y_test))"
      ],
      "execution_count": null,
      "outputs": []
    },
    {
      "cell_type": "code",
      "metadata": {
        "id": "cCbZseiabqUj"
      },
      "source": [
        "# Visualize predictions.\n",
        "import matplotlib.pyplot as plt"
      ],
      "execution_count": 12,
      "outputs": []
    },
    {
      "cell_type": "code",
      "metadata": {
        "id": "d7uJBTe6bs5V"
      },
      "source": [
        "# Predict 5 images from validation set.\n",
        "n_images = 5\n",
        "test_images = x_test[:n_images]\n",
        "predictions = neural_net(test_images)\n",
        "\n",
        "# Display image and model prediction.\n",
        "for i in range(n_images):\n",
        "    plt.imshow(np.reshape(test_images[i], [28, 28]), cmap='gray')\n",
        "    plt.show()\n",
        "    print(\"Model prediction: %i\" % np.argmax(predictions.numpy()[i]))"
      ],
      "execution_count": null,
      "outputs": []
    }
  ]
}