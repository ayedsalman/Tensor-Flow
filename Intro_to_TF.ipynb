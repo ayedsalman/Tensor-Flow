{
  "nbformat": 4,
  "nbformat_minor": 0,
  "metadata": {
    "colab": {
      "name": "Intro to TF.ipynb",
      "provenance": [],
      "authorship_tag": "ABX9TyNuD0QOP1z/5POeQdZXeZl2",
      "include_colab_link": true
    },
    "kernelspec": {
      "name": "python3",
      "display_name": "Python 3"
    },
    "language_info": {
      "name": "python"
    }
  },
  "cells": [
    {
      "cell_type": "markdown",
      "metadata": {
        "id": "view-in-github",
        "colab_type": "text"
      },
      "source": [
        "<a href=\"https://colab.research.google.com/github/ayedsalman/Tensor-Flow/blob/master/Intro_to_TF.ipynb\" target=\"_parent\"><img src=\"https://colab.research.google.com/assets/colab-badge.svg\" alt=\"Open In Colab\"/></a>"
      ]
    },
    {
      "cell_type": "markdown",
      "metadata": {
        "id": "2-X41pq2XZMH"
      },
      "source": [
        "TensorFlow 2.0 Examples\n",
        "*** More examples to be added later... ***\n",
        "\n",
        "# Prerequisite \n",
        "\n",
        "1. Introduction to [Machine Learning](https://github.com/aymericdamien/TensorFlow-Examples/blob/master/tensorflow_v2/notebooks/0_Prerequisite/ml_introduction.ipynb).\n",
        "2. Introduction to [MNIST Dataset](https://github.com/aymericdamien/TensorFlow-Examples/blob/master/tensorflow_v2/notebooks/0_Prerequisite/mnist_dataset_intro.ipynb).\n",
        "\n",
        "\n"
      ]
    },
    {
      "cell_type": "markdown",
      "metadata": {
        "id": "cakuTZ2wXI2I"
      },
      "source": [
        "# Example 1:\n",
        "A very simple \"hello world\" using TensorFlow v2 tensors.\n",
        "\n",
        "Author: Aymeric Damien\n",
        "Project: https://github.com/aymericdamien/TensorFlow-Examples/"
      ]
    },
    {
      "cell_type": "code",
      "metadata": {
        "colab": {
          "base_uri": "https://localhost:8080/"
        },
        "id": "TFBITrEEWqdG",
        "outputId": "2416851f-66e5-4fd9-c598-5553d27b39ef"
      },
      "source": [
        "import tensorflow as tf\n",
        "# Create a Tensor.\n",
        "hello = tf.constant(\"hello world\")\n",
        "print(hello)\n",
        "\n",
        "# To access a Tensor value, call numpy().\n",
        "print(hello.numpy())\n"
      ],
      "execution_count": null,
      "outputs": [
        {
          "output_type": "stream",
          "name": "stdout",
          "text": [
            "tf.Tensor(b'hello world', shape=(), dtype=string)\n",
            "b'hello world'\n"
          ]
        }
      ]
    },
    {
      "cell_type": "markdown",
      "metadata": {
        "id": "FQFfywvEYnEc"
      },
      "source": [
        "# Example 2:\n",
        "Basic tensor operations using TensorFlow v2.\n",
        "\n",
        "Author: Aymeric Damien\n",
        "Project: https://github.com/aymericdamien/TensorFlow-Examples/"
      ]
    },
    {
      "cell_type": "code",
      "metadata": {
        "id": "U2DAhn5VY87d"
      },
      "source": [
        "from __future__ import print_function\n",
        "import tensorflow as tf\n",
        "# Define tensor constants.\n",
        "a = tf.constant(2)\n",
        "b = tf.constant(3)\n",
        "c = tf.constant(5)\n",
        "# Various tensor operations.\n",
        "# Note: Tensors also support python operators (+, *, ...)\n",
        "add = tf.add(a, b)\n",
        "sub = tf.subtract(a, b)\n",
        "mul = tf.multiply(a, b)\n",
        "div = tf.divide(a, b)\n",
        "\n",
        "# Access tensors value.\n",
        "print(\"add =\", add.numpy())\n",
        "print(\"sub =\", sub.numpy())\n",
        "print(\"mul =\", mul.numpy())\n",
        "print(\"div =\", div.numpy())"
      ],
      "execution_count": null,
      "outputs": []
    },
    {
      "cell_type": "code",
      "metadata": {
        "id": "7N_TrBu-ZBrb"
      },
      "source": [
        "# Some more operations.\n",
        "mean = tf.reduce_mean([a, b, c])\n",
        "sum = tf.reduce_sum([a, b, c])\n",
        "\n",
        "# Access tensors value.\n",
        "print(\"mean =\", mean.numpy())\n",
        "print(\"sum =\", sum.numpy())"
      ],
      "execution_count": null,
      "outputs": []
    },
    {
      "cell_type": "code",
      "metadata": {
        "id": "UQZVJu6OZCvI"
      },
      "source": [
        "# Matrix multiplications.\n",
        "matrix1 = tf.constant([[1., 2.], [3., 4.]])\n",
        "matrix2 = tf.constant([[5., 6.], [7., 8.]])\n",
        "\n",
        "product = tf.matmul(matrix1, matrix2)"
      ],
      "execution_count": null,
      "outputs": []
    },
    {
      "cell_type": "code",
      "metadata": {
        "id": "BC2r3Yu9ZF_l"
      },
      "source": [
        "# Display Tensor.\n",
        "product"
      ],
      "execution_count": null,
      "outputs": []
    },
    {
      "cell_type": "code",
      "metadata": {
        "id": "ZeJejzMYZJCJ"
      },
      "source": [
        "# Convert Tensor to Numpy.\n",
        "product.numpy()"
      ],
      "execution_count": null,
      "outputs": []
    },
    {
      "cell_type": "markdown",
      "metadata": {
        "id": "DGmn2i6Xgkh2"
      },
      "source": [
        "# Example 3: \n",
        "Basic classification example \n",
        "We need to predict the function that govern the numbers.\n",
        "![simple function prediction.jpg](data:image/jpeg;base64,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)"
      ]
    },
    {
      "cell_type": "markdown",
      "source": [
        "# First: \n",
        "Simple linear equation"
      ],
      "metadata": {
        "id": "bwlCn9pQ9Qd_"
      }
    },
    {
      "cell_type": "code",
      "metadata": {
        "id": "-WW_vOAZgv3v"
      },
      "source": [
        "# import libraries\n",
        "import tensorflow as tf\n",
        "import numpy as np\n",
        "from tensorflow import keras\n",
        "import matplotlib.pyplot as plt"
      ],
      "execution_count": 31,
      "outputs": []
    },
    {
      "cell_type": "code",
      "metadata": {
        "id": "x56F7okFg0Iq"
      },
      "source": [
        "# design your model\n",
        "model = tf.keras.Sequential([keras.layers.Dense(units=1, input_shape=[1])])"
      ],
      "execution_count": 2,
      "outputs": []
    },
    {
      "cell_type": "code",
      "metadata": {
        "id": "Fcw3MDTpla7K"
      },
      "source": [
        "# provide your training and testing data for function 1: 2n-1\n",
        "xs = np.array([-1.0,  0.0, 1.0, 2.0, 3.0, 4.0], dtype=float)\n",
        "ys = np.array([-3.0, -1.0, 1.0, 3.0, 5.0, 7.0], dtype=float)\n",
        "print(xs)"
      ],
      "execution_count": null,
      "outputs": []
    },
    {
      "cell_type": "code",
      "metadata": {
        "id": "ziHRIhTyg3cc"
      },
      "source": [
        "# compile your model \n",
        "model.compile(optimizer='sgd', loss='mean_squared_error')"
      ],
      "execution_count": 4,
      "outputs": []
    },
    {
      "cell_type": "code",
      "metadata": {
        "id": "fnAOxe5Tg_y0"
      },
      "source": [
        "# train your model\n",
        "model.fit(xs, ys, epochs=500)"
      ],
      "execution_count": null,
      "outputs": []
    },
    {
      "cell_type": "code",
      "metadata": {
        "id": "K9mZsDq_hAkD"
      },
      "source": [
        "#test and print results\n",
        "print(model.predict([5.0]))\n",
        "#pre = model.predict([10.0])\n",
        "plt.plot([5.0], model.predict([5.0]), 'gx--')\n",
        "plt.plot(xs,ys, marker='o')\n"
      ],
      "execution_count": null,
      "outputs": []
    },
    {
      "cell_type": "markdown",
      "source": [
        "# Second: \n",
        "Quadratic Equation\n",
        "![image.png](data:image/png;base64,iVBORw0KGgoAAAANSUhEUgAAAeEAAAEhCAIAAADHwI/tAAAgAElEQVR4nOy9eZxc1XXv+1tr71NV3a1ZIASIeZ4MNrYxNmaeDGIGYZtgDE7iXNsvL3m5cW5y867fffkkTuKE2L5xBs8GY2PMYAyI2cHGdpiMmQchECAJEJLQ1FPV2Xut+8c+51RVd0vA50rqRr2+Hw1Vp87ZZ9fprt9ZtfYaaPHixcw8NDTkvQdARKpKRDAMYwx41BbZ5JbR+xvGW6VWq3nn3Lx585JAiwgRmUwbxv8ZptHG5mHRokU8ODhYPU8CnR6M36wMwzCMAl+v1733qqqqzAxARJhZVcd7boYxAUnmy6Y/HbqRx4bxtvEigg4LOj2FmdKG0abyXVSOi01/Otz/8fhvcf+3fojxjkRVOYRQPQHAzMmaNgxjFKOXB99Z4xvvMJiZnXMAVLWyoNFhTRuGYRjjhYgUJjMRJbGuXB/jOS/DMAwDICJG6eWofB0wjTY2B51fzkZ8URtz50083dLEGDtP2nl2VVWlyu2rQJCYHotIjBEQlQAIIJ0jdAxRfcSgCkX7z5iIFKZSOmrEdUvzUSVb1Z8kmOvZ2CKkWHtmrr6ZbXqdI5kFeZ4n6SGireZwi1Erj191dgAhhM6MgfRSlOjYxRhjjJWrkNJb68gqICJViAKiKlKGtIKoUOqNISIpwqrzUqSX0tIRlbRarS12SYwJhGm0sUWowjeTNMcYk/ps4hBVzbKMiPI8Twq4FWRaVZ0rFJmZ070hqaH3vjMIVQSq5Ngp1DnHzKrJiO6apIjEWFjNRACRaECpsCiVuhuuPonMnOaTZVl16dJLKdEMQFLner3HPr+TAfsZG1uEGGMVzalaiNqb+tBCCEmpnXMpTn9Lz7Oy35MCpnuD9z5JauWiSQs2RKSoJLuyjgkojXDVSmSLuZM471EqbGmOb5R0uk5fR+dk0oNarTamG8TYJjGNNrYIlbwmc1jfTJyS5CUdrCzHreJyFdXoPQMSQquyqb331ZQq74QqCEQgAMnLEUIAUcjz5M3p8EenNwUVAUQkVN7qjd6nlKFMpCKhTCYLMeYAUpYZEXnvkyyrkggsTHYyYD9jY4tQOQ1EJCnvpo3oarE6Gd1V1uuWpvI4dxr+yXRlZlXEqMk7UdmsooLSd+Gcg6rPMnT4jlUhkvw8Xcvv1eNNmL8jrpJzLoSQ5tZsNivpZwbzpvzaxjaDabSxBUkuXXQsBm6CzviiEctlW47K45xM5uRgiTGWZSCRLOtKqQEwcdLxaoYSI4gkxnJ1Ec5RIcSkMeTMyPMc5VriJu4+aQLVvS2E4JxLNnu9Xk/HVlfSwq8mA368J2CMP53aWX7qk8CwArHjVVfsULzaOQJVA5EA+Na3r/jZ3Xd75KeeeuqFF1/CWUYANCZdUXDHuQCIxPxv/uZvh5r65//9L3vq7NrSqdW5qnm2D9R0ujE1T6AR2oKmd5CBPMgBDOocilUlRZ1Uxvv3r7jy7rsWStTTz1xw/oILMg8iJdLQipxlTCASSPPvv3S5cvbHf/r5ZPhfdcWVd991e4gy/5yPnnfBeRkjhOCdOp8BuOoHV959992tZjjrzAs+dtGC9iSrq0EAhAGV4HwNwPDw8J99/r++sWZdM2/tvvvu/+9ffmHqlF4AlN4AwepTTgbMjt7G6YrD1e4/AhFJ/7ekFRAFokDMA1Qk5grkQH+Ox5/H489j7RBaaclMIzTtCyhi1JC2CxAFGl9f8erUmbO/f9WVX/n7Lz7wq5+/MTAwlF4mgeYqeQTy5BOIUNWQD3/+jz530nHHCjXUe+U0ZyLSFHeMFMYGRECqd5TGlJjCkxUSVSSUq3oxh2xA8zW8cB+W3I/+VxEHIHlaaUuD5hEKSGQFBApSACteWz19at8V3//6Vy//m1/de/+69VEB5ojmBu+BmK7e8OInHyQNwu6x55f1A6+tWjN92pTvfu/rX/unv7vn3vtWrWkC8KwAq9Jrr6+YPnP6lVd886tfufzee+7fsAYCEAJ0CJq3AnKUFxZ5cqsEIHO1XXba5Rvf+NZVP/zRX/3t3/VM6VUFFMTp2otK09LHt3nMjp6kiIAcFNyKADNxrSnwDFVkmY+AOh+Bp5eEb191+xvrW0TU8K0//syCPXZExhmVWkmAOhIgKBqaIoVl9vbbnXfOGRDMmDaznjVeXbZ0j332/dI/XD61kT1w373Bud/53T885uijWi3UawARM//DV/5x1aurwQ/FiMhwDiLqXGWicyXNnDaEJligAkQCEEEqjhlwCAoRuCZefuKxO6/Lht4QkYFsu/fP/zh22guRudYDJYTofIacPClaOWXJXqntsMPss889D3H1rOlTMl9f/frq6X0z/uFLfzV37ty77vy5aN8ffvYzRx6x9y233nbG2ee3XO+PbvzJn/0/n5s5a9aZ556DsG76zBlwfvXaDXNnZMQAHBFmzJ519pnzgeHtZk5t9ExZtuy1vXtm/8OX/3ba9N57f3kf85RLP/W7x3z4Q94RRP7jjruXr8s/euF5MW9qDDHmnmrpfukJUDSbqDcAgJ19frd97Ge8jdPhmqh8BKxAriCglYMzJIUlxmBA5jEo8AwAa4fx71f/fNlaBO5jYgwN/dO37vj8H508ZxoIyAXswFRYlhkhRvQ5BHhmJhECr9sgU6Ztf+Deu4o0X3pu+XHHHv3tK654ZcWrX/m3qz/w/qOm1AFCDHDeQwezjFhZBM6h7bQlThNO0+fC/MxBTYRhSA5tFcatAjGCCcxQYLh/yS3fnbphOTfXu8x7WrPolm/se96lmDYbTUAUWR3DscgqIUX0qE2DKjSDY1A20L9+xqzpu+82x+dr16xYsfO+h33rR9esX77qO9/497m7zlk55PbYex9wlrWGli1Ztt8e8wCCq72xavW06TN22nk7YoEWl77uMokDzsm6N9Y2pk3bc9+5NR1e8dKS7U847RtX/cn6l5Z+71tf//CHPhBIPbEKqRKAWo1efeWFz37u0+sH5fTzPnbRgjNCDu+lUWdVVZAIOWdfhbdxTKMnCe1vxAoI2Hnkiptv+9Udd//aub7+Ia3Vp3DmW6EJRFUFNaKb3p+7QcpcrVeies9LV274i/95g5f1hCYRCRSaM3tR5nz4lA8fvODc49gDEJYAcd/8zvcXfPwTjoIG7embceKJ8+HiTjvMHepvLlx41w3XfNeTfPoPPnf00e+DxhCbIlLL0GqhpwaCQiOQddcBFSBCIzR//O5bly56upcD8iZCs+GzGENkAYBcp2J4dljVaK1zOsiSqcrAWn30+//WRC3Pc2KvjZ5Wq1UD8jyvT526uqXz3nXkYcfPh4tQh+D//btXn7PggnoDaHoKOPWMcwMwZ9aMVStf7Zs15y++8FfQ3EO/8N/+NARxEImRIn/ryh9ddumlUxq45667v/Ptbw6H7DOf+8wxRx/umCDue1ddc9FFl2QOGA71rHHcKacGYMeddhhcu27tujduunXhL265DvADmP7Tm287/yNHXX755ag3hnL6wz/7n+8//P0H7bkDYoQTIg4Bzr/dIqjGOw/T6G0dRVol63DkRgACJsLzLyx2HoNDg719M4eHW3lriBzq9VqMsSVRKLKvMblmaBKchHz21CmD61b01bTGrKoqgUiAUPcNjfLsM095f5wgAE2wv+o739thl533OWhvoJ8oRjjxNaDZbA5CcNzRx3303BMBCTkDAYwi6VpQr6W6FoEp+VQY5cpJe2UySKsVWq08c0JBEBBBeZGADnWqQVWViJ2yRDDBO1ofmjlRVs9ENG/mmfekAp+FPNZcY+nyZYcxgCbQ872rb9l+14P2O2jfqOIivK+HEAgZWDxTrrEF9FDGAEEyJ9DIzN++6sa5u++/285zMuDYE0845rgTwEwEaD8I//LNq6bP2/OAA3ZyAsA5X89IPYBmSxW+0XPxxRd/6uKz7r3754tfpwsWnDmFAArQViPz7z3s4GXLXjpwrx3gM43peFIRshDpbR3T6EkHAQxRcFT88f99CYCUpBwExGAgAAwIsGIdvviPN8eB4F3dOUg+3OP4L7/w8d3mtJuREJDn6MlAgixld2DYgS7/4hf32H3fsz5+Xq6oEedRhCkgQtU5V6tl3lHKlqbkyVAWgndIBYtU4ZhjyMcyFR0g8D2Hf+Scw0/5SFr6LO9AAo1wBBX0r150xdcwSFnIiCh3PSGb+f7zL8KcXQBGBLgGckXUhwJZA74HCsTwT//4xe12P+Scj50ZkzvZeWZGaBIyaQ67zDuXMeCAGFoeBEfIW5f/01dnzdt7wYKzPRBiyBzDcfKjYLj5T1+9fO5+7z3n7HM0AJTyLwmau5Q+TpAIgQKcR8l8zTkgAjHAuxUrVtz/wH9+4AMfBBCC+OTfIAu+mxSYRm/rlD7oUniLbQ6Sqh62AuoeCmRc7NtIGgLsPB0XnfG+H1z3i6FmjMNxap9ecNqRe8+BB0SQcRJF9GaoCQhQApA74JlHH3v0kScefeK5H91yIxyfddr88y+4aFgG1bVE1ftaa3iQJBIYgHPaag7/tz/5k9dXrQlu5u/+3qd//7JPnXjC+6NE56s5V9YiF3+EwHVwD0TgCBogAu9BDipoDWHqlH1P/tjDd93cGFoD0VZ92mHHn4bt9wP3gDLU6oAHGBoRc2QOlIQ7e/6pRx559DdDjz13460LI+GMk0+47NzTI0KflzrA9SwPwnAEALl3gGaIWPTcC48+/lj+6JO333brwHD+0QXnf/SCM1VbTDXV+MKSpQ89+Kg+/uJPrr0xk/rpp5z4sY+fNSzDzjmFck+NvWMiVgftO/7EMwM7AHfeedNVV16RKyHrvfhTn913392cAo6Rt5D5IErs+M1awhjvdOjZZ5/dZ599rBf4pKAjEFpFwERl+HGEJiM4feZjzMmxwLWA11bigQeXEtFBB87bazdkgINAlchFARgUwQoQIqJzAg1QhnqwU2opiCQDoaVwDI8mlICaAqQQzdkRoFABsSJrCXwSb8qBSPAAa6nRVISSVO9FijpyjlO8sKhjBmmANBEHsHLZ4OInINq754HYfmdkdbgGuAZkACCKGOFYWEXEk0MI4BbYgXqaQBTUGF5ykIg6ZoYI4AMjAhlaDEWsAwAH1UjC8NmQggkO6hEVXmJ0rEW9UqqRFmHdUZrB9wCoSYuE1XtVsCqIWhodk0MOEVBPSyAMJngRVgF7FHdEE+htnEWLFplGb+NUERHtJ6NTQSjZqgIwlIt9CCBRcOwwZR1AEAh3HZ4OJSgLICQM5TJELgcI4kEofeLpduC1EFwphhcPQlGFQlOeRoqHps6ycO25dbwL7fC1l7EfUkRwawvaBLgwn5NrvjyEISQAcZMAoF5IfxMIYAYyqC+vTwQcwMU7JQjEFWMwAHAAFOJA3CIo4LvaGgpUQBFwEJ+upkJSTGFHk8QUTQglFrDrvLYEQAii5dWgrh+tsW2yaNEi83Vs84zMCRzjU61cyvSI7SASX1jJ5WgjJBJVCDPKE3GHpoy4MQjgMIYBWJrJEIaAql9L6pp5uU0B6sgV7O7AWr5fYjgADloHsSY11Pbck0y7cjIp0NoBUFcmzuSlRqcr0L4zpXkqmLqcMJJe5Wqhs3rjVF1hTfsUAypcEeCdZi5p9K6eAuUZqzea/nNjXHxjG8Q0ehunOz66W++6DOrSn5AUoTBvC7Oa2qKctCYk1UPlfEBSEUZZkzMWXm/qPmllEUt1rrbxXgyjHTuj/VIpbWgrYPG+XLdKJ9ufK12jlHcuTqs7QSXTDApQ1MAxxbsQnHoolymNOYgAL+BRnl/u2ChQBrGSAOLAvjMZspg5Jylu+yhKjw1Tse7JYFDaTUgDABDH5LWvfhYoBipF3+I6tnFMoycJI81kBY+QnG5rNOkVV3t3vqiIQEwKVQhel1Ur1UHtShSFE7bzpDJCnbvn0i3Q6DQYBV3fDmTEDlTu5MpqGARAAxSlH6U4RWG/EqBw1OHlpjJrhkYZ8sWb5Y7LJdUVaFu4WsZcFAKdjHgew+QtvDrpNIXro/RjaMel6DwipeGbOk8KTKMnA9WHOWlWGxm5Q7fqJSO08wBqv8qFfKQv+EJgBgMiiAAcnBRCJpxkuquSESqvSPfgXPoZMJYGjbCXUdiexVQBJL9NsYd2jqDc4YYGSl9BZz0jlyo3EQAU1itxkktXOILbAl947NMzRiTWsuaUAqDC267FFePqyrUvBYEopDkwyhN1KDtAmrzS7QsXytrUrnupwdhmMY3e5qm8o5U6SedrHVs6a9FVH/2ONa1SZqjr1faAVMhN2geuqJnHVNqz1Ym5+rJfDUul4TxCtdvyJNW03AjLPg1ZbSqNYiqTyBWg0iNc5sIU+2vH6ah8s6VHhZNjgbTjPXf4f8tdx7Bny50ZFIobyagZd+w8xghtS1lHby+nas7oSYBp9GSAO/7dmAdjxP5J0UTBRCP27PJRKAEdX+EJgPpqf0dtnaWuIqJts5RQnqgYscqKrMYvvAEAoNJ9L+l41OlFSVZ18u0StFiXY1fk6zC0ELhu5S3sfiotZE7LnsTdN6pifS8lCSb/SbptlF54Qdv3zQ6s6Y0QysCM6rwdH8DSv1xePE3fTrrfHVN1Q6UyXtLYpjGX1mRlYwLddsry6F+P8qAu+260q3tjT7nr4UiHeDecyo1WGYTt7dp9irHMTJCM2E07H7WDTKS0S6tvEumE0o7hG+UgSspO5VHV2mD73VSnoG6XOkQ7wjPG/BF0up1pjJe4ukFu3C43tinMjp6sdArASI9zp9XWtfNIs64zSmzMkSsfcfms7Wpo02FXdskSj73/6PFHbmBQGV9SriKWocrc1k3qjPLuvH1wx/P2zLvPWH41oa6Zu87r03ElO70jGGkat088ak903slGvGQW9CTBNNp4ux/3kRIz8ujRo9GmXuwac1OHbur4MQbs3rNL4DZtv4+hqhvZcxRj3Wne/Ki3vafJ82TCfB2GYRgTF9NowzCMiYtptGEYxsTFNNowDGPiYhptGIYxcTGNNgzDmLiYRhuGYUxcTKMNwzAmLqbRhmEYExfTaMMwjImLabRhGMbExTTaMAxj4mIabRiGMXExjTYMw5i4mEYbhmFMXEyjDcMwJi6m0YZhGBMX02jDMIyJi2m0YRjGxMU02jAMY+JiGm0YhjFxMY02DMOYuJhGG4ZhTFxMow3DMCYuptGGYRgTF9NowzCMiYtptGEYxsTFNNowDGPiYhptGIYxcfHjPQHDMIy3igIASAGSchvrWHvS2ANIl2Gq7f06BynH34gJW0yi8+gtiGm0YRjjRqWMVD1viy+6VVIUHAECHAQSQQJigDsP6DySgCTK5VkEEEovarUFaQdpay8cBCqg9gS03JPKSStBIJy2bEnM12EYxjhDSR3HtIc3egygDO06lAEHcKlrbzLeWC8XSq0jX92IEG8N/TQ72jCMcYMqKRzLgu7WSQbgklxSqcOldlIynDUAkQDAKXlpW9PtETrOXQp9Opwwpj1eOjSYqvlsBQdHB6bRhmGMF1J5G97iAZX7onrSjZbDgsYSN6rORR2btPifgVjcA6RwaJSDpnsJpaOKewnzVpFr02jDMMYX7VjKK8xnKnQWnRvRtmoFAFRATGAulR7koFQOJa50Wow0pUuHcjEUcdqPaMR6YnGmUTeQWEr61sD80YZhjCMMEIjTAt0oP/BIOhwSpUxDOvSSQVx6MaBt17QUf7Qt0CgUvMPDoZX0asetoNyjOFYAKJQ6HTVbErOjDcMYL9rSvBFGW7ECqMIBngilUnc7HQgAB7CUq4jlWmCX8dvhZGmfhbtezLrO3BWlt/V80qbRhmGMG23/cQm3vcZt6RwRZCHgck+uJLNjH45geTOTfOSQyoX1XFjhbeu5jAuU8tFWXTQ0X4dhGONJOxelIwxDVUUAcIiFRyFGAFB4LS3LWLkfVKEREgCIQMFahDlDFQot7Onk4CCIFKcjEMCqCkDyvJhNcoaoKKBtmRdQscIpYNmK1q1ptGEY4wm31Vkqd7OIEHOIykwEaIieQQoC8pBLl7tBQQQiIlJVYhYpTGECPAlBtVhIdMUZnUiMBDCIwHkeVZWzrLSgAQBUG2rlWnmo2+7njecfbhnM12EYxrhRrsyNcCszO5fnmmVEAGJgVkgLMcLXa84pIQKsIAJigHcxKjkmUJTomTo8FRIDiGtMhT+EtKWIznmAoCyCWq0mIsqRtMgAV3It1XotGzVdTbHZ0jH7LY1ptGEY40gZbkHtgLgUiweXFgVzaA5pQZtQwfA6cIP8dOe9KBRKHlCB8wI4wLNCciSvCBODvHcpdTAKiEAcCQKI5gqtsUeMkRwUjkjgBKpBHRFHBRS+iIlGp9ObR61TbjnM12EYxgSg7fktRCljQAVhCLIBa196/vpvPf39Lz9/7dew4SXIECUjmijFwwWBACEMQXLEwTeWvnjK/HP+7Ts/DMIxqkSIgFJgHgSQf/3q1844df6pJ5z8ra9/GxQU+tV/+9cPH3/8R0449jvf/AYRp/CRjMEEia1yYoVUl1MeMzNxM2MabRjGuNERwkwpULoqb5S3AiSCcmx47eGrv75h8UP8+lPh5Uef/MG/YM1SxGEGQhBVBbFjMJA5B41gvuGmWy76xKXNljp2jh23lwzDcGto9cqV282cffNNC79/5RV33XnrwODahx594D/vf+jmhXf89KfX//IX9zz25BIp9F8lNp1nBWuV/6JbNbDDNNowjPEhyXEEg3xp5bZj5mqZh7YgQ88vvDbbsHQ7XTU7XzlTN2QbXn38J99GvgqtDZln4VquHlCNwyAC+cceefal19fttdc+jSyjlKaiEE3ejtioNWbP3u6CBZ9A5rfffrvehnvp5cVLXn7+w8ec0GjUsr7e977n3cuXryyLNCkX8SMoNlRT73y6JTGNNgxj3OAuDerIM6zKF6n2r3m9Ls0eGebmehf6fRgaXrcKaMEpNOYRSnDQzBFag9B4zQ23fO6P/6xWq2mKACEwwxMUqqqAA2fwERJXrF7dO2v2rnvuVXO1lxY/6xWAi8QvLFlMKKuOuiyF4AkALdwlWxPTaMMwxgcCNILaOdZCkCJmLu3hesG9jb6ZIoiUqa+1iLRRC/WpEA8ESCsrqnIQVECt239yzZ577dM3vU81KmtgBAI0EkKmHqEBzSAC149s8G//5WuXfO7zjcbcM045q7c1cPrRR59w7CnX3XTn3nvt6oEoyRXjQB5VBF5Zkom21pqhxXUYhjFucOGLliIPhR13BCDnIc8Y+334yBd/8uzatYP1xgzUe/p52vtPPBO1KYAHcwhwHkUpJZH773/wzgee+/YPfuzRiqG1ZMmSv/7rLzgiVYbCOyDGFCf95X/+6h777LHffrsp4Dn7/7/w/6FWh8++/C//vvOO20Phi6lwlOg6rdkizabj8ZbENNowjHGjSP3TCALgoEwkUEgEO2S+heZavPxMnjdl2k6r1Q+o++Ap57p9D4NkyDzgihBrgubw2bT/8ddf+vOsT4GnHnnkwQd+fdmnfg+FyxutHL0Z4HIdHvzTv/zr/Q857Hc+eUmRPkMOjQbAjz765CMP//ZTl16WYqyZMTg02NvTS53lPbYuptGGYYwnCqUihK6tgOyAfAC0Jn/qgcceuL+vPmP/Uxdg9wPhG3B9iB6NPoQcjmsOEQDgsjpUkEEVTPCOEFrOhYHBwUs+/ad/8d//x8H7zwOAEJ9/fslvH3nivt888YMfXhFazYs+/slTTjr5//r0p5vNnOu93//RD3t6My2DN3p7erf+NenENNowjHGDUu/WJNCa1FaYILk4auKRnz9y27W+Pn3/407HnoeiNh3UA6rFzIWIuq9DkbdCVvMCxKhMTFSs9R184AEHH7QvJN+wZvWM2XN22n0eA4qcXN/e+x929113gEg0MDHUA7jp9tsBiIIIWgRfA4DECIhzboypbxVMow3DGDe0aAJblC9iBsCEpuOmPPvwU7+4q6/eOPDY+TjoA/B98FNEs1TUwzkooFFrmUcqn+RIFarIJdackxRrHeTWm27+g9//1NQGAuBAUZxzPkX9sQCOYxD2DCBCU7FUIoQYvPMKJVLmUQK9FTGNNgxjfFAgQl1qQaUApXoYQN6P53798O03hCAHv+84vOtIuClwvUHYMUSQVvDyptRqDBKoAIghel8HoeGcqJDLoIyML/3U74eskRetsLwr4kAiYgR7KHOWnM3CiExZKoOXOY9k4zOrKtHWbWLYgcXeGYYx3hR9WAAJGFqNNcsfvvPGMNR/yAePn/KhU8F98H0KT+wIqDEcwKq1OoNS+VEF4L1DzCXmBOGUzE0OAnjvNNaqlJnkvYYDe+SSEroViKGZ6v2LCBHFGNNjAOMo0DA72jCM8YIAXza1UgizIO/Hq48/+tOr82a+16Ef6jviRPgZUB/BTORQNMdCqu6fCkOTA1EypeGIO+RUAOfrUCGIg8RUVzrZ0WAII0PZJACZz4AIOMcOEOcIAPP4W7HjPwPDMCYvyhAigNFEXI83Xnj6tuvzDWv3PPDw7Y8/BzQlDxxdTcsqdOmY9tFIpaSrbPJizI6yR1U4s7iqFGpq+00AFe1ji6XLCamHZkcbhjF+BIUnaIAOYuXTv73p6jA4sPP+h29/7Dnws6E+yxoiAcwRCASXoja06iTb2cYlZQIWpagdVVpeKK9DaCefEwBEggK+yEbp7Lc1gcR6Ak3FMIxJhyeEJsI6DKx47OYfNde9MXuXfXc65Xw0Zmog+IYCqsqQ1LZKUqm8jkRsLf9EoLv+h3TsxWWTRClCNKhTq6uhxtPvvDHMjjYMY9zIQzPjIWxY9vz1V4Q33pix3a57nvFJ1GZAhXrqAPJWqNUyAHVGlKIMnevW1pEpgDR2WWetmoATNAXwdb3Oxb8TTKjNjjYMY7zIM9fE0MrlC69ds3xpz6wd9z/3EtSmwfUgqyu4lccU/hzzAEVVNEPKf0YUNqLqRaBL3MoWXFRKcMzFflAAACAASURBVLvpd1l2Q7ts8AmE2dGGYYwTsYnh11786Q/Wvvzc1B123u/Cz6B3DqKCc5ATsGdIBLO6jGNoOV9zRc/XssMWmNvuDEBDEWJHXGhv2YEL4I7HwkU2okABjlWtPcVIxt2qnoj3DcMw3tmUtUbRYaqWWwQKaEAcQFj38q3Xrnjx2fr02fud9XH0bB9pCrIGRAGWIMxgByXSCOc9NDXzHmk7V23Fyw1vQtuIxkYdIxMHs6MNw9h8FHpc5P6BOCX4+dRxJZW5A6M1CFm16u4bX3vhmdq0mQecdylm7SbcFxgMn0KYM8fJa6wAOXZlnf1i8S890rKqc9rY1ufSvCa0dygfF0Z0Orw8ZNzt5Y1hdrRhGJuPLqnj9DcFY6goRCCKMAAM9d976+JH7qs1+t595oWYuTO4T5gB5EXaICozvIuu1rSj1/d4ZGuXTc+R3uoh44jZ0YZhbDZSzghVMRJlDEZL4LnmAMQhyNo19935zG9+3TNl6mGnX4i5+0J64Gsxwjk4ShoakuvYVeo54Z0SWwjTaMMwNg/aFQZXaCtBHBgMjQDlGF7T/5s7Fv/m3qzee9ip52KXA+CngOqArzEIiKHlPBe2dIpYbtu9MpEN3i2EabRhGJuZTovXgaFgEUKOoZVx0QPP/vKmmveHzv897H24oke4h1HKcQxcPCGg9Gxsra5UExPTaMMwNifaTuIrCiZBAyFH2IDnf/Obn93UyLJ3HXsq9jgIblpOXgAEbTgq2s4yiwqRA7grPRuYhEY0TKMNw9i8pOavhTqnSDtpIu/HS489cse1HFp7HXMWDj0OPBXEedTMUc0TYgsEMAdRcC1Z4q4rFZB1UhrTptGGYWweqMgu6Ujl0wgJiIN48dH7b7sBrXDYUSfWDz8BmAJXB7jhAEClRSQgQozk67HDyaFUGuOTFdNowzA2F0IaQAQ4ETAIKmitx6oXHrvtahoe3vOos+tHngjqgauBWCQ4ZkDAWoixz6qxugpBp0TBrf+GJgCm0YZhbD6IoBolOmZoQOjHa4t+c8u10mzufegRsz5wPDAF7AEnIkUFfU19WCR5M9DhdXYAIRRPdMJVO9o6mEYbhrG54BCC9x6OoQH5egy8+sTCq3Sof84hR8868RwggwOIWiG6zIUkQJTSXKiqauTKOhugUNQcTX7pSemQNo02DGPzoIDztTxI5gEZxJoXH7n+SgwPzN19/3knnAM/AxLRaqGRZZlrRXjXWYafq0eFQCNAI5CStlE8mHyYRhuGsdmIgPeMOISBV1+85du87tVp+7xv3ikfQzYNVAdH1BWKGIP3fmTd5xE+6DaT1MuRMI02DGPzQAALSJvoX/749d9pvrJ0+5133e0jC9CYo+LgQOSgiLHlvc87HBfF/9o9FgCtXBw8aS1p02jDMDYTGjgMQta/dNM385Uvzdz90N3O+jiy2aA6ZVmu8ITh1nBPvYYiSo+5ynOpDOdCjnlEDktldE82mTaNNgzjTagMXBrhgmi/LECEDCCsef6GKzcsfbl35uy95l+Mnh3h+0BeFZ4ggka9UR7caTZXAt31nNGVEz45MY02DGPjaBJmSZ4JBynX8ZyCRUoZ1Rz5BmD9yp9+d+jl52sz5u1/1icwZTe4HhGwA0Gg4th3dKeijjiNriTvrlTyjWyZPEzG/HfDMN4qJGW1uTL0ghjEAIsADCLE4SHEYaB/+W3Xv7bkGcpqB55zEWbMA3pyAjloBFSgRV28DlNc2gEb3a0JaZQcj94ySTA72jCMjSFAVBCjaHeiKIIxnMIBQSGAazDC4Lp7bn716d+63lnvvuBiTN8etZ7oEBVOwYyqbn81rqMyOcUsxU1iGm0YxkbREY+6Owl6AuIQdP0rv7z91UcfqtV73nXWR7H9bnDTwFlL4QgqAMWxbODJ7GR+G5hGG4axMTqaSBEiwIBTAJAY2StUof3N+25f+uB/gLLDTz0fuxwA6onciGBHiEEzXwZnaIrNS+PKZHVdvG1Mow3D2ChVnIWirK2RIuOcIgxB+4cfve+Re+/0zO8960LscTDclBbqSVhUNfMgiMTIzlUxzgA6/Bvm6HgTTKMNw9g4Ka6OpOjGXaSWCCRA+vHEfzx9180RtQ+cegHmHQSeBvQ4MAMhBu+IQYAoIdXiaEfUKdq9vY1NYjcxwzA2QhH4nKRVXHpAgEbEDVjyxCN3/FRi80Pzz8W+70ZjJlwfhDmCFJljVgDSagXmTEYKtPFWMTvaMIyNQIIYwAxwDMF5ECQqOx3E8w8+9JMfKvigD5+G/Y+AnwZkKUqPgMLbTARQVmtUwXZFluDIDljGpjCNNgxjYzCcjzHGGGpZDcjRGnROsWLxb26/np3s/f4Teo84BdynVNcYSQK5WvvYkWOV/VlSJeiyrL+xaUyjDcMYGwVawuTYpdJGrUAUsOSh397842ZzcLdDj5h21HygD+opBnIezCCBtkNBdGSdjQCkvBhE8h3bjY1i/mjDMDYKMfIIAaCBOMe6V5677ToaWrvHIe/d+fhzoFOinwJ2YIZQiAFgJaQ/caRAp2da/EXoLkBqjI3Z0YZhbBQG6g4kQD6INc8/cf13h1a/vsfB797umLPhZ4N7ROHYqQRin8pxyKgRqOtZyiyXSVt/4+1iGm0YxtgQgKieFXEAce2TN/2g2f/Grge8e7uTL0B9O6A3pF4qSgomQFSYUhNZoKsKUnvVsIizBpMZ0W8N02jDMDaCwjOhuRZDyxZf/52Blctnztt9h/mXgGYAfQryjJADDOe8SHBJfpVdYR5Lh3/DAZxaExbhd1UPWbOlN4lptGFMKoqwirIsaJFAOLZOao44BF338k+/379y2ay5u+191ieQzYafqgoiQOA9QJTnucu4WCVEuWzYbq9S1vEfOb4J9JtjGm0YkweBCgAFS1E0QwQA2HW4I0KESxWf4wY0X1l+0zUrl7/UO2vHvc/7NHrnxmxKAGopxpkkhUJnPlMgAo6wkarQ3FUDurMytLFJTKMNY5LRXaY51R1VJSINIXhfcw4UmpBh6PpXF17z2ovP9M7Z9YAzL0LvdvBTRprDJCBUcqxl55SSkcX7N/LE2Cim0YYxeWAlSGc9I+UklZEoQp2viQQmAjURV6++64YVLz7HfTMOOOsyzNgZ6pAP+Szz8Cm6jrrtZQt23hKYRhvGZEEBAWvZeoo6+lYpEBQZCbEiDiNf/8bdNz7/2MO+MeU951yC6XPh+8oSowoIiLuHtVSLLYVptGFMLroEWgGGEmJEj2NCjtiP1vp1v7pz6aIns95p7z7/MszdHVyD5CCAvCAThStM5pSnwskZTWZKbwFMow1jElGu2oWifn9p/dYZUEEcggw2H/rZood/KZodcdZ5mLsPkAEEjXANhY/tIhuhGpLalaWNzYxptGFMFqqC/dAIROW6VJavKMIgZCA+ef8zv7y14bNDzvgE9nwPshkRcNqEsIhvKdghiniWKuqZIA4SzNuxZbDLahiTiQ5zVxCKhxqgw4j9eO6Rh+5cmAccctzp2PsQZFOHkzsjB9gTwzswkDGnCA4FK5CioZ15ObYMZkcbxmSDAQdSgRByAhCGIIN4+bHHF/6woXLQaRfhkA+CepVcBgCgWj0tDDqAIEDySLO0PR1MFFwxuFl+mxPTaMOYRKgABGKfx+EIqTunzX7igCW/feCmH9ckP+xDJ+GgI+FnCIgABwBo53AXw3BboNtDA1CzpTc7ptGGMZkoEwrJ1etQ0mH4gJeffPyWq/ogOx5xIo44DX4qBORIoaSEorcKSFP9Da9lPaRRgmwKvfmxbyWGMVmoCocON1sORCqQFpY99+DCH+etoZ33PXjWUaehNhNch8uIXNV4kEaWr+uk3Khc/DE2K2ZHG8ZkIcUvR8n7ajVIQD6Adcufue0aXbdqh3cdOePk8+GnKdUk5s57jSBuZ3gDAPnkjCZlB2gqoJSqjHakgxubF9Now5hUiIOiNQDOse6Vh278Aa1Zu+teB8096Xzo1CgOntjXBMpMMQTnPcrwZwG4UGRJSeRddevMz7FlMI02jElEFPUg8DD6Vzz3k6+7dW9Mmbff3DMuAqajNoVJBRgSeKYawXlfVTGtqtZpIdMBAIGhDOLKi+LG8b1to5hGG8a2SJeJKwCgAlWvAXEAAysWXffdwbUrps7ece9zLkY2C1yHgog1tGq+BkBaQ5xlAV6AmgIAUbs0R/FQ0VW5v8w8LGuflnWjR8zEvCJvB9Now5hIdOZTU9og3RvGOIIAlMWSqkFUgrJjKGIACSQiDEIH0Vyz6obvDr++3O+yb1GzHz2AAIrIngga/tdXvnTbzdc1Y+20j/3R7//eghpSSDSVysvQHCH/i8//+cr1g3//v/65r9ff9JOr//Wf/1FVc+0JtN35F3zsc3+wwGmEAnCaIkMQARRdBcpyTsamMY02jHcmWrY9KekQaAHSih+poihlt+rlF351Z/7Gcqxf0dtcP2vanHnzF2DKjgg9IAaLxkDsoLJ6+cs7zpp5y213vf76hsv+5IvnLVjQNx2kpKpMRArECMkv/cQln/jE796w8A4iB+Dss84++4yT4ASY9rn/evmHjz1FFYADCWKEdzKmJ8RasbwZptGGMfHoKsO/Kc9A5Tug9IQA5CARJUKtFVD3hOEm+l959pqv8roXHSIryPXOO/Zk9M6G1pBxVCix+CyDEDB7zg7nf/xSiJfYmrv9jKlTEBSZS84OLVYQXfadH1696tWV1950i9PgkMXgXdYA+pe9sqTVbO6523QCJAAaOctKLXYpt7x4UyQWq/emmEYbxjuT0eZnRwtXJsoRvPeQCM5f/MWttQ1Lp+arlSmobwa8+Ktf777vsXC1kIMy5IiAMJwDka//6z9++aaf3u57+77+wx9nvixrp1AJDgwHwKlKHqWR1UiFAco8oIC//vob5s//SC1DnqORAchUBK6M4ytmKdZw9i1iNzHDmEjQm8tWVfkZgFM4LTQ0EiJBkQF1wFEMAKBDiOv7lz6rg+sy1Uy1DurxunblMsRhxJbPwIoeoAEo3HBwkbP/8qd/svCeW775ja/87mWXvrBoRZ4jCIjgHIEVeQAxUU1VmyGv1zgPTSBIjLHV+O1vFr3vvYd5j3oNogEkRKPfkiW8vFXsGhnGO5+yToYWa3+IIXinLq6DrG0+9DMdWJWx41oPyA3l+UDgxvQ58DU4X1i0qgT2oJpPI+WI/XN22fGYY45d+tKyhkfGiJKnpBVkNYQcECJyzg2HyD6L0mLnbvzpXUcecfx2s+pQKHJQBKTIJS8oiy6ZBf3WMI02jAmEQnREyrV2W84lUm1QAQI0OK0W5cR5QhxC/9IXr/23Rf95Ww+aaPS+kdOggqfPDLN22fMDJ4OnhtynUyhqQEaA0/D0w/fcdcs1qNHg8OCDDz+24w47kgJ50zMFuEAMYjhAhjMSJQRXa4Edy9CGNdf9+OajP3wSE5hyQmAS0ZEZ5Jb28rYwjTaMdzidC4wKp4FkEGGVPP/QI1d9ffXSl6g+fe/5F+5y1mXrpu32Ru+8l8K0fY87p/auD4BqLivUP3kjNApUDj7okCuvvPKkE07+yOnzL/qdCw89ZCcdbv7eJz/5xJNPUBnxjBAuuuCCiy+++PHHHz/11FN/ds89gHtu8QtTpkzdcee5XIRwKMBMXrW6vVjl0rcNPfvss/vssw8RqepYbiPDMLYeyYjuiuUo9U2rYqAEACEG77zE6JxL5jcTECJ4COH15i+uf/bhXw9LY/YeB+916oXomwloar8CAqgGroMbCk8aihNQ5SAOZfSyU7AIVq147a//5q/+7h++1Kg3NCh7KvNiGOCYVilTwEeZ7ZJ2KHwjI6Oh0xktYOHNWbRokV0mw3gHoKkTd+rzGiM7lzkPwDkXY3TOsUaEAAxhzbKnbv5Ba9lTPuPDjjq+9t6TkG0naLBz0GQwSwqrULBAXFcSYNLoDlnQyIRrr7/u9//LZ2r1RpToHSEqnK8imx0kpaVElLcXBcCbdGVYM/G3imm0YUwgxpC1lKHnEKM6RwCYORVwlhgJzrGDRGAYuhYvPPLIzVdnqn077LfP8fMxby+4KVCwE8lbXKtDCWhX2FAgdORtF+7slE5YWMQOwGc/+9lWqxU1Zlz2Wuma6phSK+V/PNbLo7LEjY1gGm0Y7wwKqdMI1WQRc4qXCMPAMOK6V+65ackTD9ZD2GWfd80+/lz0zAE34OpQhQjXsmqowpGRIkAAVDYtSfWwyN5WSAQ71Gq1gCgAi1Q1SztUtkimaS9jUhqYxlLwZGqbEf2WMI02jAlKZxxHiCE5N1SViAGBCEQAB2ph+SPP3XHdutWvu2zafh+5cOpBR0Br4BpQ14jcQ9ml5t8Zg5J3WAERArzjoo5G8oFAIwSpDKkCitRgNirAiJo7dlAt628kmRZCLGfLRQhKW+5ZwF1Z4LppN4jRhWm0YUw8RnkBnHMKQEKxHKcCInBEHFj30M+f/eWNLgzMnLPLXqddiNn7wM9UESIPAbkySk9Rq+KUCwFN5+LuNUrSzugLQgxwPoVgO1eEFYw2galdOyTV+xeGg4wRyNF2Q49dwcPoxjTaMCY0ZUUOQiqTpIIYIQLnMbDq1Vu/9/oLTyjX9zrilBnvPRp924F6EQNxLZUKJYJXOAK0RcQKn3wQjlI0NaXmhAxQSvyjIg6v7F4Il0GiOucCuAjSUyHqyEtRBjFSkxfkAKAZNOtsUovOuA6yCqVvA9Now5hIdKRHpwxvbj9NohlBOagZlr300J03+lWLe+q9R5x2IXY7CLVpoAaIQR5AHoQ9A4AoMYEIUSrDVZFK2BVW9ohEwGo2KaCEHYkImDiFg3DZ6XCUBBfdaDv6h28iesNE+q1gGm0YW5BS/kZ1ay21WLtD3xSlGQtAEfPoaw6Aako1Ucgwwtqhh3/x1C9vQ6TePd9z4PHzMX07UA1cgzLIpbpymS9W8CiF16mDq5bw2lZw1z0BSWfLVwigQtS5WKDsmN6IA4v1wazd2pCK03U3O+Tug4w3wTTaMLYgbb0r9LIUa5LuDibJRhYlV8igAgqfOQAigQmQYWgTa1956vYb1y1f1JDm+z54onvfmWjM1jwSOSADKcBKOlZROU53jA4bd9Q+NOIxb+zFjW0qi45u8ijj7WAabRhbEhWAlSAEh2Q+S4qj6BDoZGdHEJjicCs0sh6AARVVphQN3YSsx9MPPXHHTcpo1Ke8e/4nMW8/+GkAk6MUmici7By63b/GOxrTaMPYYujIZ2W1BQGYIVIm5RExhAFRSKNWAwCNyk6lBQXpAJprXv/V3S8/eK+HbrfbPvNOX4DabPipEIIKnANBYiwE2uo6bEOYRhvGFoVT4VBO8cllIJyrUkXKFGrPGVRIAcJg3vRZXaF1BvLVeG3x8ttvWPXa8mZ96oHHz+898EPIpoLqUCqqRwMqwuTL5li2GrftYBptGFsMai8aElJ9DABSLhcW2wuRJRA4aXgt6xEdrlPA8CosfvS3d93k16+bMXfnQ8+7BNPnwc2M6hHhPDREyqoVOgIQpUgZN7YNTKMNYwui7TW6FNvBXMRUSPWCL0rEcSyjLhzgQxOtl1b/YuGSh+93rmfHI0/e7r3Hom97uB4QmISYVZV8kXyYyiUp4BxVlT2MbQDTaMPYsiiEyvIUrFX+dAo1ruoxtyvGkQJxA1Ysemzhla21rzR6phx84tnY/0hkM4E6iIGgacWRGEVYHphZFDGK92wCvS1hGm0YWw6hwkb2qPKekyJrBFFKEKmqC5Hk0CG03sjvu+PJ++5RpZk777/Xaedj5s7gXlBWmNnKTKKAQBicclHSgqT35one1jCNNowtTaWbUro4GEQSlJlRVcSXJqQfa19afOeNQ8sW153b9aD39x17JrIZyj3ELkl5UU9fOYVam8G8zWMabRhbjrKzSeGVzkEBYMDHyM45EcSWeqeUrwf14+XHnr79h82hDdq7yyHHn4U9DoXrha8TeQVQ+EwgBACuqGWXhn8LmJy/MzGNNowtSFWFuUzbKz5x5FgBdmCOiIOg/jU/v/nZh3/RcMMzdtx997M/jfoc8PQQyZOryn6mB213hgBk4ruNYxptGFsKBfIkzCm6DpkUlfVFQCE2G44R12P1kucXXjOwYmnd1/Y66vSp7z0GoQd+elSvNQCQqHCFzjsAKtBYarN9hLdx7AdsGFuQ0uZtV+NUgMAew55byPuHnv7tE/9xMw2t75sy411nLsCO74KbBueUOMXthajeUezqaCJFOytQ+cDYZjGNNowtBRWxzwIolIjgwBFwGtDaAFn/+m1Xv7Lk2WYz7HnI+3Y6/kz4mdCpQAZVlaZzTHAtUS0q/JclmYgVnPLI27U5NjYD4x2OaXRB9Xve8VttlciNjdBRsmhU9aIiIaXcWNZnplRfKToNiINY+cJjN/8ornvF1RtHnHhGduiH4GaDequKHuwcJIIpy3x7ZC36eUf7tZw0TD6NVqBayUkqrJweVY04qd2NDabR2zidRmihudK9YfQh3D6Qyt8SARFUAzEUaEnwXAPA8LFMCHeIJMNovqqP3/fYL+8cGBjY8YDD9zjqJMzZE9QA9bXPSgRwKmVH1cayDSCNaA9oxvI2zeTTaHT+ThdVfYsOnJ3d1doL8YYBoKNbCQkk1b9HrLSagShF3h/g2QOIeSRfJP2RDEMHMPD6S7ddu/rlZ1XoPUed1DjsQ5i+M9zUiMyNNMhH/e51/EKaLE8eJp1Gd7S9gKKrSYYrNDqUr/tRnT/fygk6Htsn6Z1CV036TdyYpeNfTjWgUwHomAfnGaqplVSQnIRqvgZAhoc5U4TVWP7Qkzf/ODSj1mcdftIF2P0A1BpQBhwrYgjOT7rPo/GmTNLfiRFt2NC2oAVaODs2sRJjTEYIAKfiG6O7prqMi5qjUCg810GACEKTXY7+FcOP3vvM/QsRwuxdD97lxAswfXdkveAiy5AIzlOMLedr4/HejInLZNNooVSMRjMAoFROQR0Imi5Fcvmlir5j8yaGMsmoTWPbZdYpY0LwFn4A1U9cysVAR0KIDtGBArjIJxQBlz2xFGFYfAZQE2tfXLrweyuXLcmzaQd88IRpR5wGngLyEAI5EAXJPQOkZkcbo5mEvxMjPpQ6qnMxj9Eh1DDacPlLIiiq9UNViH2I4j1DgRC9F+TrsPiRB392Aw++1pg28z1nXIYdD4ROA2VFKouCAMdOEFWEydqnGCOZXBqdokqTG5oA15ZmSoUi0Snhowzd0d6Pt2YLj/xebF6UiUOK4ujyQW/ki1KRNFK+qlRFKAtUwBFQck6BPDZrLkfztTW/uHXJow+AePr+H9r7xLPQsz3QC/Yg5ApyICCIEosHMWdb/u0a7zwml0ajNJuROnoW1XsJxG1zujNS2tTUGI22G6yUiYOaWss6EuQDNW5h5YtPLLx66PVljvz7jjkV7z4WbgY0E/Kpg6wyApABjolABIIy1CKJjJFMLo1O5Q6SbRSieJdUmCGU+heRAghpoxIigRW8kXTb1Pmi42ns/KYaY3TOxRidM/voHYlEVYJzJCpMDBUBHHEeImeOFKxKpKAoUcB1BhD7IevwxC8fvv0GIp25/W57n/IxzJgH6gN5sBKCCIg9kL65KUMoKDgDdTVtMYzE5NJoAKRwgBK8YwAxBCJix0gyTFLazpzcjY5Sn4ui0bJCKbX1JBAhxMDMjC4/YgjBe++cE5H0L1sP0HcaIY8+c+ioWueIUxy9z5wAisAAYoRjdgwNiMNorVx864/feObBXu933OeQ2SeejfpO4ClgTb9YkkpHQ1wyDaB5zGvcQFl0lG0Z2ehmsmm0QCNiFF9T4uGILPOsiEFchiLwLq0IFaXUITG6wg2pEovCCZUFnTlfDFuKOMDe12KMRETkgNQlowv7EE4cxorMAQCXORDyPM+yjJkBgaoqgZgIiJFJQARmzZWcIq7Fy48+ded1+eAG9M4++KSzsc+hcFMRPRwJqaavZAAzQ6NDBMn/Zu/L4+S4qqvPve9VVffMSKNttI12WZsleWMNxmAwDmExDpiwm8XGBkMSEgiJCSSBsIWEsCQmgQSSLyGQQALGYHASEpN8fAGzeBGWLFm7NPtImhlptu6q9+79/nhVvUhjwFsYrD4//UYz3dXVVd3v3XffveeeC5AxEZS9A0cQJ6bVSKWFZpxtNhpAcKHVA9ZAFRLIrcjVamoVt3mzZWPC/ASRMQZAtZolSaQK7yWyLCJESkQqQpz3l2M2wWoHJ7rlSv/cgQiqaq0FREUICiJmAiAiJrjUPsuTzdXxk3f/567v/gdNjy1etvr8K1+HzpVAGVRGTAIVqAAqjsUaE6q6FSAVCSt7WOtb1LsWzsTZNihYFcQg76xR7w0bcgKviJhRUD4K2ccwsxgE732Nu5okUSDCmhAh4dy+E7HPhC0riAiqBICYVXGGgW7k9rVs92zBmRliIoIKBRqQ9yoZMbNlwAEeBKQTmBo8+s2vDhzaBdjzLntJ+/kXw84HJQBACiXnHSwBGnNMFIT5yQuRMRRahEOg3ouYXIejNSRaqONss9FCpPApZALVionaoHFk2xU8Q9l3rTcoTDDQIuKci+KYi3qF4CCrBP4WGWtBUM2DIaoAQECW+SgyaGHWYsaq/2BQvYMJ1YNKRqBTyFJoltP2Du+75z+/lk2MlDvmnff8X8GSTbDzwAmYQQpCpQJbijw8QUSFhUkAA8MKuNRByRjDohyzQH0rENbCaTjLbLR6SAUnewa+9S/p6KCdM7/7Gc/DnHVUXgSyUIQyXw6ODDEQkkKiAhG58R3vHBkZuemmv0iSxHDd8hIRiG762Edv/urXyJRfeNWLr7v+WkMITpIqbMtA//zgjCpvA+8hAmMxPrzvG39vKsejJF751Kfo3v13/eAujdoXrdm29vm/gngOuAS2kOyTf37TF2+52aF89eve/rKXPTeKjAWBGCawPjOkI5/+RjkpXwAAIABJREFU9Kc+/5V/r6D9qpddf8O1V1kNkTJumekWGnG22egUp/ru/PwnOscPR258YoB2H+/d8uJfQ9IGnls7iiCFZ82w7FwK1de85jXXvOa1X731G6KqjFQ0GGjvKsbqzh333r3z/q98/d+NVN/05l978tMu3XruevaIDYhypkdx+oZAR2tCPvo4rc6o7jFrI42nDgPkGtBKQsTEUAeTYWLo25+7aeHEAZoeSaN4/5F7M4f2tgXnPOlS+/inI+qELQGA6tDgwMLFXbf/x219Q+Ovf9MfXvH85y6anxeRO0VEgPoD9+/6/ve++/Wvfy0z865+3VsvfvLFT9yyNHcLWgAAKb6pB/xMij68D3TAg9EWfijyaf9LOMvGhK8O/Ps/dk0eSaaH21GZgwqN9f3olr+HG4NUVaEEEQagPlOoBxxANjZR8rnPff78LVvhMomiCqBMgUdtGJCThw/svPBpl1M5bkvwCxede2jg1CRygR2os0ZRDKniF26SIW7hASE/9h9QSMsW/5oOUEjtt5oCrZc8DAWvEAUE4gB4CVouAhWIJ5ALchxW4U/1/utnFp68t1ztnWMn29wETU/bUsfmq15jn3ApovkwJcBASZUXr1j3Ky9/NdgvW1Sa324HewZIEaRHLUEhSrrnyOATn/qsctxWZr30CVtH+w9m6ay2FA8J+VfQ8A8z/pvxVdL8quI4qU0iyY8Bzng2fM9BeKfhnLU5KOGN8wGjtTPMRhGIs8xGqz92eC9Pj7ZZgzQtiWuXqhkbQDYKf4q0QuKZABU2YPjw6eTfeeZNKCRnBuChBPJeAQOiUhLtve++CAB5+Oz+AweDsrBIVmsK3TD7CuvcMtAPAcqFYkZTWWgxO7mY+fWGUsh5GvBeSWG4KD5iAzaAVTYKEBtRAaEw4c4IrKvATWB6uHroRwvSsbnspDIVe19OkgkXY8FKRHNgyyADiCqIrGqeMR45dnx+Z/vGTctCnNkqvA85Cusdjh7pg1JEUK0e2L8nTuA8zk7MOA+4+EG1+aNNL+AZ7Bc3/FK0TC9eVUzA2WiIfwzOMhtN3Ll4qcZtVWEblclTlLm5mmLnDzA9CDcKnYRMw6fw7rYvf+HZz7jkly5/7r/e9l/OgaMIACmzkgcSkAUMk2oEdDzrF69od2PPv/gXrrrsmf/8xS+fu3E9A9XUs6GiUhgAoAxlClaEHCibSSevhTOgXDfNNLMLxsW8BNiDfcNelwFRIRJrlAv3y4s6gQvpPKKK9wo4qANpMNbwxo/AH8feO/ztX2uvVspIkEbWdEAjhyQrL0IyH1zOFJIzPQgAO5AYSPkjH/+ra974qyZBqGhVgTGUCUP5BS94AaqV51z2zIsvvuRLX/3Gus3nOs0ZeI8hMMBUGMsz/6G+sjbsfvI5YkktKVMokW9+NpydwASm4CBTbUxwMTAs1DZtTTTYeW6Ue6jbwNna0+OxNih+Atisfsqzdn1jKEIyUZkol+Y6jymHe/77W1Pf/u6KjdtXbbkAK9bClkD2OVf80nOu/GVQuxJIPbwzzABXKq69w8JnYBKxzABZaPbBD30gDKbP/PXfL1m6SIG22ABORULtrwamQH2AtLzoB4Nips3AkKv9FpzUoqI6N9nhwVB2pALvwQwyzByabYsAhMiwRWaRQQSSkk8xNjy0+57Du3/Ek6OJq3CWtEexclSK4+mKVu3Cx//iixB1gIjATiUiE7h6EAfQxz/y8bUbztu6fW3mkBjAV8kkChgGwQD0hx94PziGbf/jmz4zv6uLuEb7PItQFCacEfdrEEUpnirWXAWoNnu4aGt3xuc24/TKTyj1d6TmR2YfzjIbTWWsfdzW55S/e/tXfWXCRPb8Cy7yZA7v3xePDA3e++2xnf89t3PBkvXnlTddgGXnAAxbJsvQaagTcSYpM1nxMEYgmaKsZEiqiC28BXjHPbv+6/v3PveaGxIAgBdvOBERLYSFA9eWESbq2bq5fRAIHJv8j8Z5V2+ho9L0jJJBLSRSOwtDASXhkJnzAq9Qg9gwAIFmqE6BU4z1Ye89fbu+P3Z8MGMrHEvH4vXbn7Vgy3aMDd/1jc/7qQl0LHjCs6/C+vNgEi9OWZhKPm+GmUHH3/f2G7vPe9LLr7kmBRKLnKpZ9I8QD1YFG6ju2LHjznvuufYN1wIQdUx21hqLh4rG22naNRIYihk4T9T8s179K3Xbjbo3Hta2Woul/M+GczScWfIOlOQKyfg6Zmc6gO6///4NGzYQkao+9sVrVSAZtAo3DqmCCcaAGOk0TvSme3b07t4xPjqKZM6kRHOWrO7etH3BuReiLUY2/quve33fsJvUtmrc8Ts3vu2yp2y94frr3vqO92zdtg06fWxg8Prr3jwxkZXmzP/MP/xDeV7JAlY0ZlXNrUyjISnMtDvrlsmHgdMco3p4Uc+IFxWWuAleYUlJABF4E/bOqYN6UAZXkcP7D+6659j+3e2oJjqtJCu2bO944tOxaA24E97AAtUBMIC50BKSTiVD5AUqiNJMyhGTVg9+7/++7XduHDUd06bMFL/ixS96wytfdMP117/9nX+wYfMWB8SMkd5Dv/rG646NTcbzFnzmczd3dsYJwMgoZ+c9hiENv3Cu9tdglM9YhgvkRjeERrjhJbl/rTX9WGQAKWpsWjSvDb54ZV62Rs0Tc1Zh7969Z5mNDpAMUsk3S05gIyigGTSDm0b/kZ6dd/Uf2kPTY5FmRrF4xYql27dj/Ta0rwAvAJc9YWyo/w/f8+4PfeSmpBSLVA0br8zE4j2boLmDEODIQxxwQCBgNc3As+MTfyTRmCQ8DXV9Z0WQkauXjALwArYgcT61xsA7VMehU+jbO7nzjt5De6cqlQyJlhcuWX3OinUb7eZtUA8TI24HRQDDZzAO4qExOAZFIkwqxKwEDRKJLg3VKymRUskA6jAy1PuhP/rA+z704XJbmwe8l0QzGAYZUXYEAPYxIU76E/S4URjZ+rdXOzIwbJq4klzkDIsQhwAZACCCMkKCl3JeY3GkA7wCgqTITwiUG97X52coXtVwgT+Gyfezwd69e886J04BcERMyByMQWSgnG+31IOqWDN3Zffqle4kDu46vnvH8P77R/p7Dgz1ZN/+9oo1W7vXn1c+5yJjk1s//5nfeOO1pYShMBxlXtiwB9iA4IwoKHeIiFDodXhCLXY2u4bCzxFq8clav5zaHPMAETgUeRYblzwEAQEySAbNrE/hPI4Pj+y7r2fnD9NTgyWqQP2ixctWbnsSNj0BbYth2iBAbBtWUVJjMnWGLRSGLDQoKwWRFhBBPcjEEIBgSByqFomS3Hrrra99/XXlchmAqljDQKSqABNBvcSGqZ5Ie0yjbi4bEQx0kzvbZKAhwR32eV+F2tnqMS/O/1fAhZeEWuCCDj/z+4YMpPx4JvbPFGehH11jUOYJYk+o7ZIsBFqFZHl3cPEYG5bD99+36/vjwz1zpKrVLOlYsHzjto6NW7FmM+w8IAFHUAMir2FkCakUXlEh92GMiIS8kEJJgdqu9mz41B8qmqOKdU503uA9RJ6D45TvV4L59kELiTkCWMUxOfgq/AQqo3r39wYP3D880EvGTDGVFnR1n7Ola9P5WLQcVIZG4DLIgpDnoyi0/zYKFgijYOYg0HIYiBQQyknQDVdcl7qtP1Iwx2q0k8fS9/9j/GiVIv5EDU60wiuYIRCFLygfBsoNiyNERMmBbLDR6l1ibM4I0YyMCfF+EgU5oWmCcVomYgOBKgWrTgJ4SApmRVlUjDqQzZSDn6ZStRzNKlt9NvrRAOrU2gZXK0w6AyZEoZuRIiIG5s/l9sXbtp6HiUHsvPPwznsmTo7vv/eHld07ffu8NVsf3739cSh3wCQwbYYSVQPi/HRBSkm9MQYKzh2uIAwPKLxPjWn1gX6Q0EZKjEAIRKYIEnivxgSD6UAevoqsQoag1cr9O3vuu2e051DsqppW2jo6ulavXnDRk7BwGdoWgdtBMSgOSqEmuGrUwDcgRuHcNWyPg+qWBOp8vnDUWYEMuOAUNuajagFQrp8k37A/luz1aSBGiAcBrKoAlJRBueCYgskyVEUozKAiUFV1IMuC2Be7oshYLzAeMGBjNC9lYFUiNqR0pLfnzb/+jiue/8tvuPY1qrm4oPdqWMF86y23/PGf/SXBJFkVHF119Rtf9dqXGQPLs1Gz4ezzoxWg3ChTg1MTaFgRilYsAMgqQD7smaaBKtIKGDg22Puju4YO3SfTo1YzzSqLFi1adf7jsHor5q1E3AUuwYXiCVISlYyNhdqwBQYJSLx4M8tW7J8HNPjRUvOcGYR81wIVeAoU6ulxUAqdRO/96Z67D+ze4ZzTqH1K48Xrz121abtduxFxGQJEZXCSKgBEZMKuVws/F2Fn3UQbyUcPNezJfEEkMDU3sSB1aRHdoubz5MeEczawuX+uJ+EMbAoFABWhoOFb7HUKEfaMQDmRGcjnSPGbgDwjI4xO4dN/d/vUdFoul6668tINyxEB5EOxUWospVkWRyXnYA2Dsk/+5Sfb5i0/OTb+qze8NnOZsREQdjkpyAOaIjZgk7l33fiuF11zw7lb11qogZttOduz1o8G6kkJIUAhVONXhAlfwBsATFRmTlCeB3VYNnfFktUrsktxYNfw7jsHDuwZHe4fuX0wi/97wZotSzY8vmPtViRlpIJSG4FJM6gRX5CvFDCW2Xogcz6x5ud6Tj76aFRdqMXxi/pBDU0bAiWLQY5RRbUCIlRPje384aF7f+BH+mJ1seUFXcu7z70QG8/H3MWIOsAJEAOkYAcCEYc1WyT80RjvDsR2LQKXhR1hgGv6HkHmpeHZmuXlIm/ZPPkLe6b1lecxC2IOrFMvYG6iVuRbWTL57AjxZaccsxBSoP8EPvTxm0+Mq5KNuTLwqZt/4/oXru9GxGHds4DEUSw+szaCdzt37OrtOX7FEy/7/p0/VEVko+CB+dBCQRUEhjBwYnB4erq6cePa4ludjXPxbLPREgKIJqSJw5xXIRKTPwVFU/jTeYmNJbD4jPPopIHtgClh04LFm564OJt0B3fvu/f7U737Rvd+L9v/A3DUtW7bwo3nY+1WRHNgSxDPoauhIvS3DVVwbGfj3mo2oeDVFeGCIu/PqrAUHDEPDsbaoXIK1X7s/VHvrp0jx4cy7zK27UvXLFm3efHGC7BoGUwMtiAC2eDHOVFiMFQhpAoYIhusJoUoZj4qBMQCdgCKaeOKq2SwKRQhiuxW8cxp+LE8r593J/oM1L47iOSxvlpkQ/OdrCF4B2eIBOCIAaQOJjEeSBUp4dOf+97AmEFpgffi/JSMT/3NZ7/6nhtfEBHEV9kkmRfLxEyQCjx96Utff9vb3nmw50BkNBMhImbyHrFlOB8yyBZevHzun7783CteFIWaIpBXmNkna3W22Wg0VTTVgoYSUji1mCEX3AuJjSoyqGVOQFmx8TWiiYnboQ7caTfN27LpfJzsx/57jtz5/yZOjvTs37n3wAEz93+6127qPu9CdC6CnQtTgirEECcIKerH3KR89HAaMYvVkQp8BeQgVUxPZUcPDB/Z33PfnSVNKavapLTinK0Ltl+E7g2I5sN2gBOvoaeZEjwTAbBFCSgAJQ1tVeoUuJBlghA4hCyowZmvVzM2BKyLi60/Xyf/oXi4RvUtdmyP+YHAzKoa8uoiIEbYtuSyKgQHhPKSShWDw9NHDvf19B87OjB6tH9s2ndwPGfaGVVjTEclqw4cH0sFMeddSSNjAQcofPat//ivZcuWzZsXU59kbio04oDChs/XsgTVNKnA81337n7l696YGABIRQ3bWVjGcrbZ6Obqoxp9XhkQKAFMYKVi4uXs9+I3jTzEkFcVE4aYtzAWVALNwcKF6Dxn9UVXYHRo8N67eg/s1onjfd87cPyOry5c1r1w43nlc7ajazl4DlynNbE1jbv4FmYEn+ZBF7U/GVCFTCM7hcFDo3vuHth/X3ryOGzi7XzTvWnTtgvjdZuRdAAxTOAym8yBmQ2BQD4DLENyZoAjYpu/maoDGMQCmLqOBAQJgBi1ppeIQkhaA9eDC54fQzMgmGzOY9khXVy7LarfHTVzuhuefWygvjipgop4dPiZCTzj+Cn0DeDQkeGjPcf6h4+fOHEszaYjoxxR5gWIxaj41ICF4kw5tkmcsGF4gIWYoV4Ujo2Co3/9t2/eedeeL375CylXhaV3YPB3f/t3O8tJ2B8rDBuCVAH5z2/+++OfcnHHghgCdVWTJBmQ/Gw+pR+Hsy5n2GCjRQt/mRDqiaVp0VKARNURWwgrIHmw0TMIteJuhQY2btgxSQqpwo0DFRzZM7lvZ9/eeycnJ9K4JFFp7oIl6869sLzlCUg6IR62BE5AJsznMy+xYVvcHM0845jGb645L1XQ8h94i91YqfUQRoDOxPwvrqox0MrNt4MHXp9ChTeDGixXKNcOZaJSwcnjI3t+dHjfvdXxE5iqWKkuX7ao+5yt2HYJOpaAEyCCKQGRQlVJVI0pis5qcU8No4BA8BRKTzyRhhwgAIajPC5lFREAClqnZIHgCAeVSwZzvWRGG3LOM32bjfUb9URi7cgzvoPaxTZ9Hmd+3I14oC+yfj0/tULF6SNsBhZK7aoaL0Sadz9Oct+5b9APDAz19vUd7Rk8dPTYdAVeDJCQKVWzNEnMmnXdK1d0dS2au2pN17LlOHwUn/rUreOTyibJJJvblr3+Zc980va5ERABkjN5PCDIQkma9d796P4fffuO71z/+usjxBTINRaaz9sMlbFXv+b6t777z87dsjoWQFJv4zD/Z5URPBtzhg1fAFPTHpNnmgFMbAPhqshvoOBa1o+k+j8JEx1xJ9CJdYva1z1l46Xj0nuwZ89dvbvvdkOH9g/sy27/8oq1mxdv3IpzzkPSBSSwSbAJqkp5IjyX2FFANItq62fYHTuFIQBKSAWGYQDJxESsQCZqmBRwkhqGRUw1L5TyRQUQ8d6YUGPpQeQRMjsPbowGnV8uPk8UE9JDCQp1tQBfWBE9wBALER9i9CwKogY2XW74NE/eigMzvAeqkDFMDOHgrsFdO4YG+6vepRHFnYu7Nz25+7wnoKsLsDBlIAJZgIL3SkH0qPG2Gu1gSNmGnRMBMMF4Fd81F7UyBV2XGscJFx9p7hHnn15xy8WakFvDWpCj0TRq7bDax9e8mtZIaI0/G54v1rP8dHnpnThiSy5DngeRxpvWoBoiInn3+uJNRUNkPR+E4XjJMo4iqIKMqicS5x1MSZWiPFjPmfiITQjxe83XbQEyQjXD/qM4fPTk8dGxA0eOHjpyMC5FWZYqawRNUtfVOXd599KVK5auXrl02fJ5C+chsvACy1Ag9bhoFd708ss/+9kvVSpDSdlfdeUvPnn7XIucm24MARQuD0ZD4lYJkqEEE6Eqkr3u1W99x43v2rptJTEFqu29e462zVu8bsXiCABBmXm2RpzOOj/6UYZAM6iAEw/OPCIDow7TJ8HTmD6B/TsO3fP9UyPHVCkV4rYFSzaet/LcC7FsJYhBETgGDMiCItG6mEHOP/F5Xy4g3zo6URgSIEZBJxQQw6mActPJ4DyP5RwiC8AJjBGCqFoISCowRjlKvSTmwcZeCpF18GmjRwEVx8xZlkVRBHDqMrJW1FkVw0YFIKtSxOUVClUvbAgQuAwkkCpIoakcvv/Ivd8f7d1nKqfEebLltVvO7dy0EWvPhS4Cd8AaT2xmXQ1nU71Gzew25g5rqPvUTQ+d7kc3PIO6jdbiTyqSKZpHWQTqvY/Y1s9FouKIGeA0lTiyEHgF2+IkgcWvCjAoWGxVMEgDqd+DpbhgoTqXTgTjU+jtndi7/+jA0FhP/7G+oeM26ci8mDgSEWZZuGj+0uWL16xeuWbFok3dKBnEnGdoqR5fUhUljlXhCaJIM4SVghkMOKeJzScCEamXnGitqmFZBgAnmBgYGH7fuz/5sY9+xEYAwVgHqIhh5qIAOLzOAyCaXWn8s1Wv49FD7pNCKZfsIBVDYZPuAQeXgjxOnhi994f9+3ZNnTwGX4G4zs45qzaeW9p0IZashZkHiRGXAatQUZIihGcAUnhRYwqGd+Dtg0LY1Dlvo0R98OQcRHzGpmQzOIKGypywB1dNmShNNY7jwFBwQsQmZ5KFwtmf+LN212j2BFFsiIm8hPp4qHNkOPihqp6Iily/QERJNN+1IPOICfBjcKM40Xv8zv97vHd/OjGeZvC2rWvNxu7NFySbHg8TgULYYQ48IVZVT7OOdS55tSHVqESNMYuaiEQNxRpzmrHOmw80eHp1L7ueeKxXNUv9GJBTcCZEQkxqmLxPQ/NEYhPie6K580wQFW+CQiDn31clrcZxTKDUizGcehiDqsAwMkXvAPr6st7+Y0eO9vf0D01Xp6AimrJRQ1lSskuXzF+1fOnKZYtXdi9ds6KUMAiQDBzllxsukxUmLPXqRYSNCfExp0AxxGtxL+aChuk9EXEokCn2uM45gNk4pvQvP/VXz3jaCzees5YNQPCSsQHUBnOXZdUoSkJNzSw0gC0b/Sig6MkUEo9QhWZEAFlVVTVMAj8FmYY/hYFDU/ff039o96nRE2wjhySav2T19ifOO/dCtM0BJRALjmFKCAOUQCpABsogAo6ASL0lgsI10AosxMOlsBZslLgCZSCBZmlqo0hVFd4ED8IJbOTBDqBQxfPTs3VPa/dV0KoQvDIwDOWumAIqqE4HRx7MIFIFMUMV6kACyeA9IOAIp0YH7/tB3/5dY4N9HbGY7OTcuXPXb36c2fp4zFsK7gCVxBNHEWB9FtTxVZHlsalZBGlypWtoko9oSKzlUZEz2UcNJ8wtbx5nkKb7FQAMdk4iy4A4nxpjHIhha2cqBEy8d444ApsQ/vCSxsy5lfcMoGqa+k0RMO3Q21s9sn/36Mmx3r4T9+/rJTOn6kyctKdOyXC5nKxYtWTTxrWLu+Ys7Uq6l8ACNkgfKCJCHnlzgIUzYfEB51fVdL8imagayz6fUk1frjhhU2PLhfRvHgAsTJkA05nTyHSIhyJfdELESES4YXXz3jPzbLOBLRv9qEABEajm3TegYfyz1pwcVdIqkEJSZFPQDD2HD++6Z7TviEyPwk8p05Llq1duexzWXYBkIagNpg1sFCm5CZgMPgNZ2A4gCWIRnuClkijUO4pKSDMQbr/ly+//q0+MO7r06Ve+792/rRUkCcIk9wDDYfLUa19zTc/IxKkMG7Zf8NGPfmRR8qC4PjX1DC7cOqnlA8OeE4BoaoiROpDCjwOaV11HiZJ10AgefgJuAtko9u0YuO/u/qHBkYr57r2HDg5Pvfmtb7/g/HOjpV2gGGAowzAoQ4bXveKGnr7jWam0Ys3qT37qpnLEZpaFFDXnjgAo6sgbr3CGeEeIHTVk5GZI9jZ43zWZ7OLzr1PI4b2mUZ6OjlThBM5AFQmFxTgDoDBOAcASCB7ioPSRj//FLbd+M0Xbla+69iWvfO7ho37//t7evpMnTkz29R9LzHS7799z73em02r7nLlx0vn8K3951do1q7qXr17d3hZDi16eVFjefJelwoB6sSbvkKLkivRxqMOsLU7FTQDIu1GGGE7kHCiICtc/n8LvLnSAVVWVVDM2nmCgUR6KUTjn4tiGKIeXqmHjHBpaQs8unI05w0cbIQNmuKgBzsPHdf9AgYwIVGIklj1MO8Rj3cI1q7etmT6BAz/q2f2DY4M9wwNH+/r6TPL/Fq1cv3brRVizASYhzVAZ2fvNW6snR6O2zs3PugLzusGdHgYGlmOIp9gAQGROHDj0d5/7/D/+0xfbFix55ctu2LNrcPu5S8UrqVDEjOCS64bVqz712Y9J2aaNcmI/LVjhUFQ5a7H7BpQAr0JkBC4ihUyBBKMDh/7r1snRkfKCJesveSY65lO5LfIerHpw98Duu3vuv6dEVZdNObbfv+v+X3j2y8fvGdzy9JdEHQyIEw9mAjEy0mlJ05VLV/zNZ77g56BCgEIeyi08imgMRNQwg4Ge2QoXNJgZ1pwGW6+nG2jkoRSv6iKyCqoKWcbIKD73xduHJtJyOb76Jc9c3gWWyBCUAIJTeIDAxNE99+yvYM4Nv/muu3bu/8cv/+ude4Y0c9aUvCTEpSjiDevWrJ2/xE8c+t3f+93uVUupqBu0AAQxQICHGISClEpsI1UlMkShMJBVlZi898YEabozi30oz1WSqFJjU9BGc5qr3yjYGGjQ+qBA8SNCvi0EQPBerGUmxJEVDzacZdUoMgCstc6JtRy0zx74+/zZoGWjH0ko4LXYsgU1AVWQEWICee9MMN9gBWcgF8abKrgdXAa34fzlK897xsrJkZMH9vTs2XHy6L7Rvd+bPnBHnJSXrF43Z/3a+2+92WSVeYanKdrzxd7NV74CyzZZ0wGNQQbMTjyUjbF37N178XOv7FqwAoRrXvHSO/7n37dvfbXAW7YQEKVQD+/Cljv4ViQwPJNz90CgEBjMX0KAz4WHBOotmwrAsIAincLksV2f/ws7PlCSijtm9vbesfGlr8FxN71376G9u9OJU15hbHtb97bFm87v3LzlSTGd7Dv5zzv+JYtCdJWC5I2qOpdGkaU4KiVzIMg82AKC2SaJQ83VLjlm+HhDPV7uUDYlA4voR9Np8zPUH6+pg4WtmgHDKzgR52GNYQydxPs/8rUT4+qsET11+M9vfvuvv7B7ESyQZjhyVA/3jQyOnDpwuOfw0SOxEV919x2+u5JOt5U7Okv2nLXL1q9evnpV94Kuzq4lNgJ4arpn578uXdgWca4EGvIAluGdM2wpDAxC2ZQaUhQQRV4WrjBsoLUi/NND7aGDqDhiw1ADRagHDbt9yUv2QzZTQ+aw0GeC954oBPOs9xmRszbPEIasY5b5KIq8pKpqjQ2Zw9mWMAxo2ehHGMyBOSZh9ISWmwrKVI2xuQqPqog3xuSWzZTy0RclACAO8+Z1nr+0c/sTcOJIllGXAAAgAElEQVRIdt8Pe+67e2r8xJE9d8e7vjffT3M6aSNjPE0fmzjyjb9f/arrEXdC2qA2pEKgDE9R9US7jlPlGNjMSYcm00FKB60qHMEQtAp20OrI7u++9rKLsrj9Rb/yyquvvxZuCpr+tHdLMCF56PMosyEHcoCHMIhKGoMVSCEnT3z9cx2nemJ30lKqqtXxsb3/56NVLjtECtMxd/7GbU/Auq1YtApmDizDjzgbiY2zsCFxRBEplEiiyDrAwd+7b8/zX3DlNGUvetmLr7/hmtnmRwMNnMIHhMzkKc+YEiiMMjVsylBPHhbHFMlJgcI4oAL8n3++s+8kUTw/Vc/Gj01X/uim2zavXjrcd2h8dNQ57xE7irhU9mQXL110dO+uo4d2E9zffPYzy5agTRFrjZknDC+oHti355eveK7a5IUvfekbr7s+xJqhsGyhxVLjGxKkwfJyfnvBVhb9l5vuU6EQpdxuhhhJkM1DLRzLzEW0R2umGQoVAVNwh0XCZQTLHJYSJoL3iCLjfVbzmpnrP2cbWjb6UQAXOZ988uRDTXJXjzl403mHJ5Pn9wmhsw+MJbWwBi7G4rnRoo3rnvoCHNk3fvj+gz+8vd2fmhNjylfIUIdWqv2ndn/8rRknrGXNEFvyaQbPaJt78tjEoQN77xr7H680dMIf3n/onlM/KEtFfGaS2ClIYbxe9+SlaswExbd+46N/v+fm85Z3JjL9oO6WlUmMEoREOQM5UjUSMcXVnP4l1lc7xCdZJUIGpGzJqU+4PY3buzZfvOL8p2LBEnAMSoKXBVTDDLY6yWFDn88mUsBDPaxE8Wdv+SebeaQnrn/ttbue8Yz1m9fyLBzTZ9LlwuIceBR1/jgRCOqJcv9b4NGUwhVVoTx0FhJIFoDzzhgy+WpgQ3xXCY4wrfDAjw7hrgO9LpmrFDufJiZyQqPjUzt2HbYybb0/b8v6JYsXLlzUuX7D2u5lsIDRyxNBf//x17/htX/43vc+bttKUhiCOBgmkDHleZ/9xy+DOa1m177+DXufdMn2rVuCq9vE8Mm/tbpwR/FJSH7j+ZHcfABRITUWXNu6g5svS4219U3npQbyaFgnjDFARqib8mCZjTHFGvJTl/P8LDDrxvPPNaioMvDNCaI636E2Yalmo+vVd821dxaksAZSgoux7sI5S1Z0Dg1mh8en0ooYjpMkcypqmcrwpqo+iSMRF8cxPGfibTY1h8Wwzzypib0yKxuGsq06H6ruyBryXn1qo2jV6tUjp8a1u/NB3TI3+IlaFDUzYAkuc2SsiazzqXCkNvYikToGg1hN+RTK269/G5JVQDs4RipIYkAhVShDmRWszhCcR8w1h4sBVlQtYgdnIwXMJU99yuEjPes2r/2pKSn/W9BiMw5AcwvCVAwDhattt0ACmMIaiTguYjchnx8MuoICSx4FK1mt9QXpIvU4Noy+vtH+wdEjvX3DJ0f7jh+rwFZ9wrYjzSqGbVapJpyWrFz3qheuXobuLsAjZngPNmDxcV7W7pd3z3v2My4ZGRrUzSuVlAwRh2gKQRyIkWVxHF1w/uN7eoe2b9tSt86NfvHpzbEC9QkNfQVrx9fCZo07BDS//CEb0xmHxqxKMM+Mlo1+xJEzonzNOqtQ0K4N/agLv8iQDcxZAnxTx8xwmgyaQi1YEMVQg47la57yS/uPH9Up5erU5LR1nSvXX/ZCrL0QyRwYgAXOgwhqIG7L0f2/9da3nP/Kd2B+9yde/fb3vPfzazcuAqpQho0QWNtpBaTgaPLo8Q/+1nve896Pbd6yClp9EDdbN8sMliD5CxEIoAxTBhSSAlXs37X3P27WkwcSQdVRtX3J9l+6GuVVoA7lsjrPpVhSz7GBjaEezli1JGACGWQOcUjJRmxhLBR+AmYuYAaPjH7tW3fe+OxX1rfYswbC0qh4qRBRISLvvTUxSEMzrloBiCMwgQTMNq/LECEyLvNsjBoEnXtfsNdOncLAMPYd6h86MdY3eKKvf1AcLDHBq59WnbIRtp6zOi4v2L2nr0KxpzY2Mj+uvupFz3rqtrzlJgy8R2xh4IDp++7d0Xe05/LnXeEq2Xfu2PH0Z71AFcZSBfCAZUTImB1EYHigp//2O+645IorJoGIaxztfClCjUdYsJlR3xk0hoFqwXc0WmFteLY5pn9mjnGmT5+a32QGzF73uYaWjX7kwQ0ecS0Anbs9xXarqM2ukWS5OWsiUIGNAZHMc5Tk/OaVW8+5/KU7bvti2WYZJ5sveR42Pw28EGw9eRgCi1MhjmM4rOu44BkvfPbVvzGF8iuu/vVlW7dMTk782q++5S2//fsbz91syUXwt912y0c//Kdgm1L8W7//JyvPO8/XJO3pp/rZVIpBRSMSCLwoWAyHTA9LBRs6Npryfd/4HKWnvEm2PfNKbHoyzLwUkQCJNSqOEwbEOXHV7NeuubZ/YHg6WvDcy5/3zt95++WXXfrq69504ztvXLduVSkiOPmPW7/+wY99SrnM3rz9He/csnkVzT6/qKi9YIUnGOQdrckai5CpIKjCZxpFxEFLotaZ2DAUSqwEjUxKGJ9E70C1Z2Bw+PiJ3v6Bnt7ByrQnjjM1Xskp4jjuXrl86aKFyxbP37B+6fJFmD8/j0Dct+eiT336H09On+hoj1/1ol986hPaEoU4GIs0UxuRqAAZEW3ecM6HP/RHH/7Ix1NXetuNf7R1S5d6vOaaV7/pt96+fet2B2eBb3ztKx//kw+TMJI5b37H+7ZsXmmKQv+awRWAT1MxyzVhWGttBhvwwOa0gQH90DGjOa5N1tkb7mjxox8lCODzao4A4sKxbixkQN4vnGyDWQeKfSAD4r0xFBxzoyA/CV9FpYIkgU1ABlx2mbehQoBUoZmSJWYvAJTZE4sSE44N9H3g/e/9yJ98LCrHQFVVSGJQBBYHnXaS2Ch6MGZOi9ur9fHTBlKCKERcbJjUw2cAwTn4FDbIYIR6d3acgBBBKA8OsngGgSmDqlDMAGT62MDA2z74iT/52J8uiGDFEXt4D9OmyIufpwEFklmWNlStbZCEyBQ1nHkbYu/VNHj+mUIYIWPrAQcc6kHfYGVwaGT/wcPHT4xOjk8qhFWYlEjJZwsXti9bMn/d2jVLli5c1jV/yRKKQxAWSKsoJWAEfxfiQQQX5OIKB4LhC6ERDrnmYt8DKIMjwCrhSN+RD3zgfR/7+J9bGwqqNV+bNack5znAvMqvMazRiKJ65AyL2DzkTqu6bDrVg7ZQ+YVmgOTckzNSlKdHGWcTWvzoRwen+QNFo836IDjDYaBmyxJy3ZlDbMHGiCL1nq0RQmTbybYjhorAcDCFUWwggmoVSUxEEQgwwoby6aIGzoC/8pWvXHf9m6KkBBWFEIX6r6BzT22WiobKP/1gLbaoQb1IcxqDEjKnkSU2LOpYQSYGbG0JcoACETwzsQcZiAoTVIWJiZGTW4MPqilQ/dpXv3TDm99YikAAMYtXNokCpJDMc2wM5SV2P/XF/2+Aat8tGfEAM4UOucwOUEPTHqHTw8QUpio4cPjY0ImRw0d6+4ZGxsamMmUHBkXM7DPX0V5e2b1s+eJFixctXLWyc1U32mJIQahIQlRFHROLcJIAClWxDCgMEYQsoSowRjKpRlxEIdQBNryKGeDALwpbIC/ef/3rX3/LW34z5iD3B1UGkYKJkKUusjbok6kUxQBFFWW9N02BxsBHHTPYzUccTcU+s9lxPg0tP/rRQXMq/3SjDTSyX+m0I6j51VJLlIsi2DJWdUzsnBgbV7I0jmKjIRIdjBdlmXJc18U0ogA5521klEJ2SIPojk+dSWIFvHjKawweBIp7OWPqqQdRoVnDIXiqooa8IXhYzVv/KSAgArFXMfW4CXuwF0QEIqd+kkySohSi0pEBAJd5GxnvxBgGwZESlGdfRNpnYiKrQOoBhhIyhSOcmkTfIPYfHh4aPjE4PNbXP+CcM+qtobQyWYojJr9m9bLFXfMXL+pct3bVkoVt8+edzrnO+9EgL7BmUpBD0EJhG8LfhkIr3ihk64iQ+TQEW7wTyzb/Fj3IhGedNVYayPKZ81FkoABJmkoU2RBE9wo2BGQEVFKXxOWmwZwP2oaayYBaWrDIfFLj442gh+3h5mdv7J+DuuPcxBKZjSa75Uc/amg2zQ+0ZDflCeut7cMJikrfgsak6oiJiQAhIoFaaxUSRzEAJRKvxoANqUcUkRZRb0geg7DWhD0qGWgQUVVnEhve3BZ69A8+8MczvYQgWqNgucAsYzKAF8+FwFqt8YkqMbGqEjHgFV6UTX73TKYt7FSjPMUGCKw13jljbQgMWUs6wyx/JFH/SGtbn4Ygz2nMA59LdbCzzEAlRW/vVG//0MDQaP/w8MGDhzPxIFP1RHZBpkZdtnxpV/eSBcsXL9q8YcWC+Vi8EJYQETTIXACkUAhT4AGLYaOkDOMd8ip4RZBXDfRhhTJBwWxyEgiRQikyFmCfOWstNI+s5ZJDXq2xAkhYOkWIObIm+ArqEcU2/xQ4rOi5OG0SR6LO0GkmpXngN/siPzUeBqmjgTFyxtke7GX8bNCy0Y8iat8+zzAScuei/lQDXZSKA5oopWQbH8iNV92ryjXrQIUAfe0prs8Nqp860NjyAVBj7zc8/5OhTT6T5CuO1s8V/DOCRIEzp4Bag0KrAWio8QirR8iiMVA0Nyqup3YTHuBagX3EHjAPYAdmEofK2V21cjUVcL6ZEQT97qJztfepsRaA9xo+3Ezgipo4G6LwiiB17IGKIiIoYIE/+8Rff+Ert0359sdd8oLFy88Z6B2oTk0aP01QtazZVEJTJ/p2nxzpydQ89bJXvvq1v7J2GUrFd061aw2/F9wIItRHDhsUR5raPKYib1t8aI0eAtU9WgZgouJlxcgBghwzuHZO0zAyCu5g7csI12MQ5aeh0wft6X/V/miILtPMh6LhM3j44Jl/n8GCzzq0bPT/Bn7MUk0/8Yg6Zh5JP/nkZxz0SLkO9OOpTfXABYAZo/CiTQ+HtoEzobafaHq9aNEkJV8uqM46meEcqqrCzIS8fqTYzlPtOnMDLRDxxlpAnCiZKLzNiUn83Rf+e+TkZLmdXv7i56xYgJigYBCODMnJiemD+w/29/YeOXjf4SOHtm67aGSK77xr16oxGJaS0Q3r13Qv65q3aOGGdYvbdeLO79z2ipc9r2/w+DVv+dC8tld0MCinrT88FHa8wE8yQDO94cwXQQ90xEN2b1v4yWjZ6BYeFhrmWhGSLh4qNPAacjVN5rNGem3ah1L9tIFpDoCJzrAChNDQnYF8GAflh+Ag16td6h5bkLdS1VDnR8yG4Jwj0lyUsuZgE9gY51JjSZkDJ2BkDO/94385Ns0aldOpiYM9tz3pyY+bmpocH5/YuXOnYSLNmCtwaZuZ17V4y7qVnZ2dnf9yy+3XPP9xT79kXUcpv08HiKCDOjateD68WMTLuhaUSyDAzLZYeguzAC0b3cIjiNySKhByhJrv1Bv3tjMxq5pSN7UDFM351eBlc9ODwfo75LUgDWcr3rHR2c+l3GsNO1StyTsfeJVcd1jhg0KIjacVSnDAkQH8w+dvHxynNJorEkeljpFK5bZvfc9LGllEUbx4wYIli+asWrVg7aruBW3JOSthHAb7jt97553Punhd2YRmtSpKzAz2kOyvb/r4Lbfcgnjup7/wb3PLEACSGRM91A+/hccmWryOFh4ezsiMFwYxk9yJNo18OMkz7FwnYDRHtUFyelan/jYASMFUZOQ9ARCTe9x5VUgTk7ZYFZx4ZuYgc4Ei2EFwqZrYCOCKfh+him/vIfQNnOoZOHZ04MThnqHpzCvYROXUxwrDpOrG2+LKa1/+vGXz7cZVJiZ4zXvlsII9YsZ7fu/3rnr56zZvWxdywkwMoOp8Yg2pg2Rg39t/7I2//q4/+MP3nr91HcOZcHcttACgxeto4ZGHNru+oGbCcs2Uc35w7SV1X/eM0LNKY3apme2HGUrFTvc0WAHDecdbIaBQjHcONkYFODWJoWMTh3sGDh/pP3J0+PjoeOpgo5LXKHUqxKuWrzg5MT42NmVNAmKRzMAtbOeLL0jagATwgiT3ziUigdVP3fQXXcuWbtm2LgvdppUzVcOkSgSAFEYA6e5e8sxLn9bf07tt69rZ14yxhZ89Wja6hUcEhT5UYR+LRuoN7G9ygDJMzkw4jULeZF0bLDg5EKD1rCBQ87W5qG+0oDzfqFS3341cXacQQAiOIISRcRzuzfoGR+/b23f8xKkTJ455l1ojlgQ+ZWTnnrNmadfc7uVdK1YuXb9mLoB9B/Sv/ubm4am0KpJwtmBO6eXPefIcIAIUnth4wDgX2QzVE+961++v2PCka69/QxUwgQnOUJADOGIFdt15x/HjvZde/kyP0g/uuOuZlz6vpOQymPiR/mZa+DlHK9bRwsND3f5CG9zAOr+7+BsIUk1RkwlGYaOBmiOc29a8xsEBgJ7hTFDD+Qsatie4XDWijsDlPXoUx0cnDvX07zt0tH9oaGKqIiAhC7R5Tx0dpdUrl69e0dW9ZMHaFW0rluaGNXDMRGEI3mHn/ZWb/vZr047LEb30RZdf9uQ5MaCSsYFD5NUnMJCpPXff/ls3vnNSF6bUriSveOmLr3vVS19/7fW/eePvbdu+yQCsStWxV139kpFTJyem8c53fPgXn/20PNvZcqNbaECrn2ELDxsNPrKC6rTm0OiACnNsBJgGAI0Ak7eWC3pCOdlCiSEStNsBZXWOrFUSBLk7cL2PaNAagoZe4rmKmsITKoUs3MEjGBg8dbR3uL//+IFDRyXvJO1Fq8a4+Z1tK1csXb5s8bYNmxbNj+bNz4tEQk0k10jaRX+TmlBb7XeT91F1UA8AFCEICkFAUyBA28J2QsSNDPW97wMf/OCffKKUGHIKE6org3edx9ZPl1BuoYVWPLqFRwZ1u6I1CwrkTDh4QcSAeFUi4qAt5TxMCAwLyIJAlHeTU1XvUmsjsgo4VZtpEIAr3OW8ex5NV6mc5Im+iQoG+8b3HjzaM3iib/DEwOBxr+yF2SbeKxGtWbVy4YK5a1cvX7+2a/kSzCmDQxSikMtAvmjU1VXCDZmiWLnIRNazowZZoXBiaqYWYKBU3yUIGObmL33phjdcX06ME1hLkAzU3L+84bwtM91CI1o2uoVHBoVRkqZQhgA2l9dhKgHsnBjDZDgvQDZWlUCsChj2AJPYKIJ6SAVcItjQ0pSA1IMJzKg6jIxj5CR279594HDf0Gg6MDxmjTHkI/JZOmUNNm5YtWzJgu7li7uXLjxnTYcpSrcNgTSX685jCwKvqqTMqiAhYeIGJWohiAHCZPGFYWUg73nd4AsXNYK2kYYC0HU3/Ia4aScKQwrJb19FwULMDd0IW8GOFk5Dy0a38PCQR5O5EKgorJUrAroEEXEgZSMKsuwAFURsgn4/CKp5ro8Ar2yInVOm5Hd++929J/ijN72/vQ19A3Ls2ImBgcHd9+0bGT01PDbOzNDq3n09trR8w5bzli3rXL9m2ZqlXWtWtnUtAhMsw+ZeLqCOqa5uDXDuMYsAMERgAziFNksbCxpdYrApNgtBHBlgQr0hoc7kA4cu1Bwn4bwOEoXLyHmBjRH82Svu08LPCi0b3cIjAm6gvgmUYQEBDESdslXAAaOT+Jsv3jMyNtERVV/1ksvWLAFJ0LgQBoeAMggOqHJ09dVvefIlz95x/PBH/vae/fv3Mil7jTmzNO395IoVC+d0RN/+5tde99KX3vH9Ix/87WfP78w7slPDNbkMRMI2VCqGppEKA8B7OFLONYBIcmk0UUahoR2a5+anM7lnXchv+iKpGVqjKEVSPNJQZSPgPMAuKoCKSkwRVMPCQZQZZJDIAGDRmY18C2c1Wja6hUcKRfgigAAD1ZSYqxABj57Cu97/peFK2bNp4+k//eQtb3nDlauWBtPIIjh4aPJIT39vb/+Ro0fHTo0uWLrqjh/uGBkz+/cfJKI1q1cuXdi1dFH71o3LupejXIIBfvdNVw0OHL/ruzvnREgUllzQ7lCF97ARbISglBTaHwiUSJWCE0sgDtqoIAEJg4gZUotAh7bVEvKIUhe6C8GQ/J4LSE3iimqBaQIg3jlj41B6E+XtCnMx/DpCBL8Vi27hDLRsdAsPD3UJDm6ODEAVZGhaUuW2quKzX/zBZLVkojmZijemd+TUx/72W4+78Lz+3r7h4WPHhkeZCD4txwo3KW5q+7Y1paj0ne/c99brrjhnYxRZRIFNUVSaQ31EE5FOxCaLgznNHV0Q2EYQEQBEVDRstba4ZJFcvYlDwg+MonEOM7xXm8eqQ7JSqKYMSAAxAbZWpqNRLeOXG/FQr0gA2CgbY733bGwoomEFtKZyWBjrPIotrSLDFk5Dy0bPTszcLugBDnuws/oBXlWjL1A9AfaAInIzn9Q2/qkGgshxlAGOsOvAcEXiqlOKbNX7KGofGB77t2/+FysYVC63r1u1cs2Kpd1LOtasLK1ZBlYM9h/fc+e9m1ZG7Tao2+XEuHBtTAJkRjMWcQ5xXLyzUt4EhAKdlLSQIlXNe4WYolK8dn+StxyEQMgUXfgatJly1KiFYUFSQk3cFLUVKkSoOV8MGMYYESFizrta1k5X/+3HKQi2cBbjodjoGpPaOWetBVC022jhgacayUxPcmO5XQM1oqYiFM7ZZCMayq3rzVxQmIMaaayxZ4BCVTVoCSk8gUSCRmdDvR9yH1A0f0OjgM/JC40aGLUboYY/nIAMBMgUSjjSj2Oj/kj/4P7DvaMnKz2DJ50kGiWiEUNiVivTMU887/KnbV7X3bXQLlkIdYjM/2/vy8PsKss8f+/7fefcWpNUkkoqqRRJ2ILi0urA2I82Lo1IQAkQNlE2BaUFV2RR2263aZcWH8BxGwFlSTtjj7agEXChfXSYdnrG6R4UjEQkeypVSaqSVKruPef73nf++M65Sy0hKSB1g+f38JB7zz1171m+8/ve711+LwxAHuwTULlF9pSsl5DxoE7IUqhqUQ3dAgBWzwCRzXLyTDUYCFTT/WuJ/wSqNiWrVZajZiYDtToaNMxPjVu4cWvdpzkHZzl8+c9VH5BJihBqR1I8RM8TVEnSe5+pKk4Xh8zRqpqJhxHZbO2IovilhnE0VoVyWDJj0s/r+ALA+Ge1Ljt3KsPWeyVDAHyojcjJSJyyISKlLH1CCSQqgTE8QFo1KgUAhNkgBZBFtYI3NvM0U57VkGXWKVThFHv3YWDn6JNPbti6fXB47/4n/rhZYGBikHVqRKhkoiWLZw8O7RlLU5eUjUk6oso7L73g5SeWyCM2MAoNV0cSkAM5VEYMXKW8r7MdHmopE2xSDa4LDyi8GrZRzGNjiFvAsAdt94/HoVPkFDuPY+0Cf9owWeuNjDmnYctOv85wnO0ciLuA5glVVfuUJpJxw/6+tlV5osmqYY1eo34K35nlvJFAWSkzzxIPazLyUHgRsRTBqaJCkYGyKGXWtCZE6iEIxrdCyBgQAd57NQZhAldVMqMebPLcOGBkDNsG8NSGnf2Dw/27R57csKE8OhqXrKYJ1EWsKumypb1ds9uX9C5edtTixQs7Zs1GzHh03chXvnVf6rTE7tILz3rlK+aqQ0SwBqH/ikqYPHw6tu+qd1zaPzCUSqcnvuGmd7/6lFPe/vYP3/Chm07+sz7AeamQJm+/5OJt23aKXZDCfuhD161ceQpr3YKkQIEZQtWIRk7T0yvknk4teHW38CLUhh3yGTxPoXWO5IZyNUzmA8n0KPJcW+Q+jXFuhZxyJOPT/MOakyTzL6feQdladt4ZExTt4RK1kQm12hCAovzvU0HiwApjYQH2+WELkACaqQVBgQ3bdMuOwe07dm16avP2bYN79o06BbMVtuWU2Nr58+f1dM9ddlRv3+L587vs0iUgQYlhAPUwDENgIM3qwcHhy1PEUdZX0asjIiYr6hihX6MHGUWkCqaxzf2Dn/nMXZ/77MdaDWwkoBRwEA+yQFvqQRYaFOae0T0sUODZRz1ZHxKmUwseeJmImFlEnskU8bxEfcED6tbDk18eatAhqjpHxyH/Kq6+UwhRVWkoFI8gMplKJ5NnGAirqo2DNpyFKpGHeu+JDDPA1GLI+KAJFyo3CKnH4DC2DGLDlv5tG/r7B4YGBocSCaqaqdFyiaRzVtviRV3LliycP29Ob2/vsqWhDx8M4ASWM5k3znwjIUdCkrRso9BvBAZQh8jCu4QtQ8Vy8Kh4IisAYAxFQGiBqoCuve/+d1x5aakFVgGvykQcgwElkTSyUTkNmXYFCsw8qsZr8Dc8E56cvq+jXC4/8cQTw8PD4SAKXwcyYcy8VjgzhyV4osNGUowTsFdiAXOWdSVT1gIrV+OESgJSUoJa0mBHexFRVTJGVS2zei8p4pbSaFKBjURaiExEoqoJYjYRAOeRurjsdN/o2K6hvXv27B8rJzt3D6WiZSVjS5GWSLmSugWLelrb4zmdLQtmt83ptCXriSqWEkuOJbUG3glIY2NVvYiE7GFD7JxjBhM55+LYipISJ0lSsiY2nCaJiDeRTb1XArGBsSoEsPfewDDIWC2XRztabeK0Iu0wtgXOuwozVNUY472PrU2cU0NkDESoGIkFZhrW2nK5TESlUilN0yRJFi9evGLFiig6NDtiOna0qoYpoqWl5SUveUl1Y2FHZxhHEA0cLZPtFxqL1Ge+VZHXVdd/J9WcG/Wfaki5zbzhHq4MY+EEUSmF9XmgbzTBph34w8ahHbv2bO/f2b9py77R/d4Ks5CkcJVWw3PmtCw99qhF3d3HLelZ2DVnSQ+8gAwIsAIDSN57mgADeJcYE6s6AMQMVShnaSS1/tsKIhUhk12Hyv7RUmtH/RmFhDURhNS42kUhgaioqDFONarrAx5SWRAqV8h58ZajIjuiwIyjGq575jlv0/F11OfbhTKBIvEuQ9VMrldpA3KarjoruN5xXV26ZMsAABoTSURBVO/hqFOoBzDBqiY4qsn6hBIIAlgReq86BcCkbGxEiu8/sPYLt3zNUem4E1527IoX7xvZv21gl2or4rZEjThXUu6a3dHdO29J34Kli+Z1z+n4+pf/8/CO7R+58a0dLWjLSRnG5ZVwBGWjjJDUAQBqLKu4kG/mnTPWgpQQaDpfnxE5J9ZyVn0iUmrrAHIB0lDaoUrMhjRrGuvz4g4FYJiNIImJABNUUJ2DtQBVO7eo5SI0UqApEDwT9cbrtA3Z6dewBF4u2LkBBAiFxtIBgbTJQDwzw3sYy+IRWo9mVm9mDSqIRDwbBkREiBkkomLyi5yAt+3HXd/+X8ND+zrbWy684NVL5kM9YgsAqWD3HuzYiSd+v2X30MC6db/+v//+62V/9qZKkq7bsKHMfyx1xFyi43t7ly/tm9U1a2nvwhOPiclnipzpaHrlVVdcdPGVP/rxT9uBViBWaKiAVquUKw3l2cd1hXdMnOl1GBvXsryDOAYFzQshyx4S2hgS24zzrQVAhgFQWB8Q1QSLAKhkPwIEERBFFketep8pK9YrvNEFmgWBjutJedqehqLO8NlG5jdWgTJzHiCDViuPFcwQQBxMuPzhPZN4HzzFIiC2TkEEAacKJiQew2P4yKe/M+LaVQxk51O33bd61amjQzv37xneunX7xk1bRhPxZCPb4tPy8M5N87p7lvUd1d2zcGPP3M7O0mWXr144GyVAUyCCBaJymSMDWKTOtiRr7v4vuwZGfvzADyIICSPovAGpODYWyDSfM9QqEgObjputqypLwmhw9WRrDJrgF6rtE/SPsjrszE5WVA1myeT0s3WGVptvaeHnKPB8Q8HRzzJUVQnMVF/BJ4pgOKqKiBpDDMDCOccmVoKqmqzsDwi9RRQ+BcXwhFShgDf4yp2/SPycSplNi1Uyu0bc7Xf/uM2CpcyUKnTRknnz58067ugli7tnP/qr/wmXvuvqlU7wvbW7h3buPHZ25hhxNnMkcERwZV/qVI6sI4gmFe+SNIqYCOJhDJTAxma1fvUJKsrQrL92AFU9PAj8y+MKnwGphk9zyaEJDvxst0ymrjYThAuqtdXHZLmOBQo831Bw9LMMIlURMAeHbC4ToaqkimBZe+9VvbWWbJwEijLkADA7n9naXrF5uw7u3rdhy/YNG7ftGh7Z1r8DpTkV6UIUqyHnxJJly69//ck9XfHC7vYVx8EjW/C3AruebNu1fZtVZ0k7TLqrvNcKJEkojiyTAqSy9p/++ze+ccdAyjfcdNPZp50KgTEmiqK0kra2RcaiUknjUqRZdjbq3L2ZJlB21vX/jC+wnDRjeaJmSN61tkFSGVUqH3+d63++IOgCz18UHP3sQqDCpFCBqnhla4jIGFKFMgRIU0SRIRgHpAJhOGDMoX8QO3f7zVsHNm8b7N+xa2BgFxE5l1jD5FwUU3t7u2Ozr1JBKUpcyiTsZVaLu/DMrlImqpHxHAXS8inICVUIdmw0KZkOABzHAEgQK8B85tnnnXHu+cKxV3ggtB/J5OIAn0opjpBFMsPp1eIPobCdxhXUoJGRGy3lRrJt1CTJeTY4TyT/1NBEHg8ODouQG12VA6WifKXA8xAFRz+rUIYqgnIPgaNsQe4ExHAeZKARPLB7LzZv3rlt+8DmbTt37Brq37Gr7EQkIhN7YTCp6uLenmVLeufP6Xjhip5ZnZg3G09uwS23r91X2avet8W2o+SvfOubY8CKj7kCkJfWVNRaMpBXvvzFN9z4rdUXnhW1zbr/Bw+8/70fCBTmPdiCQjqejQggRUQQTZg48amJmC07QSnioMbEuUMjL0upOZiDKMhEctRG2zYwadBQrnNQVK3pmvgTZdLM9ZSN2p9kP8T5VtYGH0vRa6rA8w0FRz+rICiZwMtes/yxcopKio1bsHHr4MDA8Jb+wac2bnGihiNoGplE01HD1Nczv2fhvL7enkU98xYv7Fq0wGSEKOA8ieJFfbjmwtPuXPPdkcpY5OWKi89+yXFUAiwTNFafGitZoFJ8T9+CV5/8ivPOuigxLWdffMmLX7GiUh65+qp3vuejHz/hhONLBuwlM5C9goiSsUsuu2zb4N4EfNqZK2+8/oY3n3YqAaSkoZtUMKgVRDDIFY6QGd114AlbauRez7/5NaurgA/JHtXIa20vTwAQBc9JZrlXXeGhnJEEWZurgqYLPH8w/TpDAIBUQ+2YcknbnHBVBff69kR5KmP2pu6MqoYjZ0KgVe23ur8IpDxawdbtyZbN23YMDG3rH9jWv2PPvjGikhcCx2TYKebOm9+zoPeoxQt6F7YtWdTStzhvu+cRm8xZ4X3ZhsyPEDKDEYESEoFYeMADrUAkMCFb2DBYvHhDJcBBKxACtSmjQgCwa8tTn//85z/+hS+VYhtnKvUhm9sCAk2hAtPqqvatV8uNjt+6TLj6S1V39Z6WHwVgl9vgPM5VUrWIxztJUgDQqthIaJ4CR0Cu+p9zND8nHK2oK0TKxgBN3GX8q2aANL7l5jq6KVEXsaiW7E5Ynx05JxLAE0jyaVZ+T1NnGFh7Qhq2ZpUzqnfdcfvDP/t5ovass8++6KLVqWiw4dQnliMKJDfTNs04ESgFxKeGUoA/83dfGt5X/tjHP1ZqzVytVNcO2vsUxngwqUSheM8nsC1pEMMAEg8ByODx9TK8d3Sgf9/6J7cM7B4eHN5tLSWVsTZjLHv1o12z2vp6e5cs6ulZNK9n0bzeJXFMIIGhLE2ippRkaq+tyVTrQdkuzIDIv/70Z1++594ymxe/7OUf+eC1HISe2QIOUJOlKlvAwkC8MlEEeNEfrn3wyquu7oxt5rCu1wlRBkXVZtchNkhm4iMw/nYe+CGpGzyiqqQO6dgtt3zpD4PuU5/7RJtBnKunat1ckL3WPEUvO6gJnm7KY5jZ306aAnhwmDDV+KrrXRWixIB39977rQd/ulY1WnnGpW95y1kMeC+GhThrpsXBkFfOz+Kw9lWZLCgggIj3zOaub97xk5897DVa+aY3X3LxhSIAwAytpeBgZh/X+uMXSU1I/AxhHAjY9/dv//DffPq1rzv1rRdfEE6QEbQSuYEKG/XWZwYKqIIVKkl59MYbbxwe3l1OtHfpCZ/45Ccji8hAfMqmOq83BOFzCA7g63DOBR2Q8IzV1RMqsQKyc6C/u7v7rnvW7Ny956N//bFTTzuta26nV2WCNZagvuxNbGfKpqiWYBKRiISGSQCcQ2QjX/HXX3/jqtVv+/HDP/cEAQwjSaUlyuZt54EoSoO5RmyE4S1HpUSwacBv3Dq8tX/XjoHd23cMbN3eX2qNR0aTyHQARlRnz+7o7u5acczR82fNXrigbdkytMdQj5IBKcQjpjpSPhAmPjBuaPum++9b842v3hzP6nrfh25at+6PLz3haO9CfTRDpWqBZoPYZinahumd77x63NVolHOqz6aYAod4K6sEDYRMZ/fX173nTede1P8/fp9KaHgIZnKpN7GRhryRHNpwbOOOZMLhPGsUw4wkkShiJvLiDWPnwEBnR9s993yzv3/v337ia6efftbcObCWoV58qqY02WHPJLz3xhAANrxrYMesjvZ7712zY3D4bz7+qTNWntnV1cGA92rMpOk4MwzDRqEQIQrZ8QrIzx9+eOUZbxqrOADlRFpiFoFpzjK6QNDOw1AcxYt7Fv6nT32ybXZXxdsgqyCAMcZLapig2rhiaPimKTk6FHwHpaRgDQXFOzZGvDcmnd89/4w3n+uczp3V3tEe79w9NGtup6GQVusNjIln0tnNzM65cCLVYkgRRAaqkKjl7265tX9gv/v5P3skhBhAHDEALwDBRyh7eIMt/RjZg+1/XL9t04YfPvRACjt70fGmpZPYu3S0hYjYHbO8r2fB/Nmds44/ZumShS1tMb761Xtv/9zNCnvJ5Ze95PgznWYeDEOwDJOtzVVoisyyqUD8fx5fd9Ipr+9s72TFRWesfOLf/vfLVhytNmjwc6jiCxWL1fCacy5U7Yd7OpMCWESfvvXWof7d+st1oedAEOWwkckGaahYmYEDA9BAU6qI48y4NNaqK89fuHDV6tVAOmduV0tLy46BwXld3QjWgDH1qdrV+WNmac8YIz5lBlS6urrOOf98AOL9gvnz21pKYZFtDHnxRJMtmWYYlgAviQkyiKTrfvv4pi3bT3/znz/6+OMASjF7QcRQVRExzXYCRFABs7pUITaOrLUAW4NUYbPovRoTQX1DlcEETEmjQTjJe2+trepEM7NmeqQSovk2ooFtQ+3tnX19vZQp52SrpxmHMaa6COCsTRTKiqE9WPOP/zy0ZxgYTdGWIK6EtkvA2Ci2bxtZt37DvpHKlv7BJzdsVdMildSmI0+u+01Pz8Ld+8svOPEFpc6O3gVzTjjuqO451DO3loJGQCuwY8vG5d341U+/u2nHnne/972rz3nt3DntmvlexXBY1whIPIRhD8X6Yw9ia9kYqFb2j1ijRCHmB4TJuXbtBVk/sxhAoOkZIehq4x7AwImNSqoedW4l8Uo2f0NP46E7PAjXkwiqSsg9Nt7D8NDQ7lmzO/r6usNoZ2NEpdkkxYJdxZlgMXHE937zWz9c+6NS+5xbb/tya2vkPZDRRNhHpv6yw4ns7ud9IGPAgVTS9MEHH/qrq695cvPWJEkAEAJBg4lyRmomBE0ZIrI2Gdv/1FMbr7jiCopaz1x10eoLVqnAMMDsvTOGUH0kG0ZRdkZTcnS4c8HySpIkjuM0TR955Jd33PmNcrl87TUffM1rXgUZlVS/ueYf3nLplW3WEJASHDRGTApVAUAztxIJ6/pgP4rIQw899M1/+N4YzZu3+EUj5XbnHJJh78trf7ph72hlx9C+9U9tKJfT2EbMSMZGOqwS/Lz5pSULFh3dPecF11wwNrLzzrvvev87XxVbBHW1TNJIAEZZYBkk2rO497wLz4dLLXNvT29HKWI4DkkfgAqRaFjV8yGTkRhoWkkAKChqbavs3Q/AUl2EJTMJMwM93EHvvapaa3Oj4znXHqoK3qHm8VAQYKxXMUyWwUCa+sgaNjSZL/VwoGFxSbWrqJmaoDAzRGCM27/fdsROKnfffff551/S1laNFBOTnXTem1neDr4Ol6bWGqi+5a0Xv+2KK/r7d19//fXXXffBFSuOUYXJ+qv5GZOjqrsBFKR3AeTLQecdsWPSXzzyi8W9fZ2ds4zpb41j55QZzKH2lKpenQxNMl+GMJhIqa3ttttug6FK2b//Qx878aUvP3FFX5JIKWbDnMXhp8bT2NFpmhJRHMcAoih67Wtf+xenvMoE+UcFCN/+9rd7e3uPP76PFV6qThUl0Ayyc0DoHhYsR2ZeuXLl61eu/Ps7HvmX/7c5Nu2lFoxVdhvT+tBPHqGoNOqSuKW0YP68BQsWLF+6dMnCrmMWYuHCrMytDSgJdm51VvbEUolRKgFGPYhUUmIBuIUjBXuQYb7t5psffPAhyx13rVnT1hpkhhyFpDIGstZ8qVdprNF4esTMFlBoIhATCxsniBqjZ9mLPAqRpmlQrQ32rDHm8GjJ1tN0DWydE+9TCIQRRwbaaEePwww9b6ohZkiAgAgktr0Nktxzz71HLz/mRS9cKh5k4LwSJOhj8biDnVGXNBEZY1ScjSJ4B2YTxypYsGDBSSedNDAwsHz58jiuymPN/MIFQIO7iOAcbGQBVXW/+pd/XffY+h+s/Ukq3sNv3bLpA+9/HwARUUUz2tFEEIg65lzJ12uppeWkk07aNTCIFX1xzN77UPBLzNPxdVTt6BAtFBHvfRRFhkuAAGmlUv7izV9avvyYi95ygSpSBTHE+ZIlga84V7ItMzhM6/vyVk9nzOG367dErXN0dL+mYyVT8VIhjc4767TlR81Zujhqj7Mc3kjxo+/+4Jqv3DoStX3gg9ef+8a/SD2cgkxExipAHiCjImQYSB+473t/f+uXK8I3/e2nTn3d6/7quhvf+8HrRrY8+Y5LV93wxduPP+HoGNZAQ2cnE0LqJjKHuq5XefkLXvg33/mvK89ehZaO/3b//e+59n3MkBTMALmgEaIweYYxRBBFUWhOHCzow9PEfSI7qxJlPg8yxCGFxjmxzGxnWJd/YqiGGZLNoArvYVRT94UvfqHv6KPOOWc1AGKkDlFEKhTyhWYc9cffcJcN/+7xxwe297/mL08Vr4899tvXvOaUOGYReO/DNDnDtmeDNZ1v06x4VME3ffgjPmVj+dHfPvb73/9+1apV4p0x1hATq6qfaHNMFn47fFAoMTEMIFDAGAD927c/8sgvX/EfTvYebGpTiwaRyylwoLBeMKWNMc65EHnTXKkdSDds2PDY79Y9+pvfPbD2B6n3Z557/vnnn1uyBuqZEEXRjNsRQNaqA3leSovlnoXdT2zcFzMNDA4xRgwldmx/K+970bLuCDBw3quhCA7nnPW6c1a/PqX2kMhmDGLDEFGBMWACPChiVSXByjNXrVx1AUBJrQzPdnTPO23lGzdt2778hKNLQEi0CyQajg10qMmq3NndffLJr3z3u6/d7/XMc849/pi+EAitn4eDRREs63Drw0U4bAQ9JQQfuPbaPfvL+7X1isvf8d6rr3zdKX8+0QCa2acrQFTC008EWAOV9evXP/roo//2m0e///0HSTvOOWf16vPO8OJt9lxM+AqaScsuPK3Zk6963HHHfeNrX//67XeImndf855jjz0aABGiaKaHRBU1eyULHUUx5elkUaAgBSJrx8bGosggJyh9Ol/BjCA4WqGejXn4Jw/deeedxhgPuvLq9534wqMNQSTPJ+WnWdROr4ZlfCqiNvxdLjTcBJGfcUiAR/+IW+64f0+lVPGuFFW6SumV573hP750rs0EMR2DSRgK8BggkNZcKlMGN27+zM03f/SzX+zoiEsKOHURJYKSqgmRO+tAe3/z63/fukNOP/0NMlZ+21Vv/8AnP3fcsX1tQAxkVT8CUPg301M+aEheRcIuc4PDIJflJICkWshHzUB1DRAgdJJljyjIPwW3Y7VcKPjV9TAef2NNgdRt54aNKpk/HdBQ7lg7tlBpyah9w8TXM4WJ/NVsT2VDiceE7eOOVibbpx4Zv1cx08N/kgKi6jlMDMI0DnkB8MQTf5jeDWOtjkJyDRUHzQ0DnLAM11x6Vhvv64grbZGuetMbXpETdJ0KBQCAbLbOUO/GRi658ILL3375Y797/Lxzz/7xgw8n+8uXXX7J4797wjJgyHnAUigAf/GJJ6658843/uWqN55+9mWXX/WCY/tMTX5inOPpUK8/Z8UpYANEkBC0zAoT6zrYEgASkDRHik0diMOUnjnQpzi8wzyWDvhz1eKC4FjMrnfzj/ZJMCN5jQcJHUe+Pp8d8/+ysthmtJqngYMfP9NMYa77gSwC27i9KdKnJoKBVsZJx2PNZ89zgGcAsLn5HAq8JSjZA9AIJMqqBOrouPsfv6MqUPZkLWHXxq3ds2cvX9LLgE9zp56xQCdKdM/dd8HGgTor+eXxQF4al4IEKE2DP6v1eFQbslydn6unWRvNkxaAzAyq83qjHTFhtDYP/Y0/wMkuZm2sazUaHPblw+LuO7C13ri9ea5sFVlkexJZroPIL5/8rJupJqeuMgWHeP3zSWvaZSbNsI47ZBAAdeTFUGwJqQNZEFxOfcyhFgSZzSRgUJANYg8mOGYOS9777v+nd73rXZ0d7amKiUgh6pWMcYhJvS0RxMMBlmOjab4WVkAJVanPZ+GRmfFoz6GhWsrYpLP4FKiv0635piatUtGmtVCaGn9CF2x8/s/T4ZmUAorCorr20+aI9RwQClFSWEBTwESGkySJYqsSGn9UW+qJggNbM5SVfNbe1ArS8Iy+45p3QVihTCxIFIZgiELtuFEkZCjE8giVGJxbzQ5QUOb8ONS7hTrbM3OY5jl2BBjKCEKAmptbD62S8bkHH2C52hQjaPIrxpMdXH1gBuM+OLz5xlN5dZseU95sU9uhQQ/gYM9u5jI6JhzDMzuU6XN0cywlDhkpJILxokwC7+IoVg82+ROYrbxq44CgBA55cx7OWCMgJ85S4GQiKMMCYAtVCKlqGjSCFExQ9goGsp6t4WfsNMlIa//mkjh1XzLOpm5K52NeoeAANDObTGojh9jmuOhiwzkcYcuapsVULprmHTAHjUP2QEzznPPYVIjC1ztcGpz6zcfjHKFEsKCIyBJbOKeaVd1olv3DEJDCQizEOweCpJ4oZIuzChFHXlTVAWAlBjPg0goTWkEtZADjwXBgJXAbKAjuCNQEgc3pB53qrilXY4M11/MRhKr8kyikLuZ8WINCVM0tmXqwZh9S46Zxx0kyfv8Zw5EUWGu8VhOjggI4wGVZxs1HKNPCoQU/n8m8VJ9gNI4gmnS6I8AAPlVmeBfeM5vges6h+f8VAKy1ziUcm2qmTMgl5SAGotnDKxpKRVKIshooLKxhQCA6jlfrfuhQx1wdtfO47XU4wEdNB5rw4ogAjfu3YfuRmvXRVNBxb46YWecgcGj0+AzzOrjh/QSfUROOVALiiACYqFYtnaeu8aQzjbUxNLh+YWpuSc488QTkbfeMyf7EhAvLqFMOarxWmO7Voer/Go8z317zfjTh1Z9siqEpXh/W46+/R1Pxb8NGro72xqyP7BYc6CueZTSpPXSQmNK6oKm2NDsOfJgHHuE02ZvnQj70yBk0NNnLAz6ajS8PIhw3jvSf+3F2hIzkAwySI2H8HDCj8Qi5BUcKjoTx8FziT/38CxQoUKCZUXB0gQIFCjQvCo4uUKBAgeZFwdEFChQo0LwoOLpAgQIFmhcFRxcoUKBA86Lg6AIFChRoXhQcXaBAgQLNi4KjCxQoUKB5UXB0gQIFCjQvCo4uUKBAgeZFwdEFChQo0LwoOLpAgQIFmhcFRxcoUKBA84LWr18v8nzSzy5QoECB5wmY+f8DGdKyHnojpA8AAAAASUVORK5CYII=)"
      ],
      "metadata": {
        "id": "4Pzcj-a79OFI"
      }
    },
    {
      "cell_type": "code",
      "metadata": {
        "id": "26m1qLpog6c5"
      },
      "source": [
        "# provide your training data for function 2: 2n^2 - 2n +5\n",
        "xs = np.array([-1.0,  0.0, 1.0, 2.0, 3.0, 4.0], dtype=float)\n",
        "ys = np.array([9.0, 5.0, 5.0, 9.0, 17.0, 29.0], dtype=float)"
      ],
      "execution_count": 32,
      "outputs": []
    },
    {
      "cell_type": "code",
      "metadata": {
        "id": "Q8j_wJgBBnr_"
      },
      "source": [
        "# Set 2: provide more training data for function 2: 2n^2 - 2n +5\n",
        "xs = np.array([-1.0,  0.0, 1.0, 2.0, 3.0, 4.0, 30.0, 70.0, -5.0, -11.0], dtype=float)\n",
        "ys = np.array([9.0, 5.0, 5.0, 9.0, 17.0, 29.0, 1745.0, 9665.0, 65.0, 269.0], dtype=float)"
      ],
      "execution_count": null,
      "outputs": []
    },
    {
      "cell_type": "code",
      "source": [
        "# design your model\n",
        "model = tf.keras.Sequential([keras.layers.Dense(units=1, input_shape=[1])])\n",
        "\n",
        "# compile your model \n",
        "model.compile(optimizer='sgd', loss='mean_squared_error')\n",
        "\n",
        "# train your model\n",
        "model.fit(xs, ys, epochs=500)\n",
        "\n",
        "\n",
        "#test and print results\n",
        "print(model.predict([5.0]))\n",
        "#pre = model.predict([10.0])\n",
        "plt.plot([5.0], model.predict([5.0]), 'gx--')\n",
        "plt.plot(xs,ys, marker='o')\n"
      ],
      "metadata": {
        "id": "y5fKicvPCLLh"
      },
      "execution_count": null,
      "outputs": []
    },
    {
      "cell_type": "code",
      "source": [
        "# Learn complex equation\n",
        "import tensorflow as tf\n",
        "from tensorflow import keras\n",
        "import numpy as np\n",
        "import matplotlib.pyplot as plt"
      ],
      "metadata": {
        "id": "56csCRLm-JuB"
      },
      "execution_count": 19,
      "outputs": []
    },
    {
      "cell_type": "code",
      "source": [
        "#detailed function description\n",
        "def fTest(x_arg):\n",
        "    return 5 - 2*x_arg + 2*(x_arg)**2 "
      ],
      "metadata": {
        "id": "5n2xzy6y-U4l"
      },
      "execution_count": 20,
      "outputs": []
    },
    {
      "cell_type": "code",
      "source": [
        "# generate training data\n",
        "t = np.random.choice(np.arange(-30,30, 0.5),50)\n",
        "t1 = []\n",
        "for i in range(len(t)):\n",
        "    t1.append([t[i], t[i]**2])\n",
        "    #t1.append([t[i], 0.0])\n",
        "s = []\n",
        "for i in range(len(t)):\n",
        "    s.append(fTest(t[i]))\n",
        "#t1 = np.array(t1)\n",
        "#s = np.array(s)\n",
        "xs = np.array(t1)\n",
        "ys=np.array(s)\n",
        "\n",
        "print(t1[1:3], s[1:3])\n",
        "\n",
        "\n",
        "# generate validation set\n",
        "v = np.random.choice(np.arange(-30,30, 0.5),50)\n",
        "v1 = []\n",
        "for i in range(len(v)):\n",
        "    v1.append([v[i], v[i]**2])\n",
        "    #v1.append([v[i], 0.0])\n",
        "u = []\n",
        "for i in range(len(v)):\n",
        "    u.append(fTest(v[i]))\n",
        "v1 = np.array(v1)\n",
        "u = np.array(u)\n",
        "\n",
        "plt.plot(t, s,'ob')\n",
        "plt.plot(v, u,'og')"
      ],
      "metadata": {
        "id": "wP6DjKoP-j2c"
      },
      "execution_count": null,
      "outputs": []
    },
    {
      "cell_type": "code",
      "metadata": {
        "id": "kKWj5Bz0zZ99"
      },
      "source": [
        "#generate prediction model\n",
        "model = keras.Sequential([\n",
        "    keras.layers.Dense(5, activation='relu', input_shape=(2,) , use_bias=True),\n",
        "    #keras.layers.Dense(3, activation='relu', input_shape=(2,) , use_bias=True),\n",
        "    keras.layers.Dense(1, activation='relu' , use_bias=True),\n",
        "])\n",
        "\n",
        "#compile the model\n",
        "model.compile(optimizer='sgd', \n",
        "              loss='mean_squared_logarithmic_error',\n",
        "              metrics=['mae'])\n",
        "\n",
        "#fit the model\n",
        "#model.fit(t1, s, batch_size=50, epochs=20, validation_data=(v1,u)) \n",
        "model.fit(xs, ys, batch_size=50, epochs=20, validation_data=(v1,u)) \n",
        "\n"
      ],
      "execution_count": null,
      "outputs": []
    },
    {
      "cell_type": "code",
      "source": [
        "#test and print results\n",
        "print(model.predict([[10.0,100.0]]))\n",
        "plt.plot([[10.0]], model.predict([[10.0,100.0]]), 'rx--')\n",
        "plt.plot(t[10:25], s[10:25],'ob')\n",
        "#plt.plot(v[10:25], u[1:15],'og')\n",
        "#plt.plot(xs,ys, marker='o')"
      ],
      "metadata": {
        "id": "R1JTTyNjDImP"
      },
      "execution_count": null,
      "outputs": []
    },
    {
      "cell_type": "markdown",
      "metadata": {
        "id": "XB0nBRZObHJK"
      },
      "source": [
        "# Example 4:\n",
        "English handwritten recognition"
      ]
    },
    {
      "cell_type": "code",
      "metadata": {
        "id": "LL1S3OhDbOuO"
      },
      "source": [
        "from __future__ import absolute_import, division, print_function\n",
        "\n",
        "import tensorflow as tf\n",
        "from tensorflow.keras import Model, layers\n",
        "import numpy as np"
      ],
      "execution_count": null,
      "outputs": []
    },
    {
      "cell_type": "code",
      "metadata": {
        "id": "t-kQZB0nbU6X"
      },
      "source": [
        "# MNIST dataset parameters.\n",
        "num_classes = 10 # total classes (0-9 digits).\n",
        "num_features = 784 # data features (img shape: 28*28).\n",
        "\n",
        "# Training parameters.\n",
        "learning_rate = 0.1\n",
        "training_steps = 2000\n",
        "batch_size = 256\n",
        "display_step = 100\n",
        "\n",
        "# Network parameters.\n",
        "n_hidden_1 = 128 # 1st layer number of neurons.\n",
        "n_hidden_2 = 256 # 2nd layer number of neurons."
      ],
      "execution_count": null,
      "outputs": []
    },
    {
      "cell_type": "code",
      "metadata": {
        "id": "Jk_mCCOybXae"
      },
      "source": [
        "# Prepare MNIST data.\n",
        "from tensorflow.keras.datasets import mnist\n",
        "(x_train, y_train), (x_test, y_test) = mnist.load_data()\n",
        "# Convert to float32.\n",
        "x_train, x_test = np.array(x_train, np.float32), np.array(x_test, np.float32)\n",
        "# Flatten images to 1-D vector of 784 features (28*28).\n",
        "x_train, x_test = x_train.reshape([-1, num_features]), x_test.reshape([-1, num_features])\n",
        "# Normalize images value from [0, 255] to [0, 1].\n",
        "x_train, x_test = x_train / 255., x_test / 255."
      ],
      "execution_count": null,
      "outputs": []
    },
    {
      "cell_type": "code",
      "metadata": {
        "id": "RAJ6wzxSbZ1O"
      },
      "source": [
        "# Use tf.data API to shuffle and batch data.\n",
        "train_data = tf.data.Dataset.from_tensor_slices((x_train, y_train))\n",
        "train_data = train_data.repeat().shuffle(5000).batch(batch_size).prefetch(1)"
      ],
      "execution_count": null,
      "outputs": []
    },
    {
      "cell_type": "code",
      "metadata": {
        "id": "dzHL0BQrbcbQ"
      },
      "source": [
        "# Create TF Model.\n",
        "class NeuralNet(Model):\n",
        "    # Set layers.\n",
        "    def __init__(self):\n",
        "        super(NeuralNet, self).__init__()\n",
        "        # First fully-connected hidden layer.\n",
        "        self.fc1 = layers.Dense(n_hidden_1, activation=tf.nn.relu)\n",
        "        # First fully-connected hidden layer.\n",
        "        self.fc2 = layers.Dense(n_hidden_2, activation=tf.nn.relu)\n",
        "        # Second fully-connecter hidden layer.\n",
        "        self.out = layers.Dense(num_classes)\n",
        "\n",
        "    # Set forward pass.\n",
        "    def call(self, x, is_training=False):\n",
        "        x = self.fc1(x)\n",
        "        x = self.fc2(x)\n",
        "        x = self.out(x)\n",
        "        if not is_training:\n",
        "            # tf cross entropy expect logits without softmax, so only\n",
        "            # apply softmax when not training.\n",
        "            x = tf.nn.softmax(x)\n",
        "        return x\n",
        "\n",
        "# Build neural network model.\n",
        "neural_net = NeuralNet()"
      ],
      "execution_count": null,
      "outputs": []
    },
    {
      "cell_type": "code",
      "metadata": {
        "id": "C_odQBuvbfmO"
      },
      "source": [
        "# Cross-Entropy Loss.\n",
        "# Note that this will apply 'softmax' to the logits.\n",
        "def cross_entropy_loss(x, y):\n",
        "    # Convert labels to int 64 for tf cross-entropy function.\n",
        "    y = tf.cast(y, tf.int64)\n",
        "    # Apply softmax to logits and compute cross-entropy.\n",
        "    loss = tf.nn.sparse_softmax_cross_entropy_with_logits(labels=y, logits=x)\n",
        "    # Average loss across the batch.\n",
        "    return tf.reduce_mean(loss)\n",
        "\n",
        "# Accuracy metric.\n",
        "def accuracy(y_pred, y_true):\n",
        "    # Predicted class is the index of highest score in prediction vector (i.e. argmax).\n",
        "    correct_prediction = tf.equal(tf.argmax(y_pred, 1), tf.cast(y_true, tf.int64))\n",
        "    return tf.reduce_mean(tf.cast(correct_prediction, tf.float32), axis=-1)\n",
        "\n",
        "# Stochastic gradient descent optimizer.\n",
        "optimizer = tf.optimizers.SGD(learning_rate)"
      ],
      "execution_count": null,
      "outputs": []
    },
    {
      "cell_type": "code",
      "metadata": {
        "id": "whz9vKYBbil2"
      },
      "source": [
        "# Optimization process. \n",
        "def run_optimization(x, y):\n",
        "    # Wrap computation inside a GradientTape for automatic differentiation.\n",
        "    with tf.GradientTape() as g:\n",
        "        # Forward pass.\n",
        "        pred = neural_net(x, is_training=True)\n",
        "        # Compute loss.\n",
        "        loss = cross_entropy_loss(pred, y)\n",
        "        \n",
        "    # Variables to update, i.e. trainable variables.\n",
        "    trainable_variables = neural_net.trainable_variables\n",
        "\n",
        "    # Compute gradients.\n",
        "    gradients = g.gradient(loss, trainable_variables)\n",
        "    \n",
        "    # Update W and b following gradients.\n",
        "    optimizer.apply_gradients(zip(gradients, trainable_variables))"
      ],
      "execution_count": null,
      "outputs": []
    },
    {
      "cell_type": "code",
      "metadata": {
        "id": "9NEPWrXsblSX"
      },
      "source": [
        "# Run training for the given number of steps.\n",
        "for step, (batch_x, batch_y) in enumerate(train_data.take(training_steps), 1):\n",
        "    # Run the optimization to update W and b values.\n",
        "    run_optimization(batch_x, batch_y)\n",
        "    \n",
        "    if step % display_step == 0:\n",
        "        pred = neural_net(batch_x, is_training=True)\n",
        "        loss = cross_entropy_loss(pred, batch_y)\n",
        "        acc = accuracy(pred, batch_y)\n",
        "        print(\"step: %i, loss: %f, accuracy: %f\" % (step, loss, acc))"
      ],
      "execution_count": null,
      "outputs": []
    },
    {
      "cell_type": "code",
      "metadata": {
        "id": "7KhB9bNgbn51"
      },
      "source": [
        "# Test model on validation set.\n",
        "pred = neural_net(x_test, is_training=False)\n",
        "print(\"Test Accuracy: %f\" % accuracy(pred, y_test))"
      ],
      "execution_count": null,
      "outputs": []
    },
    {
      "cell_type": "code",
      "metadata": {
        "id": "cCbZseiabqUj"
      },
      "source": [
        "# Visualize predictions.\n",
        "import matplotlib.pyplot as plt"
      ],
      "execution_count": null,
      "outputs": []
    },
    {
      "cell_type": "code",
      "metadata": {
        "id": "d7uJBTe6bs5V"
      },
      "source": [
        "# Predict 5 images from validation set.\n",
        "n_images = 5\n",
        "test_images = x_test[:n_images]\n",
        "predictions = neural_net(test_images)\n",
        "\n",
        "# Display image and model prediction.\n",
        "for i in range(n_images):\n",
        "    plt.imshow(np.reshape(test_images[i], [28, 28]), cmap='gray')\n",
        "    plt.show()\n",
        "    print(\"Model prediction: %i\" % np.argmax(predictions.numpy()[i]))"
      ],
      "execution_count": null,
      "outputs": []
    }
  ]
}